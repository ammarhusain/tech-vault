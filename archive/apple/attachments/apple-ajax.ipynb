{
 "cells": [
  {
   "cell_type": "code",
   "execution_count": null,
   "metadata": {},
   "outputs": [],
   "source": [
    "from afmchain.embeddings import AjaxEmbeddings\n",
    "from afmchain.api_key import generate_api_key\n",
    "import numpy as np\n",
    "\n",
    "api_key = generate_api_key()\n",
    "embeddings = AjaxEmbeddings(ajax_api_key=api_key)\n",
    "query_emb = embeddings.embed_query(\"tell me the rule of american football\")\n",
    "doc_embs = embeddings.embed_documents(\n",
    "    [\n",
    "        \"American football is played by two teams of 11 players each. The objective is to score points by advancing the ball into the opposing team's end zone or kicking it through their goalposts. Teams have four attempts, called downs, to move the ball at least 10 yards.\"\n",
    "    ]\n",
    ")\n",
    "print(np.dot(query_emb, doc_embs[0]))\n",
    "\n",
    "query_emb = embeddings.embed_query(\"tell me the rule of american football\")\n",
    "doc_embs = embeddings.embed_documents(\n",
    "    [\"first product of apple is the Apple I Computer\"]\n",
    ")\n",
    "print(np.dot(query_emb, doc_embs[0]))"
   ]
  },
  {
   "cell_type": "code",
   "execution_count": 111,
   "metadata": {},
   "outputs": [
    {
     "name": "stdout",
     "output_type": "stream",
     "text": [
      "dict_keys(['Package.swift', 'main.swift', 'KinematicsPoseProviderNode.swift', 'KinematicsInterface.swift', 'DomoKinematicsWrapper.swift', 'PoseProviderLogging.swift', 'casadiWrapper.swift', 'LotusPoseProvider.swift', 'locomotionctl.swift', 'LocomotionKitAssetsTests.swift'])\n"
     ]
    }
   ],
   "source": [
    "from langchain.chains import LLMChain\n",
    "from langchain.vectorstores import Chroma\n",
    "from langchain.text_splitter import CharacterTextSplitter, Document, RecursiveCharacterTextSplitter, Language\n",
    "\n",
    "def build_emb_docsearch_from_notes(notes):\n",
    "    \"\"\"\n",
    "    Build index with embedding\n",
    "    \"\"\"\n",
    "    # define a text splitter\n",
    "    # text_splitter = CharacterTextSplitter(\n",
    "    #     chunk_size=1024, chunk_overlap=0, separator=\" \"\n",
    "    # )\n",
    "\n",
    "    code_splitter = RecursiveCharacterTextSplitter.from_language(\n",
    "    language=Language.SWIFT, chunk_size=256, chunk_overlap=0\n",
    "    )\n",
    "    # construct document for each note body text\n",
    "    documents = [Document(page_content=note, metadata={'file':file}) for file, note in notes.items()]\n",
    "    # split texts\n",
    "    # texts = text_splitter.split_documents(documents)\n",
    "    texts = code_splitter.split_documents(documents)\n",
    "\n",
    "    # create vector index\n",
    "    db = Chroma(persist_directory=\"./chroma_db\")\n",
    "    docsearch = db.from_documents(\n",
    "        texts, embeddings, metadatas=[{\"source\": str(i)} for i in range(len(texts))]\n",
    "    )\n",
    "    db.persist()\n",
    "    return docsearch.as_retriever(search_type=\"mmr\")\n",
    "\n",
    "import os\n",
    "# write a function to recursively read in all the files in a repository given the folder path\n",
    "# and return a list of strings\n",
    "def read_files(folder_path):\n",
    "    txts = {}\n",
    "    for root, dirs, files in os.walk(folder_path):\n",
    "        for file in files:\n",
    "            if file.endswith(\".swift\"):  # Check if file has .swift extension\n",
    "                try:\n",
    "                    with open(os.path.join(root, file), \"r\", encoding=\"utf-8\") as f:\n",
    "                        txts[file] = f.read()\n",
    "                except:\n",
    "                    pass\n",
    "    return txts\n",
    "\n",
    "\n",
    "# code_files = read_files(\"/Users/ammarh/Documents/second-brain/vault-management/second-brain-web-search/\")\n",
    "code_files = read_files(\"/Users/ammarh/j595/Locomotion\")\n",
    "\n",
    "from itertools import islice\n",
    "first_10 = dict(islice(code_files.items(), 10))\n",
    "print(first_10.keys())\n",
    "\n",
    "db = build_emb_docsearch_from_notes(first_10)\n"
   ]
  },
  {
   "cell_type": "code",
   "execution_count": 109,
   "metadata": {},
   "outputs": [
    {
     "ename": "AttributeError",
     "evalue": "'VectorStoreRetriever' object has no attribute 'persist'",
     "output_type": "error",
     "traceback": [
      "\u001b[0;31m---------------------------------------------------------------------------\u001b[0m",
      "\u001b[0;31mAttributeError\u001b[0m                            Traceback (most recent call last)",
      "Cell \u001b[0;32mIn[109], line 1\u001b[0m\n\u001b[0;32m----> 1\u001b[0m db\u001b[39m.\u001b[39;49mpersist()\n",
      "\u001b[0;31mAttributeError\u001b[0m: 'VectorStoreRetriever' object has no attribute 'persist'"
     ]
    }
   ],
   "source": [
    "db2 = Chroma.load_from_disk(\"./chroma_db\")\n"
   ]
  },
  {
   "cell_type": "code",
   "execution_count": 107,
   "metadata": {},
   "outputs": [
    {
     "name": "stdout",
     "output_type": "stream",
     "text": [
      "results - {'file': 'casadiWrapper.swift'} ... \n",
      "results - {'file': 'LotusPoseProvider.swift'} ... \n",
      "results - {'file': 'locomotionctl.swift'} ... \n",
      "results - {'file': 'KinematicsInterface.swift'} ... \n"
     ]
    }
   ],
   "source": [
    "# query it\n",
    "query = \"Ammar Husain\"\n",
    "# docs = db.vectorstore.similarity_search_with_score(query)\n",
    "# print(docs[0][1])\n",
    "# print results\n",
    "# for doc in docs:\n",
    "#     print(f\"results - {doc[0].metadata} ... score= {doc[1]} ... {doc[0].page_content}\")\n",
    "\n",
    "docs = db.get_relevant_documents(query)\n",
    "for doc in docs:\n",
    "    print(f\"results - {doc.metadata} ... \")\n"
   ]
  }
 ],
 "metadata": {
  "kernelspec": {
   "display_name": "afm3",
   "language": "python",
   "name": "python3"
  },
  "language_info": {
   "codemirror_mode": {
    "name": "ipython",
    "version": 3
   },
   "file_extension": ".py",
   "mimetype": "text/x-python",
   "name": "python",
   "nbconvert_exporter": "python",
   "pygments_lexer": "ipython3",
   "version": "3.9.17"
  },
  "orig_nbformat": 4
 },
 "nbformat": 4,
 "nbformat_minor": 2
}
