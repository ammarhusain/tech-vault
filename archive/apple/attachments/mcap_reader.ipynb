{
 "cells": [
  {
   "cell_type": "code",
   "execution_count": 2,
   "metadata": {},
   "outputs": [],
   "source": [
    "from mcap.reader import make_reader\n",
    "from mcap_protobuf.decoder import Decoder\n",
    "\n",
    "import subprocess"
   ]
  },
  {
   "cell_type": "code",
   "execution_count": 3,
   "metadata": {},
   "outputs": [
    {
     "name": "stdout",
     "output_type": "stream",
     "text": [
      "['/Users/jdworakowski/Library/Developer/Xcode/DerivedData/MegaMotif-cldrpnpysyobuxeqgrojagsdgrfj/Build/Intermediates.noindex/InstallIntermediates/macosx/Intermediates.noindex/UninstalledProducts/macosx/MotifPanel.bundle/Contents/MacOS//MotifTools freerun /Users/jdworakowski/Downloads/2DB4BBDD-D15F-4BD0-884D-10C09F132285.mcap --output-path /Users/jdworakowski/Downloads/2DB4BBDD-D15F-4BD0-884D-10C09F132285.mcap.new.mcap']\n",
      "CompletedProcess(args=['/Users/jdworakowski/Library/Developer/Xcode/DerivedData/MegaMotif-cldrpnpysyobuxeqgrojagsdgrfj/Build/Intermediates.noindex/InstallIntermediates/macosx/Intermediates.noindex/UninstalledProducts/macosx/MotifPanel.bundle/Contents/MacOS//MotifTools', 'freerun', '/Users/jdworakowski/Downloads/2DB4BBDD-D15F-4BD0-884D-10C09F132285.mcap', '--output-path', '/Users/jdworakowski/Downloads/2DB4BBDD-D15F-4BD0-884D-10C09F132285.mcap.new.mcap'], returncode=0)\n"
     ]
    }
   ],
   "source": [
    "MCAP_PATH = \"/Users/jdworakowski/Downloads/2DB4BBDD-D15F-4BD0-884D-10C09F132285.mcap\"\n",
    "class MotifToolExecutor(object):\n",
    "  BUILD_FOLDER_PATH = \"/Users/jdworakowski/Library/Developer/Xcode/DerivedData/MegaMotif-cldrpnpysyobuxeqgrojagsdgrfj/Build/Intermediates.noindex/InstallIntermediates/macosx/Intermediates.noindex/UninstalledProducts/macosx/MotifPanel.bundle/Contents/MacOS/\"\n",
    "  EXE_RELATIVE_PATH = \"MotifTools\"\n",
    "  FREE_RUN_CMD = \"freerun\"\n",
    "\n",
    "  def __init__(self, path_to_exe=None):\n",
    "    if path_to_exe is None:\n",
    "      self.path_to_exe = self.BUILD_FOLDER_PATH + \"/\" + self.EXE_RELATIVE_PATH\n",
    "\n",
    "  def run(self, path, new_path):\n",
    "    print([self.path_to_exe + \" \" + self.FREE_RUN_CMD + \" \" + path +  \" --output-path \" + new_path])\n",
    "    res = subprocess.run([self.path_to_exe, self.FREE_RUN_CMD, path, \"--output-path\", new_path])\n",
    "    print(res)\n",
    "\n",
    "executor = MotifToolExecutor()\n",
    "executor.run(MCAP_PATH, MCAP_PATH + \".new.mcap\")\n"
   ]
  },
  {
   "cell_type": "code",
   "execution_count": 8,
   "metadata": {},
   "outputs": [
    {
     "ename": "NameError",
     "evalue": "name 'MotifToolExecutor' is not defined",
     "output_type": "error",
     "traceback": [
      "\u001b[0;31m---------------------------------------------------------------------------\u001b[0m",
      "\u001b[0;31mNameError\u001b[0m                                 Traceback (most recent call last)",
      "\u001b[0;32m<ipython-input-8-90934b93d842>\u001b[0m in \u001b[0;36m<module>\u001b[0;34m\u001b[0m\n\u001b[0;32m----> 1\u001b[0;31m \u001b[0mexecutor\u001b[0m \u001b[0;34m=\u001b[0m \u001b[0mMotifToolExecutor\u001b[0m\u001b[0;34m(\u001b[0m\u001b[0;34m)\u001b[0m\u001b[0;34m\u001b[0m\u001b[0;34m\u001b[0m\u001b[0m\n\u001b[0m\u001b[1;32m      2\u001b[0m \u001b[0mexecutor\u001b[0m\u001b[0;34m.\u001b[0m\u001b[0mrun\u001b[0m\u001b[0;34m(\u001b[0m\u001b[0mMCAP_PATH\u001b[0m\u001b[0;34m)\u001b[0m\u001b[0;34m\u001b[0m\u001b[0;34m\u001b[0m\u001b[0m\n\u001b[1;32m      3\u001b[0m \u001b[0;34m\u001b[0m\u001b[0m\n\u001b[1;32m      4\u001b[0m \u001b[0;32mwith\u001b[0m \u001b[0mopen\u001b[0m\u001b[0;34m(\u001b[0m\u001b[0mMCAP_PATH\u001b[0m\u001b[0;34m,\u001b[0m \u001b[0;34m\"rb\"\u001b[0m\u001b[0;34m)\u001b[0m \u001b[0;32mas\u001b[0m \u001b[0mf\u001b[0m\u001b[0;34m:\u001b[0m\u001b[0;34m\u001b[0m\u001b[0;34m\u001b[0m\u001b[0m\n\u001b[1;32m      5\u001b[0m     \u001b[0mreader\u001b[0m \u001b[0;34m=\u001b[0m \u001b[0mmake_reader\u001b[0m\u001b[0;34m(\u001b[0m\u001b[0mf\u001b[0m\u001b[0;34m)\u001b[0m\u001b[0;34m\u001b[0m\u001b[0;34m\u001b[0m\u001b[0m\n",
      "\u001b[0;31mNameError\u001b[0m: name 'MotifToolExecutor' is not defined"
     ]
    }
   ],
   "source": [
    "with open(MCAP_PATH, \"rb\") as f:\n",
    "    reader = make_reader(f)\n",
    "    for schema, channel, message in reader.iter_messages():\n",
    "        if schema.encoding == \"protobuf\":\n",
    "          decoder = Decoder()\n",
    "          proto_msg = decoder.decode(schema=schema, message=message)\n",
    "          # print(f\"{channel.topic} ({schema.name}): {message.data} {proto_msg}\")\n",
    "          # break"
   ]
  }
 ],
 "metadata": {
  "kernelspec": {
   "display_name": "Python 3",
   "language": "python",
   "name": "python3"
  },
  "language_info": {
   "codemirror_mode": {
    "name": "ipython",
    "version": 3
   },
   "file_extension": ".py",
   "mimetype": "text/x-python",
   "name": "python",
   "nbconvert_exporter": "python",
   "pygments_lexer": "ipython3",
   "version": "3.7.16"
  }
 },
 "nbformat": 4,
 "nbformat_minor": 2
}
