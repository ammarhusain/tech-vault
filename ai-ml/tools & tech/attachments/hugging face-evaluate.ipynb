{
 "cells": [
  {
   "cell_type": "code",
   "execution_count": null,
   "metadata": {},
   "outputs": [],
   "source": [
    "#!pip install evaluate\n",
    "!pip install scikit-learn"
   ]
  },
  {
   "cell_type": "code",
   "execution_count": null,
   "metadata": {},
   "outputs": [],
   "source": [
    "import evaluate\n",
    "print(evaluate.load('f1').compute(references=['hello'], predictions=['hello']))"
   ]
  },
  {
   "cell_type": "code",
   "execution_count": null,
   "metadata": {},
   "outputs": [],
   "source": [
    "evaluate.load('f1')"
   ]
  },
  {
   "cell_type": "code",
   "execution_count": null,
   "metadata": {},
   "outputs": [],
   "source": [
    "evaluate.list_evaluation_modules(\n",
    "  module_type=\"metric\",include_community=False,\n",
    "  with_details=True)\n"
   ]
  },
  {
   "cell_type": "markdown",
   "metadata": {},
   "source": [
    "  include_community=False,\n",
    "  with_details=True)"
   ]
  },
  {
   "cell_type": "code",
   "execution_count": null,
   "metadata": {},
   "outputs": [],
   "source": [
    "# point comet_ml SDK to 17.220.14.223 installation\n",
    "import os\n",
    "os.environ[\"COMET_URL_OVERRIDE\"] = \"http://17.220.14.223/clientlib/\"\n",
    "\n",
    "from comet_ml import Experiment\n",
    "from comet_ml.integration.pytorch import log_model\n",
    "\n",
    "experiment = Experiment(\n",
    "  api_key=\"viG5OIqNNBnZWlRn5opWCVnO6\",\n",
    "  project_name=\"general\",\n",
    "  workspace=\"ammarh\"\n",
    ")"
   ]
  },
  {
   "cell_type": "code",
   "execution_count": null,
   "metadata": {},
   "outputs": [],
   "source": [
    "# Report multiple hyperparameters using a dictionary:\n",
    "hyper_params = {\n",
    "   \"learning_rate\": 0.5,\n",
    "   \"steps\": 100000,\n",
    "   \"batch_size\": 50,\n",
    "}\n",
    "experiment.log_parameters(hyper_params)\n",
    "\n",
    "# Initialize and train your model\n",
    "# model = TheModelClass()\n",
    "# train(model)\n",
    "\n",
    "# Seamlessly log your Pytorch model\n",
    "# log_model(experiment, model, model_name=\"TheModel\")"
   ]
  },
  {
   "cell_type": "code",
   "execution_count": null,
   "metadata": {},
   "outputs": [],
   "source": [
    "# point comet_llm SDK to 17.220.14.223 installation\n",
    "import os\n",
    "os.environ[\"COMET_URL_OVERRIDE\"] = \"http://17.220.14.223/clientlib/\"\n",
    "\n",
    "import comet_llm\n",
    "\n",
    "comet_llm.log_prompt(\n",
    "    api_key = \"viG5OIqNNBnZWlRn5opWCVnO6\",\n",
    "    project = \"llm-general\",\n",
    "    prompt = \"I ask it a question ----0 \",\n",
    "    output = \"I get an answer back\",\n",
    "    tags = [\"prompt\", \"foobar-llm\"]\n",
    ")"
   ]
  }
 ],
 "metadata": {
  "kernelspec": {
   "display_name": "Python 3 (ipykernel)",
   "language": "python",
   "name": "python3"
  },
  "language_info": {
   "codemirror_mode": {
    "name": "ipython",
    "version": 3
   },
   "file_extension": ".py",
   "mimetype": "text/x-python",
   "name": "python",
   "nbconvert_exporter": "python",
   "pygments_lexer": "ipython3",
   "version": "3.11.3"
  }
 },
 "nbformat": 4,
 "nbformat_minor": 2
}
