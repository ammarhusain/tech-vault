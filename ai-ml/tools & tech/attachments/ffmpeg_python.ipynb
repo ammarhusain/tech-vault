{
  "nbformat": 4,
  "nbformat_minor": 0,
  "metadata": {
    "colab": {
      "provenance": [],
      "collapsed_sections": []
    },
    "kernelspec": {
      "name": "python3",
      "display_name": "Python 3"
    },
    "language_info": {
      "name": "python"
    }
  },
  "cells": [
    {
      "cell_type": "markdown",
      "source": [
        "FFMPEG-Python\n",
        "[doc](https://kkroening.github.io/ffmpeg-python/index.html?highlight=drawtext#ffmpeg.drawtext)"
      ],
      "metadata": {
        "id": "yuwO-gSB6FjZ"
      }
    },
    {
      "cell_type": "code",
      "execution_count": null,
      "metadata": {
        "colab": {
          "base_uri": "https://localhost:8080/"
        },
        "id": "GB-K1aSFQMaP",
        "outputId": "c6afbf97-2a28-4a7a-9fa9-a2d59c8872ed"
      },
      "outputs": [
        {
          "output_type": "stream",
          "name": "stdout",
          "text": [
            "cs285_homework_fall2019  cs285_solns  environment.yml\n",
            "no change     /usr/local/google/home/ammarh/anaconda3/condabin/conda\n",
            "no change     /usr/local/google/home/ammarh/anaconda3/bin/conda\n",
            "no change     /usr/local/google/home/ammarh/anaconda3/bin/conda-env\n",
            "no change     /usr/local/google/home/ammarh/anaconda3/bin/activate\n",
            "no change     /usr/local/google/home/ammarh/anaconda3/bin/deactivate\n",
            "no change     /usr/local/google/home/ammarh/anaconda3/etc/profile.d/conda.sh\n",
            "no change     /usr/local/google/home/ammarh/anaconda3/etc/fish/conf.d/conda.fish\n",
            "no change     /usr/local/google/home/ammarh/anaconda3/shell/condabin/Conda.psm1\n",
            "no change     /usr/local/google/home/ammarh/anaconda3/shell/condabin/conda-hook.ps1\n",
            "no change     /usr/local/google/home/ammarh/anaconda3/lib/python3.7/site-packages/xontrib/conda.xsh\n",
            "no change     /usr/local/google/home/ammarh/anaconda3/etc/profile.d/conda.csh\n",
            "no change     /usr/local/google/home/ammarh/.bashrc\n",
            "No action taken.\n",
            "\n",
            "CommandNotFoundError: Your shell has not been properly configured to use 'conda activate'.\n",
            "To initialize your shell, run\n",
            "\n",
            "    $ conda init <SHELL_NAME>\n",
            "\n",
            "Currently supported shells are:\n",
            "  - bash\n",
            "  - fish\n",
            "  - tcsh\n",
            "  - xonsh\n",
            "  - zsh\n",
            "  - powershell\n",
            "\n",
            "See 'conda init --help' for more information and options.\n",
            "\n",
            "IMPORTANT: You may need to close and restart your shell after running 'conda init'.\n",
            "\n",
            "\n"
          ]
        }
      ],
      "source": [
        "#!pip install ffmpeg-python\n",
        "# !ls\n",
        "# !conda init bash\n",
        "# !conda activate cs285_env"
      ]
    },
    {
      "cell_type": "code",
      "source": [
        "import glob, os, ffmpeg\n",
        "\n",
        "def create_gif_from_videos(videos_path, out_filename):\n",
        "  video_files = []\n",
        "  print(f\"Processing {videos_path} ; out_filename {out_filename}\")\n",
        "  ffmpeg_inputs = [ffmpeg.drawtext(ffmpeg.input(file), \n",
        "                                  text=f'Trial #{i+1}', fontcolor='Green', fontsize=15, x='w-tw-10', y='h-th-2') #x=-10, y=-10) \n",
        "                                  for i, file in enumerate(sorted(glob.glob(videos_path+\"/*.mp4\")))]\n",
        "\n",
        "  stream = ffmpeg.concat(*ffmpeg_inputs)\n",
        "  stream = ffmpeg.output(stream, out_filename + '.gif')\n",
        "  stream = stream.overwrite_output()\n",
        "  # print(*stream.compile())\n",
        "\n",
        "  ffmpeg.run(stream)\n"
      ],
      "metadata": {
        "id": "yyN21R8Dj20g"
      },
      "execution_count": null,
      "outputs": []
    },
    {
      "cell_type": "code",
      "source": [
        "GIFIFY_DIR = \"cs285_homework_fall2019/hw3\"\n",
        "#!mkdir -p GIFIFY_DIR + \"/gifs/\"\n",
        "for dirpath, dirnames, filenames in os.walk(GIFIFY_DIR):\n",
        "    # check if any of the files are .mp4\n",
        "    if any('mp4' in s for s in filenames):# and any('ong' in s for s in filenames):\n",
        "      # create an ffmpeg gif from this directory\n",
        "      print(f\"filenames {filenames}\")\n",
        "      create_gif_from_videos(videos_path=dirpath, out_filename=GIFIFY_DIR + \"/gifs/\" + dirpath.split(os.sep)[-2])\n",
        "\n",
        "\n",
        "    # print(f\"filenames {filenames}\")\n",
        "    # print(dirnames)\n",
        "    # # offset = len(dirpath.split(os.sep))\n",
        "    # print(\"    \" * (offset - 1), dirpath, sep=\"\")\n",
        "    # for a_file in filenames:\n",
        "    #     print(\"    \" * offset, a_file, sep=\"\")"
      ],
      "metadata": {
        "id": "jtVa_P44tt9A",
        "colab": {
          "base_uri": "https://localhost:8080/"
        },
        "outputId": "9a947896-e476-4ca7-dc9b-9f428db4891c"
      },
      "execution_count": null,
      "outputs": [
        {
          "output_type": "stream",
          "name": "stdout",
          "text": [
            "filenames ['openaigym.video.0.2967460.video000200.meta.json', 'openaigym.video.0.2967460.video000400.mp4', 'openaigym.video.0.2967460.video000600.meta.json', 'openaigym.manifest.0.2967460.manifest.json', 'openaigym.video.0.2967460.video000200.mp4', 'openaigym.video.0.2967460.video000600.mp4', 'openaigym.video.0.2967460.video000800.meta.json', 'openaigym.video.0.2967460.video000000.mp4', 'openaigym.video.0.2967460.video000000.meta.json', 'openaigym.episode_batch.0.2967460.stats.json', 'openaigym.video.0.2967460.video000400.meta.json', 'openaigym.video.0.2967460.video000800.mp4']\n",
            "Processing cs285_homework_fall2019/hw3/cs285/data/dqn_rnr_q1_PongNoFrameskip-v4_15-07-2020_21-46-16/gym ; out_filename cs285_homework_fall2019/hw3/gifs/dqn_rnr_q1_PongNoFrameskip-v4_15-07-2020_21-46-16\n",
            "filenames ['openaigym.video.0.42576.video000001.meta.json', 'openaigym.manifest.0.42576.manifest.json', 'openaigym.video.0.42576.video000729.mp4', 'openaigym.video.0.42576.video000008.mp4', 'openaigym.video.0.42576.video000125.mp4', 'openaigym.video.0.42576.video000512.mp4', 'openaigym.video.0.42576.video000008.meta.json', 'openaigym.video.0.42576.video000027.meta.json', 'openaigym.video.0.42576.video000512.meta.json', 'openaigym.episode_batch.0.42576.stats.json', 'openaigym.video.0.42576.video000343.meta.json', 'openaigym.video.0.42576.video000000.meta.json', 'openaigym.video.0.42576.video000027.mp4', 'openaigym.video.0.42576.video000125.meta.json', 'openaigym.video.0.42576.video000000.mp4', 'openaigym.video.0.42576.video000216.mp4', 'openaigym.video.0.42576.video000216.meta.json', 'openaigym.video.0.42576.video000001.mp4', 'openaigym.video.0.42576.video000343.mp4', 'openaigym.video.0.42576.video000064.meta.json', 'openaigym.video.0.42576.video000064.mp4', 'openaigym.video.0.42576.video000729.meta.json']\n",
            "Processing cs285_homework_fall2019/hw3/cs285/data/dqn_q1_gpu0_PongNoFrameskip-v4_04-04-2020_23-05-01/gym ; out_filename cs285_homework_fall2019/hw3/gifs/dqn_q1_gpu0_PongNoFrameskip-v4_04-04-2020_23-05-01\n",
            "filenames ['openaigym.video.0.187245.video000343.mp4', 'openaigym.video.0.187245.video000008.mp4', 'openaigym.video.0.187245.video014000.mp4', 'openaigym.video.0.187245.video030000.mp4', 'openaigym.video.0.187245.video022000.mp4', 'openaigym.video.0.187245.video000729.meta.json', 'openaigym.video.0.187245.video019000.mp4', 'openaigym.video.0.187245.video000216.meta.json', 'openaigym.video.0.187245.video014000.meta.json', 'openaigym.video.0.187245.video012000.mp4', 'openaigym.video.0.187245.video009000.mp4', 'openaigym.video.0.187245.video000000.meta.json', 'openaigym.video.0.187245.video026000.meta.json', 'openaigym.video.0.187245.video013000.mp4', 'openaigym.video.0.187245.video029000.mp4', 'openaigym.video.0.187245.video020000.mp4', 'openaigym.video.0.187245.video004000.meta.json', 'openaigym.video.0.187245.video022000.meta.json', 'openaigym.video.0.187245.video018000.meta.json', 'openaigym.video.0.187245.video000512.meta.json', 'openaigym.video.0.187245.video032000.mp4', 'openaigym.video.0.187245.video000216.mp4', 'openaigym.video.0.187245.video008000.mp4', 'openaigym.video.0.187245.video010000.meta.json', 'openaigym.video.0.187245.video026000.mp4', 'openaigym.video.0.187245.video030000.meta.json', 'openaigym.video.0.187245.video009000.meta.json', 'openaigym.video.0.187245.video037000.meta.json', 'openaigym.video.0.187245.video006000.meta.json', 'openaigym.video.0.187245.video035000.mp4', 'openaigym.episode_batch.0.187245.stats.json', 'openaigym.video.0.187245.video031000.mp4', 'openaigym.video.0.187245.video007000.mp4', 'openaigym.video.0.187245.video001000.meta.json', 'openaigym.video.0.187245.video002000.meta.json', 'openaigym.video.0.187245.video025000.meta.json', 'openaigym.video.0.187245.video034000.mp4', 'openaigym.video.0.187245.video038000.mp4', 'openaigym.video.0.187245.video024000.meta.json', 'openaigym.video.0.187245.video015000.mp4', 'openaigym.video.0.187245.video033000.mp4', 'openaigym.video.0.187245.video017000.meta.json', 'openaigym.video.0.187245.video013000.meta.json', 'openaigym.video.0.187245.video036000.meta.json', 'openaigym.video.0.187245.video017000.mp4', 'openaigym.video.0.187245.video000001.meta.json', 'openaigym.video.0.187245.video000008.meta.json', 'openaigym.video.0.187245.video028000.meta.json', 'openaigym.video.0.187245.video000729.mp4', 'openaigym.video.0.187245.video012000.meta.json', 'openaigym.video.0.187245.video000512.mp4', 'openaigym.video.0.187245.video000064.mp4', 'openaigym.video.0.187245.video004000.mp4', 'openaigym.video.0.187245.video035000.meta.json', 'openaigym.video.0.187245.video031000.meta.json', 'openaigym.video.0.187245.video021000.meta.json', 'openaigym.video.0.187245.video000001.mp4', 'openaigym.video.0.187245.video028000.mp4', 'openaigym.video.0.187245.video003000.mp4', 'openaigym.video.0.187245.video011000.meta.json', 'openaigym.video.0.187245.video020000.meta.json', 'openaigym.video.0.187245.video027000.mp4', 'openaigym.video.0.187245.video023000.meta.json', 'openaigym.video.0.187245.video008000.meta.json', 'openaigym.video.0.187245.video003000.meta.json', 'openaigym.video.0.187245.video016000.mp4', 'openaigym.video.0.187245.video024000.mp4', 'openaigym.video.0.187245.video005000.meta.json', 'openaigym.video.0.187245.video036000.mp4', 'openaigym.video.0.187245.video021000.mp4', 'openaigym.video.0.187245.video000027.mp4', 'openaigym.video.0.187245.video002000.mp4', 'openaigym.manifest.0.187245.manifest.json', 'openaigym.video.0.187245.video018000.mp4', 'openaigym.video.0.187245.video029000.meta.json', 'openaigym.video.0.187245.video000343.meta.json', 'openaigym.video.0.187245.video006000.mp4', 'openaigym.video.0.187245.video000064.meta.json', 'openaigym.video.0.187245.video000027.meta.json', 'openaigym.video.0.187245.video034000.meta.json', 'openaigym.video.0.187245.video015000.meta.json', 'openaigym.video.0.187245.video025000.mp4', 'openaigym.video.0.187245.video016000.meta.json', 'openaigym.video.0.187245.video005000.mp4', 'openaigym.video.0.187245.video037000.mp4', 'openaigym.video.0.187245.video032000.meta.json', 'openaigym.video.0.187245.video023000.mp4', 'openaigym.video.0.187245.video038000.meta.json', 'openaigym.video.0.187245.video010000.mp4', 'openaigym.video.0.187245.video011000.mp4', 'openaigym.video.0.187245.video019000.meta.json', 'openaigym.video.0.187245.video027000.meta.json', 'openaigym.video.0.187245.video000125.meta.json', 'openaigym.video.0.187245.video000125.mp4', 'openaigym.video.0.187245.video007000.meta.json', 'openaigym.video.0.187245.video001000.mp4', 'openaigym.video.0.187245.video033000.meta.json', 'openaigym.video.0.187245.video000000.mp4']\n",
            "Processing cs285_homework_fall2019/hw3/cs285/data/dqn_rnr_q1_PongNoFrameskip-v4_05-04-2020_11-28-35/gym ; out_filename cs285_homework_fall2019/hw3/gifs/dqn_rnr_q1_PongNoFrameskip-v4_05-04-2020_11-28-35\n",
            "filenames ['openaigym.video.0.79313.video000000.mp4', 'openaigym.episode_batch.0.79313.stats.json', 'openaigym.manifest.0.79313.manifest.json', 'openaigym.video.0.79313.video000000.meta.json']\n",
            "Processing cs285_homework_fall2019/hw3/cs285/data/dqn_graph_LunarLander-v2_08-04-2020_17-56-39/gym ; out_filename cs285_homework_fall2019/hw3/gifs/dqn_graph_LunarLander-v2_08-04-2020_17-56-39\n",
            "filenames ['openaigym.video.0.201310.video018800.meta.json', 'openaigym.video.0.201310.video005600.meta.json', 'openaigym.video.0.201310.video028800.mp4', 'openaigym.video.0.201310.video016600.meta.json', 'openaigym.video.0.201310.video009200.meta.json', 'openaigym.video.0.201310.video034200.meta.json', 'openaigym.video.0.201310.video029400.meta.json', 'openaigym.video.0.201310.video011600.mp4', 'openaigym.video.0.201310.video024000.mp4', 'openaigym.video.0.201310.video031400.mp4', 'openaigym.video.0.201310.video006000.mp4', 'openaigym.video.0.201310.video001200.mp4', 'openaigym.video.0.201310.video025000.mp4', 'openaigym.video.0.201310.video032200.mp4', 'openaigym.video.0.201310.video017600.meta.json', 'openaigym.video.0.201310.video014000.mp4', 'openaigym.video.0.201310.video008800.meta.json', 'openaigym.video.0.201310.video018000.mp4', 'openaigym.video.0.201310.video026400.meta.json', 'openaigym.video.0.201310.video024800.mp4', 'openaigym.video.0.201310.video000600.meta.json', 'openaigym.video.0.201310.video011400.mp4', 'openaigym.video.0.201310.video023800.mp4', 'openaigym.episode_batch.0.201310.stats.json', 'openaigym.video.0.201310.video031000.mp4', 'openaigym.video.0.201310.video007400.meta.json', 'openaigym.video.0.201310.video008600.mp4', 'openaigym.video.0.201310.video009400.mp4', 'openaigym.video.0.201310.video018400.meta.json', 'openaigym.video.0.201310.video006400.meta.json', 'openaigym.video.0.201310.video002200.meta.json', 'openaigym.video.0.201310.video009800.mp4', 'openaigym.video.0.201310.video010200.meta.json', 'openaigym.video.0.201310.video003800.meta.json', 'openaigym.video.0.201310.video030800.meta.json', 'openaigym.video.0.201310.video010000.mp4', 'openaigym.video.0.201310.video033400.mp4', 'openaigym.video.0.201310.video000200.mp4', 'openaigym.video.0.201310.video012000.meta.json', 'openaigym.video.0.201310.video003200.mp4', 'openaigym.video.0.201310.video025200.meta.json', 'openaigym.video.0.201310.video011800.mp4', 'openaigym.video.0.201310.video001800.mp4', 'openaigym.video.0.201310.video028000.meta.json', 'openaigym.video.0.201310.video028400.mp4', 'openaigym.video.0.201310.video010600.mp4', 'openaigym.video.0.201310.video019000.mp4', 'openaigym.video.0.201310.video009000.meta.json', 'openaigym.video.0.201310.video008400.meta.json', 'openaigym.video.0.201310.video002000.mp4', 'openaigym.video.0.201310.video030200.mp4', 'openaigym.video.0.201310.video012200.meta.json', 'openaigym.video.0.201310.video014600.meta.json', 'openaigym.video.0.201310.video011200.meta.json', 'openaigym.video.0.201310.video013600.mp4', 'openaigym.video.0.201310.video015600.meta.json', 'openaigym.video.0.201310.video029200.meta.json', 'openaigym.video.0.201310.video026800.mp4', 'openaigym.video.0.201310.video027600.mp4', 'openaigym.video.0.201310.video019800.mp4', 'openaigym.video.0.201310.video023000.meta.json', 'openaigym.video.0.201310.video004400.mp4', 'openaigym.video.0.201310.video022200.meta.json', 'openaigym.video.0.201310.video009000.mp4', 'openaigym.video.0.201310.video002200.mp4', 'openaigym.video.0.201310.video033200.meta.json', 'openaigym.video.0.201310.video014800.mp4', 'openaigym.video.0.201310.video013800.mp4', 'openaigym.video.0.201310.video017200.meta.json', 'openaigym.video.0.201310.video005800.meta.json', 'openaigym.video.0.201310.video015000.meta.json', 'openaigym.video.0.201310.video018200.meta.json', 'openaigym.video.0.201310.video001200.meta.json', 'openaigym.video.0.201310.video008800.mp4', 'openaigym.video.0.201310.video016400.mp4', 'openaigym.video.0.201310.video020600.mp4', 'openaigym.video.0.201310.video023600.meta.json', 'openaigym.video.0.201310.video020000.mp4', 'openaigym.video.0.201310.video011400.meta.json', 'openaigym.video.0.201310.video013200.mp4', 'openaigym.video.0.201310.video010600.meta.json', 'openaigym.video.0.201310.video032600.mp4', 'openaigym.video.0.201310.video004000.meta.json', 'openaigym.video.0.201310.video004800.mp4', 'openaigym.video.0.201310.video000000.mp4', 'openaigym.video.0.201310.video017800.meta.json', 'openaigym.video.0.201310.video028200.meta.json', 'openaigym.video.0.201310.video020200.meta.json', 'openaigym.video.0.201310.video020800.mp4', 'openaigym.video.0.201310.video004200.meta.json', 'openaigym.video.0.201310.video004000.mp4', 'openaigym.video.0.201310.video006200.mp4', 'openaigym.video.0.201310.video033600.meta.json', 'openaigym.video.0.201310.video021200.mp4', 'openaigym.video.0.201310.video022000.meta.json', 'openaigym.video.0.201310.video029600.meta.json', 'openaigym.video.0.201310.video025600.meta.json', 'openaigym.video.0.201310.video024800.meta.json', 'openaigym.video.0.201310.video026600.meta.json', 'openaigym.video.0.201310.video020000.meta.json', 'openaigym.video.0.201310.video028600.mp4', 'openaigym.video.0.201310.video032400.meta.json', 'openaigym.video.0.201310.video021800.mp4', 'openaigym.video.0.201310.video029200.mp4', 'openaigym.video.0.201310.video026200.mp4', 'openaigym.video.0.201310.video025200.mp4', 'openaigym.video.0.201310.video004600.mp4', 'openaigym.video.0.201310.video013000.meta.json', 'openaigym.video.0.201310.video016600.mp4', 'openaigym.video.0.201310.video012400.meta.json', 'openaigym.video.0.201310.video032800.mp4', 'openaigym.video.0.201310.video011000.meta.json', 'openaigym.video.0.201310.video000200.meta.json', 'openaigym.video.0.201310.video005000.mp4', 'openaigym.video.0.201310.video008000.meta.json', 'openaigym.video.0.201310.video022600.mp4', 'openaigym.video.0.201310.video016000.meta.json', 'openaigym.video.0.201310.video000800.mp4', 'openaigym.video.0.201310.video024200.mp4', 'openaigym.video.0.201310.video025400.mp4', 'openaigym.video.0.201310.video022800.mp4', 'openaigym.video.0.201310.video028800.meta.json', 'openaigym.video.0.201310.video015600.mp4', 'openaigym.video.0.201310.video010400.meta.json', 'openaigym.video.0.201310.video019600.meta.json', 'openaigym.video.0.201310.video013000.mp4', 'openaigym.video.0.201310.video013600.meta.json', 'openaigym.video.0.201310.video000400.mp4', 'openaigym.video.0.201310.video012000.mp4', 'openaigym.video.0.201310.video002600.mp4', 'openaigym.video.0.201310.video029000.meta.json', 'openaigym.video.0.201310.video027000.meta.json', 'openaigym.video.0.201310.video027400.meta.json', 'openaigym.video.0.201310.video022400.mp4', 'openaigym.video.0.201310.video019800.meta.json', 'openaigym.video.0.201310.video012800.meta.json', 'openaigym.video.0.201310.video006800.mp4', 'openaigym.video.0.201310.video010000.meta.json', 'openaigym.video.0.201310.video020400.mp4', 'openaigym.video.0.201310.video021000.meta.json', 'openaigym.video.0.201310.video027200.meta.json', 'openaigym.video.0.201310.video019400.meta.json', 'openaigym.video.0.201310.video000000.meta.json', 'openaigym.video.0.201310.video016800.meta.json', 'openaigym.video.0.201310.video032400.mp4', 'openaigym.video.0.201310.video027800.mp4', 'openaigym.video.0.201310.video016200.meta.json', 'openaigym.video.0.201310.video032000.mp4', 'openaigym.video.0.201310.video025000.meta.json', 'openaigym.video.0.201310.video029800.mp4', 'openaigym.video.0.201310.video030600.meta.json', 'openaigym.video.0.201310.video003400.meta.json', 'openaigym.video.0.201310.video007000.mp4', 'openaigym.video.0.201310.video033600.mp4', 'openaigym.video.0.201310.video009800.meta.json', 'openaigym.video.0.201310.video015800.meta.json', 'openaigym.video.0.201310.video034200.mp4', 'openaigym.video.0.201310.video021600.meta.json', 'openaigym.video.0.201310.video031800.meta.json', 'openaigym.video.0.201310.video021000.mp4', 'openaigym.video.0.201310.video010200.mp4', 'openaigym.video.0.201310.video023600.mp4', 'openaigym.video.0.201310.video018000.meta.json', 'openaigym.video.0.201310.video009200.mp4', 'openaigym.video.0.201310.video014600.mp4', 'openaigym.video.0.201310.video009400.meta.json', 'openaigym.video.0.201310.video012600.mp4', 'openaigym.video.0.201310.video009600.mp4', 'openaigym.video.0.201310.video003000.meta.json', 'openaigym.video.0.201310.video020400.meta.json', 'openaigym.video.0.201310.video014400.mp4', 'openaigym.video.0.201310.video021600.mp4', 'openaigym.video.0.201310.video027200.mp4', 'openaigym.video.0.201310.video018200.mp4', 'openaigym.manifest.0.201310.manifest.json', 'openaigym.video.0.201310.video026000.meta.json', 'openaigym.video.0.201310.video033400.meta.json', 'openaigym.video.0.201310.video023200.meta.json', 'openaigym.video.0.201310.video028200.mp4', 'openaigym.video.0.201310.video032200.meta.json', 'openaigym.video.0.201310.video024600.meta.json', 'openaigym.video.0.201310.video022800.meta.json', 'openaigym.video.0.201310.video022600.meta.json', 'openaigym.video.0.201310.video008000.mp4', 'openaigym.video.0.201310.video016000.mp4', 'openaigym.video.0.201310.video033000.meta.json', 'openaigym.video.0.201310.video003000.mp4', 'openaigym.video.0.201310.video005600.mp4', 'openaigym.video.0.201310.video017400.meta.json', 'openaigym.video.0.201310.video031000.meta.json', 'openaigym.video.0.201310.video032800.meta.json', 'openaigym.video.0.201310.video001600.mp4', 'openaigym.video.0.201310.video008200.meta.json', 'openaigym.video.0.201310.video020600.meta.json', 'openaigym.video.0.201310.video023800.meta.json', 'openaigym.video.0.201310.video006200.meta.json', 'openaigym.video.0.201310.video006800.meta.json', 'openaigym.video.0.201310.video019200.mp4', 'openaigym.video.0.201310.video004600.meta.json', 'openaigym.video.0.201310.video026600.mp4', 'openaigym.video.0.201310.video023000.mp4', 'openaigym.video.0.201310.video030400.meta.json', 'openaigym.video.0.201310.video022000.mp4', 'openaigym.video.0.201310.video032600.meta.json', 'openaigym.video.0.201310.video002000.meta.json', 'openaigym.video.0.201310.video018600.mp4', 'openaigym.video.0.201310.video026000.mp4', 'openaigym.video.0.201310.video001000.meta.json', 'openaigym.video.0.201310.video010800.meta.json', 'openaigym.video.0.201310.video025800.mp4', 'openaigym.video.0.201310.video005200.mp4', 'openaigym.video.0.201310.video027000.mp4', 'openaigym.video.0.201310.video024200.meta.json', 'openaigym.video.0.201310.video018600.meta.json', 'openaigym.video.0.201310.video001600.meta.json', 'openaigym.video.0.201310.video007600.mp4', 'openaigym.video.0.201310.video023200.mp4', 'openaigym.video.0.201310.video010400.mp4', 'openaigym.video.0.201310.video034000.meta.json', 'openaigym.video.0.201310.video003800.mp4', 'openaigym.video.0.201310.video024600.mp4', 'openaigym.video.0.201310.video003200.meta.json', 'openaigym.video.0.201310.video012800.mp4', 'openaigym.video.0.201310.video021400.meta.json', 'openaigym.video.0.201310.video028400.meta.json', 'openaigym.video.0.201310.video029400.mp4', 'openaigym.video.0.201310.video027800.meta.json', 'openaigym.video.0.201310.video031200.meta.json', 'openaigym.video.0.201310.video029800.meta.json', 'openaigym.video.0.201310.video009600.meta.json', 'openaigym.video.0.201310.video000600.mp4', 'openaigym.video.0.201310.video012200.mp4', 'openaigym.video.0.201310.video007400.mp4', 'openaigym.video.0.201310.video026800.meta.json', 'openaigym.video.0.201310.video005400.meta.json', 'openaigym.video.0.201310.video005200.meta.json', 'openaigym.video.0.201310.video013400.mp4', 'openaigym.video.0.201310.video020200.mp4', 'openaigym.video.0.201310.video033800.meta.json', 'openaigym.video.0.201310.video030000.mp4', 'openaigym.video.0.201310.video023400.mp4', 'openaigym.video.0.201310.video022200.mp4', 'openaigym.video.0.201310.video033000.mp4', 'openaigym.video.0.201310.video029000.mp4', 'openaigym.video.0.201310.video012400.mp4', 'openaigym.video.0.201310.video034000.mp4', 'openaigym.video.0.201310.video028000.mp4', 'openaigym.video.0.201310.video002800.mp4', 'openaigym.video.0.201310.video007600.meta.json', 'openaigym.video.0.201310.video030600.mp4', 'openaigym.video.0.201310.video017200.mp4', 'openaigym.video.0.201310.video021800.meta.json', 'openaigym.video.0.201310.video014400.meta.json', 'openaigym.video.0.201310.video024400.mp4', 'openaigym.video.0.201310.video031600.meta.json', 'openaigym.video.0.201310.video032000.meta.json', 'openaigym.video.0.201310.video015800.mp4', 'openaigym.video.0.201310.video012600.meta.json', 'openaigym.video.0.201310.video033200.mp4', 'openaigym.video.0.201310.video022400.meta.json', 'openaigym.video.0.201310.video017800.mp4', 'openaigym.video.0.201310.video013400.meta.json', 'openaigym.video.0.201310.video013200.meta.json', 'openaigym.video.0.201310.video027400.mp4', 'openaigym.video.0.201310.video021400.mp4', 'openaigym.video.0.201310.video014200.mp4', 'openaigym.video.0.201310.video034400.mp4', 'openaigym.video.0.201310.video023400.meta.json', 'openaigym.video.0.201310.video015000.mp4', 'openaigym.video.0.201310.video019200.meta.json', 'openaigym.video.0.201310.video017600.mp4', 'openaigym.video.0.201310.video017000.mp4', 'openaigym.video.0.201310.video008200.mp4', 'openaigym.video.0.201310.video031400.meta.json', 'openaigym.video.0.201310.video028600.meta.json', 'openaigym.video.0.201310.video004400.meta.json', 'openaigym.video.0.201310.video030000.meta.json', 'openaigym.video.0.201310.video005400.mp4', 'openaigym.video.0.201310.video030800.mp4', 'openaigym.video.0.201310.video016200.mp4', 'openaigym.video.0.201310.video001800.meta.json', 'openaigym.video.0.201310.video002400.mp4', 'openaigym.video.0.201310.video015400.meta.json', 'openaigym.video.0.201310.video002800.meta.json', 'openaigym.video.0.201310.video007200.meta.json', 'openaigym.video.0.201310.video015200.meta.json', 'openaigym.video.0.201310.video024000.meta.json', 'openaigym.video.0.201310.video015200.mp4', 'openaigym.video.0.201310.video001400.meta.json', 'openaigym.video.0.201310.video008600.meta.json', 'openaigym.video.0.201310.video020800.meta.json', 'openaigym.video.0.201310.video031200.mp4', 'openaigym.video.0.201310.video014000.meta.json', 'openaigym.video.0.201310.video011800.meta.json', 'openaigym.video.0.201310.video008400.mp4', 'openaigym.video.0.201310.video025800.meta.json', 'openaigym.video.0.201310.video015400.mp4', 'openaigym.video.0.201310.video014800.meta.json', 'openaigym.video.0.201310.video017400.mp4', 'openaigym.video.0.201310.video006400.mp4', 'openaigym.video.0.201310.video004200.mp4', 'openaigym.video.0.201310.video016400.meta.json', 'openaigym.video.0.201310.video003600.meta.json', 'openaigym.video.0.201310.video003600.mp4', 'openaigym.video.0.201310.video026200.meta.json', 'openaigym.video.0.201310.video031600.mp4', 'openaigym.video.0.201310.video006600.mp4', 'openaigym.video.0.201310.video014200.meta.json', 'openaigym.video.0.201310.video006000.meta.json', 'openaigym.video.0.201310.video030400.mp4', 'openaigym.video.0.201310.video005000.meta.json', 'openaigym.video.0.201310.video007800.mp4', 'openaigym.video.0.201310.video019400.mp4', 'openaigym.video.0.201310.video018800.mp4', 'openaigym.video.0.201310.video025600.mp4', 'openaigym.video.0.201310.video019600.mp4', 'openaigym.video.0.201310.video013800.meta.json', 'openaigym.video.0.201310.video002600.meta.json', 'openaigym.video.0.201310.video016800.mp4', 'openaigym.video.0.201310.video021200.meta.json', 'openaigym.video.0.201310.video019000.meta.json', 'openaigym.video.0.201310.video011600.meta.json', 'openaigym.video.0.201310.video031800.mp4', 'openaigym.video.0.201310.video006600.meta.json', 'openaigym.video.0.201310.video001400.mp4', 'openaigym.video.0.201310.video005800.mp4', 'openaigym.video.0.201310.video000800.meta.json', 'openaigym.video.0.201310.video007000.meta.json', 'openaigym.video.0.201310.video001000.mp4', 'openaigym.video.0.201310.video007800.meta.json', 'openaigym.video.0.201310.video011000.mp4', 'openaigym.video.0.201310.video000400.meta.json', 'openaigym.video.0.201310.video010800.mp4', 'openaigym.video.0.201310.video017000.meta.json', 'openaigym.video.0.201310.video027600.meta.json', 'openaigym.video.0.201310.video011200.mp4', 'openaigym.video.0.201310.video026400.mp4', 'openaigym.video.0.201310.video002400.meta.json', 'openaigym.video.0.201310.video033800.mp4', 'openaigym.video.0.201310.video025400.meta.json', 'openaigym.video.0.201310.video004800.meta.json', 'openaigym.video.0.201310.video029600.mp4', 'openaigym.video.0.201310.video034400.meta.json', 'openaigym.video.0.201310.video030200.meta.json', 'openaigym.video.0.201310.video003400.mp4', 'openaigym.video.0.201310.video007200.mp4', 'openaigym.video.0.201310.video018400.mp4', 'openaigym.video.0.201310.video024400.meta.json']\n",
            "Processing cs285_homework_fall2019/hw3/cs285/data/dqn_rnr_q1_PongNoFrameskip-v4_06-04-2020_21-30-11/gym ; out_filename cs285_homework_fall2019/hw3/gifs/dqn_rnr_q1_PongNoFrameskip-v4_06-04-2020_21-30-11\n",
            "filenames ['openaigym.video.0.30011.video000064.meta.json', 'openaigym.video.0.30011.video001000.meta.json', 'openaigym.video.0.30011.video000001.meta.json', 'openaigym.video.0.30011.video000216.meta.json', 'openaigym.episode_batch.0.30011.stats.json', 'openaigym.video.0.30011.video000343.mp4', 'openaigym.manifest.0.30011.manifest.json', 'openaigym.video.0.30011.video000216.mp4', 'openaigym.video.0.30011.video000027.meta.json', 'openaigym.video.0.30011.video000027.mp4', 'openaigym.video.0.30011.video000008.mp4', 'openaigym.video.0.30011.video000512.meta.json', 'openaigym.video.0.30011.video000512.mp4', 'openaigym.video.0.30011.video000008.meta.json', 'openaigym.video.0.30011.video000343.meta.json', 'openaigym.video.0.30011.video000125.meta.json', 'openaigym.video.0.30011.video000729.mp4', 'openaigym.video.0.30011.video000064.mp4', 'openaigym.video.0.30011.video000729.meta.json', 'openaigym.video.0.30011.video001000.mp4', 'openaigym.video.0.30011.video000000.meta.json', 'openaigym.video.0.30011.video000000.mp4', 'openaigym.video.0.30011.video000001.mp4', 'openaigym.video.0.30011.video000125.mp4']\n",
            "Processing cs285_homework_fall2019/hw3/cs285/good_data/dqn_q1_vis_gpu0_LunarLander-v2_04-04-2020_22-29-33/gym ; out_filename cs285_homework_fall2019/hw3/gifs/dqn_q1_vis_gpu0_LunarLander-v2_04-04-2020_22-29-33\n",
            "filenames ['openaigym.video.0.17921.video001000.meta.json', 'openaigym.manifest.0.17921.manifest.json', 'openaigym.video.0.17921.video000064.mp4', 'openaigym.video.0.17921.video000001.mp4', 'openaigym.video.0.17921.video000027.meta.json', 'openaigym.video.0.17921.video001000.mp4', 'openaigym.episode_batch.0.17921.stats.json', 'openaigym.video.0.17921.video000512.mp4', 'openaigym.video.0.17921.video000000.mp4', 'openaigym.video.0.17921.video000000.meta.json', 'openaigym.video.0.17921.video000008.mp4', 'openaigym.video.0.17921.video000216.meta.json', 'openaigym.video.0.17921.video000343.mp4', 'openaigym.video.0.17921.video000064.meta.json', 'openaigym.video.0.17921.video000125.meta.json', 'openaigym.video.0.17921.video000343.meta.json', 'openaigym.video.0.17921.video000008.meta.json', 'openaigym.video.0.17921.video000216.mp4', 'openaigym.video.0.17921.video000729.meta.json', 'openaigym.video.0.17921.video000001.meta.json', 'openaigym.video.0.17921.video000729.mp4', 'openaigym.video.0.17921.video000125.mp4', 'openaigym.video.0.17921.video000027.mp4', 'openaigym.video.0.17921.video000512.meta.json']\n",
            "Processing cs285_homework_fall2019/hw3/cs285/good_data/dqn_q1_LunarLander-v2_04-04-2020_22-08-52/gym ; out_filename cs285_homework_fall2019/hw3/gifs/dqn_q1_LunarLander-v2_04-04-2020_22-08-52\n",
            "filenames ['openaigym.video.0.54008.video000064.mp4', 'openaigym.video.0.54008.video003000.mp4', 'openaigym.video.0.54008.video000512.mp4', 'openaigym.video.0.54008.video000027.mp4', 'openaigym.video.0.54008.video000000.meta.json', 'openaigym.video.0.54008.video002000.mp4', 'openaigym.video.0.54008.video000125.mp4', 'openaigym.video.0.54008.video000000.mp4', 'openaigym.video.0.54008.video000008.meta.json', 'openaigym.video.0.54008.video000729.mp4', 'openaigym.video.0.54008.video003000.meta.json', 'openaigym.video.0.54008.video000001.meta.json', 'openaigym.episode_batch.0.54008.stats.json', 'openaigym.video.0.54008.video001000.mp4', 'openaigym.video.0.54008.video000125.meta.json', 'openaigym.video.0.54008.video000008.mp4', 'openaigym.video.0.54008.video000216.mp4', 'openaigym.video.0.54008.video000512.meta.json', 'openaigym.video.0.54008.video000001.mp4', 'openaigym.manifest.0.54008.manifest.json', 'openaigym.video.0.54008.video000729.meta.json', 'openaigym.video.0.54008.video000343.mp4', 'openaigym.video.0.54008.video000027.meta.json', 'openaigym.video.0.54008.video000216.meta.json', 'openaigym.video.0.54008.video000064.meta.json', 'openaigym.video.0.54008.video002000.meta.json', 'openaigym.video.0.54008.video001000.meta.json', 'openaigym.video.0.54008.video000343.meta.json']\n",
            "Processing cs285_homework_fall2019/hw3/cs285/good_data/q2/dqn_double_q_rnr_q2_1_LunarLander-v2_05-04-2020_15-46-22/gym ; out_filename cs285_homework_fall2019/hw3/gifs/dqn_double_q_rnr_q2_1_LunarLander-v2_05-04-2020_15-46-22\n",
            "filenames ['openaigym.video.0.175527.video001000.meta.json', 'openaigym.video.0.175527.video003000.mp4', 'openaigym.video.0.175527.video002000.mp4', 'openaigym.video.0.175527.video000343.mp4', 'openaigym.video.0.175527.video000000.meta.json', 'openaigym.video.0.175527.video000064.mp4', 'openaigym.video.0.175527.video000027.meta.json', 'openaigym.video.0.175527.video000512.meta.json', 'openaigym.video.0.175527.video000000.mp4', 'openaigym.video.0.175527.video000729.meta.json', 'openaigym.video.0.175527.video000027.mp4', 'openaigym.episode_batch.0.175527.stats.json', 'openaigym.video.0.175527.video000001.meta.json', 'openaigym.video.0.175527.video000216.meta.json', 'openaigym.manifest.0.175527.manifest.json', 'openaigym.video.0.175527.video000008.meta.json', 'openaigym.video.0.175527.video002000.meta.json', 'openaigym.video.0.175527.video000512.mp4', 'openaigym.video.0.175527.video000343.meta.json', 'openaigym.video.0.175527.video000001.mp4', 'openaigym.video.0.175527.video000216.mp4', 'openaigym.video.0.175527.video003000.meta.json', 'openaigym.video.0.175527.video000064.meta.json', 'openaigym.video.0.175527.video000008.mp4', 'openaigym.video.0.175527.video000125.meta.json', 'openaigym.video.0.175527.video001000.mp4', 'openaigym.video.0.175527.video000125.mp4', 'openaigym.video.0.175527.video000729.mp4']\n",
            "Processing cs285_homework_fall2019/hw3/cs285/good_data/q2/dqn_rnr_q2_3_LunarLander-v2_05-04-2020_00-49-53/gym ; out_filename cs285_homework_fall2019/hw3/gifs/dqn_rnr_q2_3_LunarLander-v2_05-04-2020_00-49-53\n",
            "filenames ['openaigym.video.0.817.video000512.mp4', 'openaigym.video.0.817.video001000.mp4', 'openaigym.episode_batch.0.817.stats.json', 'openaigym.video.0.817.video000027.mp4', 'openaigym.video.0.817.video000000.mp4', 'openaigym.video.0.817.video000001.meta.json', 'openaigym.video.0.817.video000729.meta.json', 'openaigym.video.0.817.video000064.mp4', 'openaigym.video.0.817.video002000.mp4', 'openaigym.video.0.817.video003000.meta.json', 'openaigym.video.0.817.video000125.mp4', 'openaigym.video.0.817.video000027.meta.json', 'openaigym.video.0.817.video000343.mp4', 'openaigym.video.0.817.video000064.meta.json', 'openaigym.video.0.817.video000343.meta.json', 'openaigym.manifest.0.817.manifest.json', 'openaigym.video.0.817.video000729.mp4', 'openaigym.video.0.817.video003000.mp4', 'openaigym.video.0.817.video001000.meta.json', 'openaigym.video.0.817.video000216.meta.json', 'openaigym.video.0.817.video000000.meta.json', 'openaigym.video.0.817.video000216.mp4', 'openaigym.video.0.817.video000008.meta.json', 'openaigym.video.0.817.video000125.meta.json', 'openaigym.video.0.817.video000001.mp4', 'openaigym.video.0.817.video000008.mp4', 'openaigym.video.0.817.video002000.meta.json', 'openaigym.video.0.817.video000512.meta.json']\n",
            "Processing cs285_homework_fall2019/hw3/cs285/good_data/q2/dqn_double_q_rnr_q2_3_LunarLander-v2_05-04-2020_21-40-54/gym ; out_filename cs285_homework_fall2019/hw3/gifs/dqn_double_q_rnr_q2_3_LunarLander-v2_05-04-2020_21-40-54\n",
            "filenames ['openaigym.video.0.101525.video002000.mp4', 'openaigym.video.0.101525.video000008.mp4', 'openaigym.video.0.101525.video000008.meta.json', 'openaigym.manifest.0.101525.manifest.json', 'openaigym.video.0.101525.video000000.meta.json', 'openaigym.video.0.101525.video000729.meta.json', 'openaigym.video.0.101525.video000343.mp4', 'openaigym.video.0.101525.video004000.mp4', 'openaigym.video.0.101525.video000000.mp4', 'openaigym.video.0.101525.video000027.meta.json', 'openaigym.video.0.101525.video002000.meta.json', 'openaigym.video.0.101525.video003000.meta.json', 'openaigym.video.0.101525.video000001.mp4', 'openaigym.video.0.101525.video000027.mp4', 'openaigym.video.0.101525.video000125.meta.json', 'openaigym.video.0.101525.video003000.mp4', 'openaigym.video.0.101525.video000001.meta.json', 'openaigym.video.0.101525.video000216.meta.json', 'openaigym.episode_batch.0.101525.stats.json', 'openaigym.video.0.101525.video000064.meta.json', 'openaigym.video.0.101525.video001000.mp4', 'openaigym.video.0.101525.video000512.mp4', 'openaigym.video.0.101525.video000125.mp4', 'openaigym.video.0.101525.video004000.meta.json', 'openaigym.video.0.101525.video000343.meta.json', 'openaigym.video.0.101525.video000064.mp4', 'openaigym.video.0.101525.video000512.meta.json', 'openaigym.video.0.101525.video000216.mp4', 'openaigym.video.0.101525.video000729.mp4', 'openaigym.video.0.101525.video001000.meta.json']\n",
            "Processing cs285_homework_fall2019/hw3/cs285/good_data/q2/dqn_rnr_q2_1_LunarLander-v2_04-04-2020_23-38-20/gym ; out_filename cs285_homework_fall2019/hw3/gifs/dqn_rnr_q2_1_LunarLander-v2_04-04-2020_23-38-20\n",
            "filenames ['openaigym.manifest.0.252284.manifest.json', 'openaigym.video.0.252284.video000000.mp4', 'openaigym.video.0.252284.video000729.mp4', 'openaigym.video.0.252284.video000000.meta.json', 'openaigym.video.0.252284.video000008.mp4', 'openaigym.video.0.252284.video001000.mp4', 'openaigym.video.0.252284.video000008.meta.json', 'openaigym.video.0.252284.video000125.meta.json', 'openaigym.video.0.252284.video000027.meta.json', 'openaigym.video.0.252284.video003000.mp4', 'openaigym.video.0.252284.video000729.meta.json', 'openaigym.video.0.252284.video000216.mp4', 'openaigym.episode_batch.0.252284.stats.json', 'openaigym.video.0.252284.video000064.meta.json', 'openaigym.video.0.252284.video000001.mp4', 'openaigym.video.0.252284.video002000.meta.json', 'openaigym.video.0.252284.video000343.mp4', 'openaigym.video.0.252284.video000216.meta.json', 'openaigym.video.0.252284.video000125.mp4', 'openaigym.video.0.252284.video000343.meta.json', 'openaigym.video.0.252284.video002000.mp4', 'openaigym.video.0.252284.video000001.meta.json', 'openaigym.video.0.252284.video000064.mp4', 'openaigym.video.0.252284.video000512.meta.json', 'openaigym.video.0.252284.video000027.mp4', 'openaigym.video.0.252284.video001000.meta.json', 'openaigym.video.0.252284.video000512.mp4', 'openaigym.video.0.252284.video003000.meta.json']\n",
            "Processing cs285_homework_fall2019/hw3/cs285/good_data/q2/dqn_double_q_rnr_q2_2_LunarLander-v2_05-04-2020_21-03-01/gym ; out_filename cs285_homework_fall2019/hw3/gifs/dqn_double_q_rnr_q2_2_LunarLander-v2_05-04-2020_21-03-01\n",
            "filenames ['openaigym.video.0.115798.video000512.mp4', 'openaigym.video.0.115798.video000027.mp4', 'openaigym.video.0.115798.video003000.mp4', 'openaigym.video.0.115798.video000729.mp4', 'openaigym.video.0.115798.video000008.meta.json', 'openaigym.video.0.115798.video000343.mp4', 'openaigym.video.0.115798.video001000.meta.json', 'openaigym.video.0.115798.video000125.meta.json', 'openaigym.video.0.115798.video000216.meta.json', 'openaigym.video.0.115798.video000001.mp4', 'openaigym.manifest.0.115798.manifest.json', 'openaigym.video.0.115798.video000000.mp4', 'openaigym.video.0.115798.video003000.meta.json', 'openaigym.video.0.115798.video000216.mp4', 'openaigym.video.0.115798.video000064.meta.json', 'openaigym.video.0.115798.video002000.mp4', 'openaigym.video.0.115798.video000729.meta.json', 'openaigym.video.0.115798.video000064.mp4', 'openaigym.video.0.115798.video002000.meta.json', 'openaigym.video.0.115798.video000001.meta.json', 'openaigym.video.0.115798.video001000.mp4', 'openaigym.video.0.115798.video000027.meta.json', 'openaigym.episode_batch.0.115798.stats.json', 'openaigym.video.0.115798.video000008.mp4', 'openaigym.video.0.115798.video000125.mp4', 'openaigym.video.0.115798.video000000.meta.json', 'openaigym.video.0.115798.video000343.meta.json', 'openaigym.video.0.115798.video000512.meta.json']\n",
            "Processing cs285_homework_fall2019/hw3/cs285/good_data/q2/dqn_double_q_rnr_q2_1_LunarLander-v2_05-04-2020_20-24-14/gym ; out_filename cs285_homework_fall2019/hw3/gifs/dqn_double_q_rnr_q2_1_LunarLander-v2_05-04-2020_20-24-14\n",
            "filenames ['openaigym.video.0.109117.video000000.meta.json', 'openaigym.video.0.109117.video000027.meta.json', 'openaigym.video.0.109117.video000512.mp4', 'openaigym.video.0.109117.video000001.mp4', 'openaigym.video.0.109117.video000729.meta.json', 'openaigym.episode_batch.0.109117.stats.json', 'openaigym.video.0.109117.video000343.meta.json', 'openaigym.video.0.109117.video000216.mp4', 'openaigym.video.0.109117.video000064.meta.json', 'openaigym.manifest.0.109117.manifest.json', 'openaigym.video.0.109117.video003000.mp4', 'openaigym.video.0.109117.video000001.meta.json', 'openaigym.video.0.109117.video000064.mp4', 'openaigym.video.0.109117.video000125.mp4', 'openaigym.video.0.109117.video002000.meta.json', 'openaigym.video.0.109117.video000216.meta.json', 'openaigym.video.0.109117.video001000.meta.json', 'openaigym.video.0.109117.video000512.meta.json', 'openaigym.video.0.109117.video000729.mp4', 'openaigym.video.0.109117.video000027.mp4', 'openaigym.video.0.109117.video000000.mp4', 'openaigym.video.0.109117.video001000.mp4', 'openaigym.video.0.109117.video002000.mp4', 'openaigym.video.0.109117.video000343.mp4', 'openaigym.video.0.109117.video000125.meta.json', 'openaigym.video.0.109117.video003000.meta.json', 'openaigym.video.0.109117.video000008.meta.json', 'openaigym.video.0.109117.video000008.mp4']\n",
            "Processing cs285_homework_fall2019/hw3/cs285/good_data/q2/dqn_rnr_q2_2_LunarLander-v2_05-04-2020_00-13-34/gym ; out_filename cs285_homework_fall2019/hw3/gifs/dqn_rnr_q2_2_LunarLander-v2_05-04-2020_00-13-34\n"
          ]
        }
      ]
    },
    {
      "cell_type": "code",
      "source": [
        "exp = f\"!{GIFIFY_DIR}/gifs/\"\n",
        "print(exp)\n",
        "# !mkdir -p GIFIFY_DIR + \"/gifs/\""
      ],
      "metadata": {
        "colab": {
          "base_uri": "https://localhost:8080/"
        },
        "id": "oiwuk6zrL_Mp",
        "outputId": "f773f78a-cd56-4f34-86c6-bf87ba9fc2c1"
      },
      "execution_count": null,
      "outputs": [
        {
          "output_type": "stream",
          "name": "stdout",
          "text": [
            "!mkdir -p cs285_homework_fall2019/hw3/gifs/\n"
          ]
        }
      ]
    },
    {
      "cell_type": "code",
      "source": [
        "## Speed up different GIF files\n",
        "\n",
        "GIFIFY_DIR = \"hw3_gifs\"\n",
        "#!mkdir -p GIFIFY_DIR + \"/gifs/\"\n",
        "for dirpath, dirnames, filenames in os.walk(GIFIFY_DIR):\n",
        "    # check if any of the files are .mp4\n",
        "    for s in filenames:\n",
        "      if 'gif' in s and 'Pong' in s :\n",
        "        # create an ffmpeg gif from this directory\n",
        "\n",
        "        # ffmpeg_inputs = [ffmpeg.filter(ffmpeg.input(file), \n",
        "        #                         text=f'Trial #{i+1}', fontcolor='Green', fontsize=15, x='w-tw-10', y='h-th-2') #x=-10, y=-10) \n",
        "        #                         for i, file in enumerate(sorted(glob.glob(videos_path+\"/*.mp4\")))]\n",
        "\n",
        "        # stream = ffmpeg.concat(*ffmpeg_inputs)\n",
        "        # stream = ffmpeg.output(stream, 'foo.gif')\n",
        "        # # stream = stream.overwrite_output()\n",
        "        filename = GIFIFY_DIR + \"/\" + s\n",
        "        print(f\"filenames {filename[:-4]}\")\n",
        "        #ffmpeg.input(filename).filter('fps', fps=125, round='up').output('output.gif').overwrite_output().run()\n",
        "        ffmpeg.input(filename).setpts('0.125*PTS').output(filename[:-4] + '_fast.gif').overwrite_output().run()\n",
        "\n"
      ],
      "metadata": {
        "id": "UjvmjJJxcjxw",
        "colab": {
          "base_uri": "https://localhost:8080/"
        },
        "outputId": "8a52b403-217a-44f1-8825-a348af1d5f06"
      },
      "execution_count": null,
      "outputs": [
        {
          "output_type": "stream",
          "name": "stdout",
          "text": [
            "filenames hw3_gifs/dqn_q1_gpu0_PongNoFrameskip-v4_04-04-2020_23-05-01\n",
            "filenames hw3_gifs/dqn_rnr_q1_PongNoFrameskip-v4_06-04-2020_21-30-11\n",
            "filenames hw3_gifs/dqn_rnr_q1_PongNoFrameskip-v4_05-04-2020_11-28-35\n",
            "filenames hw3_gifs/dqn_rnr_q1_PongNoFrameskip-v4_15-07-2020_21-46-16\n"
          ]
        }
      ]
    },
    {
      "cell_type": "code",
      "source": [
        "## Assemble a gif from set of images\n",
        "import glob, os, ffmpeg\n",
        "\n",
        "ffmpeg.input(\"AnimeFaces/dc-ganv2_2022-01-25_20-27-50/*.jpg\", pattern_type='glob', framerate=25).output('boo.gif').overwrite_output().run()"
      ],
      "metadata": {
        "id": "KCobkDlsywoy",
        "colab": {
          "base_uri": "https://localhost:8080/"
        },
        "outputId": "48569a0f-8ad1-4fa9-e3e1-4e14d60d1247"
      },
      "execution_count": null,
      "outputs": [
        {
          "output_type": "stream",
          "name": "stdout",
          "text": [
            "251\n"
          ]
        },
        {
          "output_type": "execute_result",
          "data": {
            "text/plain": [
              "(None, None)"
            ]
          },
          "metadata": {},
          "execution_count": 17
        }
      ]
    }
  ]
}