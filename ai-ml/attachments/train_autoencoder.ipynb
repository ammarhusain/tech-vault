{
 "cells": [
  {
   "cell_type": "code",
   "execution_count": null,
   "metadata": {},
   "outputs": [
    {
     "name": "stdout",
     "output_type": "stream",
     "text": [
      "The autoreload extension is already loaded. To reload it, use:\n",
      "  %reload_ext autoreload\n",
      "Generating 60000 images\n",
      "Generating 10000 images\n",
      "Loss weight: None\n",
      "Starting Epoch: 1\n"
     ]
    },
    {
     "name": "stderr",
     "output_type": "stream",
     "text": [
      "Exception ignored in: <function _MultiProcessingDataLoaderIter.__del__ at 0x7f4f4423c290>\n",
      "Traceback (most recent call last):\n",
      "  File \"/usr/local/google/home/ammarh/anaconda3/lib/python3.7/site-packages/torch/utils/data/dataloader.py\", line 1101, in __del__\n",
      "    self._shutdown_workers()\n",
      "  File \"/usr/local/google/home/ammarh/anaconda3/lib/python3.7/site-packages/torch/utils/data/dataloader.py\", line 1075, in _shutdown_workers\n",
      "    w.join(timeout=_utils.MP_STATUS_CHECK_INTERVAL)\n",
      "  File \"/usr/local/google/home/ammarh/anaconda3/lib/python3.7/multiprocessing/process.py\", line 138, in join\n",
      "    assert self._parent_pid == os.getpid(), 'can only join a child process'\n",
      "AssertionError: can only join a child process\n"
     ]
    },
    {
     "name": "stdout",
     "output_type": "stream",
     "text": [
      "Epoch Loss: 71.61345940828323\n"
     ]
    },
    {
     "name": "stderr",
     "output_type": "stream",
     "text": [
      "11it [00:00, 18.70it/s]\n"
     ]
    },
    {
     "name": "stdout",
     "output_type": "stream",
     "text": [
      "Scores after epoch 1: {'Overall Acc: ': 0.8765237273886828, 'FreqW Acc : ': 1681150.1773176598, 'Mean IoU : ': 967570.0}\n",
      "Starting Epoch: 2\n"
     ]
    },
    {
     "name": "stderr",
     "output_type": "stream",
     "text": [
      "Exception ignored in: <function _MultiProcessingDataLoaderIter.__del__ at 0x7f4f4423c290>\n",
      "Traceback (most recent call last):\n",
      "  File \"/usr/local/google/home/ammarh/anaconda3/lib/python3.7/site-packages/torch/utils/data/dataloader.py\", line 1101, in __del__\n",
      "    self._shutdown_workers()\n",
      "  File \"/usr/local/google/home/ammarh/anaconda3/lib/python3.7/site-packages/torch/utils/data/dataloader.py\", line 1075, in _shutdown_workers\n",
      "    w.join(timeout=_utils.MP_STATUS_CHECK_INTERVAL)\n",
      "  File \"/usr/local/google/home/ammarh/anaconda3/lib/python3.7/multiprocessing/process.py\", line 138, in join\n",
      "    assert self._parent_pid == os.getpid(), 'can only join a child process'\n",
      "AssertionError: can only join a child process\n"
     ]
    },
    {
     "name": "stdout",
     "output_type": "stream",
     "text": [
      "Epoch Loss: 52.347816959023476\n"
     ]
    },
    {
     "name": "stderr",
     "output_type": "stream",
     "text": [
      "11it [00:00, 22.08it/s]\n"
     ]
    },
    {
     "name": "stdout",
     "output_type": "stream",
     "text": [
      "Scores after epoch 2: {'Overall Acc: ': 0.8862062358679267, 'FreqW Acc : ': 3328788.988586992, 'Mean IoU : ': 1956516.5}\n",
      "Starting Epoch: 3\n"
     ]
    },
    {
     "name": "stderr",
     "output_type": "stream",
     "text": [
      "Exception ignored in: <function _MultiProcessingDataLoaderIter.__del__ at 0x7f4f4423c290>\n",
      "Traceback (most recent call last):\n",
      "  File \"/usr/local/google/home/ammarh/anaconda3/lib/python3.7/site-packages/torch/utils/data/dataloader.py\", line 1101, in __del__\n",
      "    self._shutdown_workers()\n",
      "  File \"/usr/local/google/home/ammarh/anaconda3/lib/python3.7/site-packages/torch/utils/data/dataloader.py\", line 1075, in _shutdown_workers\n",
      "    w.join(timeout=_utils.MP_STATUS_CHECK_INTERVAL)\n",
      "  File \"/usr/local/google/home/ammarh/anaconda3/lib/python3.7/multiprocessing/process.py\", line 138, in join\n",
      "    assert self._parent_pid == os.getpid(), 'can only join a child process'\n",
      "AssertionError: can only join a child process\n"
     ]
    },
    {
     "name": "stdout",
     "output_type": "stream",
     "text": [
      "Epoch Loss: 42.60454726219177\n"
     ]
    },
    {
     "name": "stderr",
     "output_type": "stream",
     "text": [
      "11it [00:00, 21.34it/s]\n"
     ]
    },
    {
     "name": "stdout",
     "output_type": "stream",
     "text": [
      "Scores after epoch 3: {'Overall Acc: ': 0.8970804586038961, 'FreqW Acc : ': 4958815.580483969, 'Mean IoU : ': 2970786.0}\n",
      "Starting Epoch: 4\n"
     ]
    },
    {
     "name": "stderr",
     "output_type": "stream",
     "text": [
      "Exception ignored in: <function _MultiProcessingDataLoaderIter.__del__ at 0x7f4f4423c290>\n",
      "Traceback (most recent call last):\n",
      "  File \"/usr/local/google/home/ammarh/anaconda3/lib/python3.7/site-packages/torch/utils/data/dataloader.py\", line 1101, in __del__\n",
      "    self._shutdown_workers()\n",
      "  File \"/usr/local/google/home/ammarh/anaconda3/lib/python3.7/site-packages/torch/utils/data/dataloader.py\", line 1075, in _shutdown_workers\n",
      "    w.join(timeout=_utils.MP_STATUS_CHECK_INTERVAL)\n",
      "  File \"/usr/local/google/home/ammarh/anaconda3/lib/python3.7/multiprocessing/process.py\", line 138, in join\n",
      "    assert self._parent_pid == os.getpid(), 'can only join a child process'\n",
      "AssertionError: can only join a child process\n"
     ]
    },
    {
     "name": "stdout",
     "output_type": "stream",
     "text": [
      "Epoch Loss: 37.23239415884018\n"
     ]
    },
    {
     "name": "stderr",
     "output_type": "stream",
     "text": [
      "11it [00:00, 22.07it/s]\n"
     ]
    },
    {
     "name": "stdout",
     "output_type": "stream",
     "text": [
      "Scores after epoch 4: {'Overall Acc: ': 0.9049821899640538, 'FreqW Acc : ': 6607596.367039838, 'Mean IoU : ': 3995938.0}\n",
      "Starting Epoch: 5\n"
     ]
    },
    {
     "name": "stderr",
     "output_type": "stream",
     "text": [
      "Exception ignored in: <function _MultiProcessingDataLoaderIter.__del__ at 0x7f4f4423c290>\n",
      "Traceback (most recent call last):\n",
      "  File \"/usr/local/google/home/ammarh/anaconda3/lib/python3.7/site-packages/torch/utils/data/dataloader.py\", line 1101, in __del__\n",
      "    self._shutdown_workers()\n",
      "  File \"/usr/local/google/home/ammarh/anaconda3/lib/python3.7/site-packages/torch/utils/data/dataloader.py\", line 1075, in _shutdown_workers\n",
      "    w.join(timeout=_utils.MP_STATUS_CHECK_INTERVAL)\n",
      "  File \"/usr/local/google/home/ammarh/anaconda3/lib/python3.7/multiprocessing/process.py\", line 138, in join\n",
      "    assert self._parent_pid == os.getpid(), 'can only join a child process'\n",
      "AssertionError: can only join a child process\n"
     ]
    },
    {
     "name": "stdout",
     "output_type": "stream",
     "text": [
      "Epoch Loss: 34.195771247148514\n"
     ]
    },
    {
     "name": "stderr",
     "output_type": "stream",
     "text": [
      "11it [00:00, 22.15it/s]\n"
     ]
    },
    {
     "name": "stdout",
     "output_type": "stream",
     "text": [
      "Scores after epoch 5: {'Overall Acc: ': 0.9112340017683209, 'FreqW Acc : ': 8260222.852051235, 'Mean IoU : ': 5029428.5}\n",
      "Starting Epoch: 6\n"
     ]
    },
    {
     "name": "stderr",
     "output_type": "stream",
     "text": [
      "Exception ignored in: <function _MultiProcessingDataLoaderIter.__del__ at 0x7f4f4423c290>\n",
      "Traceback (most recent call last):\n",
      "  File \"/usr/local/google/home/ammarh/anaconda3/lib/python3.7/site-packages/torch/utils/data/dataloader.py\", line 1101, in __del__\n",
      "    self._shutdown_workers()\n",
      "  File \"/usr/local/google/home/ammarh/anaconda3/lib/python3.7/site-packages/torch/utils/data/dataloader.py\", line 1075, in _shutdown_workers\n",
      "    w.join(timeout=_utils.MP_STATUS_CHECK_INTERVAL)\n",
      "  File \"/usr/local/google/home/ammarh/anaconda3/lib/python3.7/multiprocessing/process.py\", line 138, in join\n",
      "    assert self._parent_pid == os.getpid(), 'can only join a child process'\n",
      "AssertionError: can only join a child process\n"
     ]
    },
    {
     "name": "stdout",
     "output_type": "stream",
     "text": [
      "Epoch Loss: 31.972687289118767\n"
     ]
    },
    {
     "name": "stderr",
     "output_type": "stream",
     "text": [
      "11it [00:00, 21.85it/s]\n"
     ]
    },
    {
     "name": "stdout",
     "output_type": "stream",
     "text": [
      "Scores after epoch 6: {'Overall Acc: ': 0.9157770707714904, 'FreqW Acc : ': 9919958.915438566, 'Mean IoU : ': 6065404.0}\n",
      "Starting Epoch: 7\n"
     ]
    },
    {
     "name": "stderr",
     "output_type": "stream",
     "text": [
      "Exception ignored in: <function _MultiProcessingDataLoaderIter.__del__ at 0x7f4f4423c290>\n",
      "Traceback (most recent call last):\n",
      "  File \"/usr/local/google/home/ammarh/anaconda3/lib/python3.7/site-packages/torch/utils/data/dataloader.py\", line 1101, in __del__\n",
      "    self._shutdown_workers()\n",
      "  File \"/usr/local/google/home/ammarh/anaconda3/lib/python3.7/site-packages/torch/utils/data/dataloader.py\", line 1075, in _shutdown_workers\n",
      "    w.join(timeout=_utils.MP_STATUS_CHECK_INTERVAL)\n",
      "  File \"/usr/local/google/home/ammarh/anaconda3/lib/python3.7/multiprocessing/process.py\", line 138, in join\n",
      "    assert self._parent_pid == os.getpid(), 'can only join a child process'\n",
      "AssertionError: can only join a child process\n"
     ]
    },
    {
     "name": "stdout",
     "output_type": "stream",
     "text": [
      "Epoch Loss: 30.677599228918552\n"
     ]
    },
    {
     "name": "stderr",
     "output_type": "stream",
     "text": [
      "11it [00:00, 21.69it/s]\n"
     ]
    },
    {
     "name": "stdout",
     "output_type": "stream",
     "text": [
      "Scores after epoch 7: {'Overall Acc: ': 0.9195685731679035, 'FreqW Acc : ': 11579014.704916874, 'Mean IoU : ': 7105602.0}\n",
      "Starting Epoch: 8\n"
     ]
    },
    {
     "name": "stderr",
     "output_type": "stream",
     "text": [
      "Exception ignored in: <function _MultiProcessingDataLoaderIter.__del__ at 0x7f4f4423c290>\n",
      "Traceback (most recent call last):\n",
      "  File \"/usr/local/google/home/ammarh/anaconda3/lib/python3.7/site-packages/torch/utils/data/dataloader.py\", line 1101, in __del__\n",
      "    self._shutdown_workers()\n",
      "  File \"/usr/local/google/home/ammarh/anaconda3/lib/python3.7/site-packages/torch/utils/data/dataloader.py\", line 1075, in _shutdown_workers\n",
      "    w.join(timeout=_utils.MP_STATUS_CHECK_INTERVAL)\n",
      "  File \"/usr/local/google/home/ammarh/anaconda3/lib/python3.7/multiprocessing/process.py\", line 138, in join\n",
      "    assert self._parent_pid == os.getpid(), 'can only join a child process'\n",
      "AssertionError: can only join a child process\n"
     ]
    },
    {
     "name": "stdout",
     "output_type": "stream",
     "text": [
      "Epoch Loss: 29.5351674631238\n"
     ]
    },
    {
     "name": "stderr",
     "output_type": "stream",
     "text": [
      "11it [00:00, 22.16it/s]\n"
     ]
    },
    {
     "name": "stdout",
     "output_type": "stream",
     "text": [
      "Scores after epoch 8: {'Overall Acc: ': 0.9226802337589866, 'FreqW Acc : ': 13240378.176049398, 'Mean IoU : ': 8148167.0}\n",
      "Starting Epoch: 9\n"
     ]
    },
    {
     "name": "stderr",
     "output_type": "stream",
     "text": [
      "Exception ignored in: <function _MultiProcessingDataLoaderIter.__del__ at 0x7f4f4423c290>\n",
      "Traceback (most recent call last):\n",
      "  File \"/usr/local/google/home/ammarh/anaconda3/lib/python3.7/site-packages/torch/utils/data/dataloader.py\", line 1101, in __del__\n",
      "    self._shutdown_workers()\n",
      "  File \"/usr/local/google/home/ammarh/anaconda3/lib/python3.7/site-packages/torch/utils/data/dataloader.py\", line 1075, in _shutdown_workers\n",
      "    w.join(timeout=_utils.MP_STATUS_CHECK_INTERVAL)\n",
      "  File \"/usr/local/google/home/ammarh/anaconda3/lib/python3.7/multiprocessing/process.py\", line 138, in join\n",
      "    assert self._parent_pid == os.getpid(), 'can only join a child process'\n",
      "AssertionError: can only join a child process\n"
     ]
    },
    {
     "name": "stdout",
     "output_type": "stream",
     "text": [
      "Epoch Loss: 28.688684955239296\n"
     ]
    },
    {
     "name": "stderr",
     "output_type": "stream",
     "text": [
      "11it [00:00, 18.70it/s]\n"
     ]
    },
    {
     "name": "stdout",
     "output_type": "stream",
     "text": [
      "Scores after epoch 9: {'Overall Acc: ': 0.9253074631841373, 'FreqW Acc : ': 14901733.017191306, 'Mean IoU : ': 9192789.0}\n",
      "Starting Epoch: 10\n"
     ]
    },
    {
     "name": "stderr",
     "output_type": "stream",
     "text": [
      "Exception ignored in: <function _MultiProcessingDataLoaderIter.__del__ at 0x7f4f4423c290>\n",
      "Traceback (most recent call last):\n",
      "  File \"/usr/local/google/home/ammarh/anaconda3/lib/python3.7/site-packages/torch/utils/data/dataloader.py\", line 1101, in __del__\n",
      "    self._shutdown_workers()\n",
      "  File \"/usr/local/google/home/ammarh/anaconda3/lib/python3.7/site-packages/torch/utils/data/dataloader.py\", line 1075, in _shutdown_workers\n",
      "    w.join(timeout=_utils.MP_STATUS_CHECK_INTERVAL)\n",
      "  File \"/usr/local/google/home/ammarh/anaconda3/lib/python3.7/multiprocessing/process.py\", line 138, in join\n",
      "    assert self._parent_pid == os.getpid(), 'can only join a child process'\n",
      "AssertionError: can only join a child process\n"
     ]
    },
    {
     "name": "stdout",
     "output_type": "stream",
     "text": [
      "Epoch Loss: 28.046926364302635\n"
     ]
    },
    {
     "name": "stderr",
     "output_type": "stream",
     "text": [
      "11it [00:00, 18.68it/s]\n"
     ]
    },
    {
     "name": "stdout",
     "output_type": "stream",
     "text": [
      "Scores after epoch 10: {'Overall Acc: ': 0.9275160978809137, 'FreqW Acc : ': 16563258.571022274, 'Mean IoU : ': 10238590.5}\n",
      "Starting Epoch: 11\n"
     ]
    },
    {
     "name": "stderr",
     "output_type": "stream",
     "text": [
      "Exception ignored in: <function _MultiProcessingDataLoaderIter.__del__ at 0x7f4f4423c290>\n",
      "Traceback (most recent call last):\n",
      "  File \"/usr/local/google/home/ammarh/anaconda3/lib/python3.7/site-packages/torch/utils/data/dataloader.py\", line 1101, in __del__\n",
      "    self._shutdown_workers()\n",
      "  File \"/usr/local/google/home/ammarh/anaconda3/lib/python3.7/site-packages/torch/utils/data/dataloader.py\", line 1075, in _shutdown_workers\n",
      "    w.join(timeout=_utils.MP_STATUS_CHECK_INTERVAL)\n",
      "  File \"/usr/local/google/home/ammarh/anaconda3/lib/python3.7/multiprocessing/process.py\", line 138, in join\n",
      "    assert self._parent_pid == os.getpid(), 'can only join a child process'\n",
      "AssertionError: can only join a child process\n"
     ]
    },
    {
     "name": "stdout",
     "output_type": "stream",
     "text": [
      "Epoch Loss: 27.356624789536\n"
     ]
    },
    {
     "name": "stderr",
     "output_type": "stream",
     "text": [
      "11it [00:00, 22.04it/s]\n"
     ]
    },
    {
     "name": "stdout",
     "output_type": "stream",
     "text": [
      "Scores after epoch 11: {'Overall Acc: ': 0.9294425358276058, 'FreqW Acc : ': 18231716.066647675, 'Mean IoU : ': 11285841.5}\n",
      "Starting Epoch: 12\n"
     ]
    },
    {
     "name": "stderr",
     "output_type": "stream",
     "text": [
      "Exception ignored in: <function _MultiProcessingDataLoaderIter.__del__ at 0x7f4f4423c290>\n",
      "Traceback (most recent call last):\n",
      "  File \"/usr/local/google/home/ammarh/anaconda3/lib/python3.7/site-packages/torch/utils/data/dataloader.py\", line 1101, in __del__\n",
      "    self._shutdown_workers()\n",
      "  File \"/usr/local/google/home/ammarh/anaconda3/lib/python3.7/site-packages/torch/utils/data/dataloader.py\", line 1075, in _shutdown_workers\n",
      "    w.join(timeout=_utils.MP_STATUS_CHECK_INTERVAL)\n",
      "  File \"/usr/local/google/home/ammarh/anaconda3/lib/python3.7/multiprocessing/process.py\", line 138, in join\n",
      "    assert self._parent_pid == os.getpid(), 'can only join a child process'\n",
      "AssertionError: can only join a child process\n"
     ]
    },
    {
     "name": "stdout",
     "output_type": "stream",
     "text": [
      "Epoch Loss: 26.853881739079952\n"
     ]
    },
    {
     "name": "stderr",
     "output_type": "stream",
     "text": [
      "11it [00:00, 21.99it/s]\n"
     ]
    },
    {
     "name": "stdout",
     "output_type": "stream",
     "text": [
      "Scores after epoch 12: {'Overall Acc: ': 0.9309971325177798, 'FreqW Acc : ': 19887701.59208495, 'Mean IoU : ': 12332420.0}\n",
      "Starting Epoch: 13\n"
     ]
    },
    {
     "name": "stderr",
     "output_type": "stream",
     "text": [
      "Exception ignored in: <function _MultiProcessingDataLoaderIter.__del__ at 0x7f4f4423c290>\n",
      "Traceback (most recent call last):\n",
      "  File \"/usr/local/google/home/ammarh/anaconda3/lib/python3.7/site-packages/torch/utils/data/dataloader.py\", line 1101, in __del__\n",
      "    self._shutdown_workers()\n",
      "  File \"/usr/local/google/home/ammarh/anaconda3/lib/python3.7/site-packages/torch/utils/data/dataloader.py\", line 1075, in _shutdown_workers\n",
      "    w.join(timeout=_utils.MP_STATUS_CHECK_INTERVAL)\n",
      "  File \"/usr/local/google/home/ammarh/anaconda3/lib/python3.7/multiprocessing/process.py\", line 138, in join\n",
      "    assert self._parent_pid == os.getpid(), 'can only join a child process'\n",
      "AssertionError: can only join a child process\n"
     ]
    },
    {
     "name": "stdout",
     "output_type": "stream",
     "text": [
      "Epoch Loss: 26.41144237667322\n"
     ]
    },
    {
     "name": "stderr",
     "output_type": "stream",
     "text": [
      "11it [00:00, 21.92it/s]\n"
     ]
    },
    {
     "name": "stdout",
     "output_type": "stream",
     "text": [
      "Scores after epoch 13: {'Overall Acc: ': 0.9324938105978843, 'FreqW Acc : ': 21562709.538058307, 'Mean IoU : ': 13381599.5}\n",
      "Starting Epoch: 14\n"
     ]
    },
    {
     "name": "stderr",
     "output_type": "stream",
     "text": [
      "Exception ignored in: <function _MultiProcessingDataLoaderIter.__del__ at 0x7f4f4423c290>\n",
      "Traceback (most recent call last):\n",
      "  File \"/usr/local/google/home/ammarh/anaconda3/lib/python3.7/site-packages/torch/utils/data/dataloader.py\", line 1101, in __del__\n",
      "    self._shutdown_workers()\n",
      "  File \"/usr/local/google/home/ammarh/anaconda3/lib/python3.7/site-packages/torch/utils/data/dataloader.py\", line 1075, in _shutdown_workers\n",
      "    w.join(timeout=_utils.MP_STATUS_CHECK_INTERVAL)\n",
      "  File \"/usr/local/google/home/ammarh/anaconda3/lib/python3.7/multiprocessing/process.py\", line 138, in join\n",
      "    assert self._parent_pid == os.getpid(), 'can only join a child process'\n",
      "AssertionError: can only join a child process\n"
     ]
    },
    {
     "name": "stdout",
     "output_type": "stream",
     "text": [
      "Epoch Loss: 26.01795619726181\n"
     ]
    },
    {
     "name": "stderr",
     "output_type": "stream",
     "text": [
      "11it [00:00, 21.60it/s]\n"
     ]
    },
    {
     "name": "stdout",
     "output_type": "stream",
     "text": [
      "Scores after epoch 14: {'Overall Acc: ': 0.9337890042634343, 'FreqW Acc : ': 23225558.880563598, 'Mean IoU : ': 14430969.5}\n",
      "Starting Epoch: 15\n"
     ]
    },
    {
     "name": "stderr",
     "output_type": "stream",
     "text": [
      "Exception ignored in: <function _MultiProcessingDataLoaderIter.__del__ at 0x7f4f4423c290>\n",
      "Traceback (most recent call last):\n",
      "  File \"/usr/local/google/home/ammarh/anaconda3/lib/python3.7/site-packages/torch/utils/data/dataloader.py\", line 1101, in __del__\n",
      "    self._shutdown_workers()\n",
      "  File \"/usr/local/google/home/ammarh/anaconda3/lib/python3.7/site-packages/torch/utils/data/dataloader.py\", line 1075, in _shutdown_workers\n",
      "    w.join(timeout=_utils.MP_STATUS_CHECK_INTERVAL)\n",
      "  File \"/usr/local/google/home/ammarh/anaconda3/lib/python3.7/multiprocessing/process.py\", line 138, in join\n",
      "    assert self._parent_pid == os.getpid(), 'can only join a child process'\n",
      "AssertionError: can only join a child process\n"
     ]
    },
    {
     "name": "stdout",
     "output_type": "stream",
     "text": [
      "Epoch Loss: 25.60328460484743\n"
     ]
    },
    {
     "name": "stderr",
     "output_type": "stream",
     "text": [
      "11it [00:00, 21.10it/s]\n"
     ]
    },
    {
     "name": "stdout",
     "output_type": "stream",
     "text": [
      "Scores after epoch 15: {'Overall Acc: ': 0.9350014313253711, 'FreqW Acc : ': 24900320.7328943, 'Mean IoU : ': 15481828.5}\n",
      "Starting Epoch: 16\n"
     ]
    },
    {
     "name": "stderr",
     "output_type": "stream",
     "text": [
      "Exception ignored in: <function _MultiProcessingDataLoaderIter.__del__ at 0x7f4f4423c290>\n",
      "Traceback (most recent call last):\n",
      "  File \"/usr/local/google/home/ammarh/anaconda3/lib/python3.7/site-packages/torch/utils/data/dataloader.py\", line 1101, in __del__\n",
      "    self._shutdown_workers()\n",
      "  File \"/usr/local/google/home/ammarh/anaconda3/lib/python3.7/site-packages/torch/utils/data/dataloader.py\", line 1075, in _shutdown_workers\n",
      "    w.join(timeout=_utils.MP_STATUS_CHECK_INTERVAL)\n",
      "  File \"/usr/local/google/home/ammarh/anaconda3/lib/python3.7/multiprocessing/process.py\", line 138, in join\n",
      "    assert self._parent_pid == os.getpid(), 'can only join a child process'\n",
      "AssertionError: can only join a child process\n"
     ]
    },
    {
     "name": "stdout",
     "output_type": "stream",
     "text": [
      "Epoch Loss: 25.218156442046165\n"
     ]
    },
    {
     "name": "stderr",
     "output_type": "stream",
     "text": [
      "11it [00:00, 21.35it/s]\n"
     ]
    },
    {
     "name": "stdout",
     "output_type": "stream",
     "text": [
      "Scores after epoch 16: {'Overall Acc: ': 0.9361051088803775, 'FreqW Acc : ': 26570186.072477154, 'Mean IoU : ': 16533443.5}\n",
      "Starting Epoch: 17\n"
     ]
    },
    {
     "name": "stderr",
     "output_type": "stream",
     "text": [
      "Exception ignored in: <function _MultiProcessingDataLoaderIter.__del__ at 0x7f4f4423c290>\n",
      "Traceback (most recent call last):\n",
      "  File \"/usr/local/google/home/ammarh/anaconda3/lib/python3.7/site-packages/torch/utils/data/dataloader.py\", line 1101, in __del__\n",
      "    self._shutdown_workers()\n",
      "  File \"/usr/local/google/home/ammarh/anaconda3/lib/python3.7/site-packages/torch/utils/data/dataloader.py\", line 1075, in _shutdown_workers\n",
      "    w.join(timeout=_utils.MP_STATUS_CHECK_INTERVAL)\n",
      "  File \"/usr/local/google/home/ammarh/anaconda3/lib/python3.7/multiprocessing/process.py\", line 138, in join\n",
      "    assert self._parent_pid == os.getpid(), 'can only join a child process'\n",
      "AssertionError: can only join a child process\n"
     ]
    },
    {
     "name": "stdout",
     "output_type": "stream",
     "text": [
      "Epoch Loss: 24.871228240430355\n"
     ]
    },
    {
     "name": "stderr",
     "output_type": "stream",
     "text": [
      "11it [00:00, 21.94it/s]\n"
     ]
    },
    {
     "name": "stdout",
     "output_type": "stream",
     "text": [
      "Scores after epoch 17: {'Overall Acc: ': 0.936934876933728, 'FreqW Acc : ': 28225953.15818048, 'Mean IoU : ': 17582355.0}\n",
      "Starting Epoch: 18\n"
     ]
    },
    {
     "name": "stderr",
     "output_type": "stream",
     "text": [
      "Exception ignored in: <function _MultiProcessingDataLoaderIter.__del__ at 0x7f4f4423c290>\n",
      "Traceback (most recent call last):\n",
      "  File \"/usr/local/google/home/ammarh/anaconda3/lib/python3.7/site-packages/torch/utils/data/dataloader.py\", line 1101, in __del__\n",
      "    self._shutdown_workers()\n",
      "  File \"/usr/local/google/home/ammarh/anaconda3/lib/python3.7/site-packages/torch/utils/data/dataloader.py\", line 1075, in _shutdown_workers\n",
      "    w.join(timeout=_utils.MP_STATUS_CHECK_INTERVAL)\n",
      "  File \"/usr/local/google/home/ammarh/anaconda3/lib/python3.7/multiprocessing/process.py\", line 138, in join\n",
      "    assert self._parent_pid == os.getpid(), 'can only join a child process'\n",
      "AssertionError: can only join a child process\n"
     ]
    },
    {
     "name": "stdout",
     "output_type": "stream",
     "text": [
      "Epoch Loss: 24.66270024329424\n"
     ]
    },
    {
     "name": "stderr",
     "output_type": "stream",
     "text": [
      "11it [00:00, 22.22it/s]\n"
     ]
    },
    {
     "name": "stdout",
     "output_type": "stream",
     "text": [
      "Scores after epoch 18: {'Overall Acc: ': 0.9378759997133324, 'FreqW Acc : ': 29896814.850665655, 'Mean IoU : ': 18635311.0}\n",
      "Starting Epoch: 19\n"
     ]
    },
    {
     "name": "stderr",
     "output_type": "stream",
     "text": [
      "Exception ignored in: <function _MultiProcessingDataLoaderIter.__del__ at 0x7f4f4423c290>\n",
      "Traceback (most recent call last):\n",
      "  File \"/usr/local/google/home/ammarh/anaconda3/lib/python3.7/site-packages/torch/utils/data/dataloader.py\", line 1101, in __del__\n",
      "    self._shutdown_workers()\n",
      "  File \"/usr/local/google/home/ammarh/anaconda3/lib/python3.7/site-packages/torch/utils/data/dataloader.py\", line 1075, in _shutdown_workers\n",
      "    w.join(timeout=_utils.MP_STATUS_CHECK_INTERVAL)\n",
      "  File \"/usr/local/google/home/ammarh/anaconda3/lib/python3.7/multiprocessing/process.py\", line 138, in join\n",
      "    assert self._parent_pid == os.getpid(), 'can only join a child process'\n",
      "AssertionError: can only join a child process\n"
     ]
    },
    {
     "name": "stdout",
     "output_type": "stream",
     "text": [
      "Epoch Loss: 24.334876403212547\n"
     ]
    },
    {
     "name": "stderr",
     "output_type": "stream",
     "text": [
      "11it [00:00, 21.91it/s]\n"
     ]
    },
    {
     "name": "stdout",
     "output_type": "stream",
     "text": [
      "Scores after epoch 19: {'Overall Acc: ': 0.9387059226165048, 'FreqW Acc : ': 31578603.551331587, 'Mean IoU : ': 19688012.5}\n",
      "Starting Epoch: 20\n"
     ]
    },
    {
     "name": "stderr",
     "output_type": "stream",
     "text": [
      "Exception ignored in: <function _MultiProcessingDataLoaderIter.__del__ at 0x7f4f4423c290>\n",
      "Traceback (most recent call last):\n",
      "  File \"/usr/local/google/home/ammarh/anaconda3/lib/python3.7/site-packages/torch/utils/data/dataloader.py\", line 1101, in __del__\n",
      "    self._shutdown_workers()\n",
      "  File \"/usr/local/google/home/ammarh/anaconda3/lib/python3.7/site-packages/torch/utils/data/dataloader.py\", line 1075, in _shutdown_workers\n",
      "    w.join(timeout=_utils.MP_STATUS_CHECK_INTERVAL)\n",
      "  File \"/usr/local/google/home/ammarh/anaconda3/lib/python3.7/multiprocessing/process.py\", line 138, in join\n",
      "    assert self._parent_pid == os.getpid(), 'can only join a child process'\n",
      "AssertionError: can only join a child process\n"
     ]
    },
    {
     "name": "stdout",
     "output_type": "stream",
     "text": [
      "Epoch Loss: 24.103244625031948\n"
     ]
    },
    {
     "name": "stderr",
     "output_type": "stream",
     "text": [
      "11it [00:00, 21.28it/s]\n"
     ]
    },
    {
     "name": "stdout",
     "output_type": "stream",
     "text": [
      "Scores after epoch 20: {'Overall Acc: ': 0.939504217880334, 'FreqW Acc : ': 33249856.30604545, 'Mean IoU : ': 20741848.0}\n",
      "Starting Epoch: 21\n"
     ]
    },
    {
     "name": "stderr",
     "output_type": "stream",
     "text": [
      "Exception ignored in: <function _MultiProcessingDataLoaderIter.__del__ at 0x7f4f4423c290>\n",
      "Traceback (most recent call last):\n",
      "  File \"/usr/local/google/home/ammarh/anaconda3/lib/python3.7/site-packages/torch/utils/data/dataloader.py\", line 1101, in __del__\n",
      "    self._shutdown_workers()\n",
      "  File \"/usr/local/google/home/ammarh/anaconda3/lib/python3.7/site-packages/torch/utils/data/dataloader.py\", line 1075, in _shutdown_workers\n",
      "    w.join(timeout=_utils.MP_STATUS_CHECK_INTERVAL)\n",
      "  File \"/usr/local/google/home/ammarh/anaconda3/lib/python3.7/multiprocessing/process.py\", line 138, in join\n",
      "    assert self._parent_pid == os.getpid(), 'can only join a child process'\n",
      "AssertionError: can only join a child process\n"
     ]
    },
    {
     "name": "stdout",
     "output_type": "stream",
     "text": [
      "Epoch Loss: 23.88468150794506\n"
     ]
    },
    {
     "name": "stderr",
     "output_type": "stream",
     "text": [
      "11it [00:00, 21.01it/s]\n"
     ]
    },
    {
     "name": "stdout",
     "output_type": "stream",
     "text": [
      "Scores after epoch 21: {'Overall Acc: ': 0.9402439775626159, 'FreqW Acc : ': 34925158.88469949, 'Mean IoU : ': 21796089.0}\n",
      "Starting Epoch: 22\n"
     ]
    },
    {
     "name": "stderr",
     "output_type": "stream",
     "text": [
      "Exception ignored in: <function _MultiProcessingDataLoaderIter.__del__ at 0x7f4f4423c290>\n",
      "Traceback (most recent call last):\n",
      "  File \"/usr/local/google/home/ammarh/anaconda3/lib/python3.7/site-packages/torch/utils/data/dataloader.py\", line 1101, in __del__\n",
      "    self._shutdown_workers()\n",
      "  File \"/usr/local/google/home/ammarh/anaconda3/lib/python3.7/site-packages/torch/utils/data/dataloader.py\", line 1075, in _shutdown_workers\n",
      "    w.join(timeout=_utils.MP_STATUS_CHECK_INTERVAL)\n",
      "  File \"/usr/local/google/home/ammarh/anaconda3/lib/python3.7/multiprocessing/process.py\", line 138, in join\n",
      "    assert self._parent_pid == os.getpid(), 'can only join a child process'\n",
      "AssertionError: can only join a child process\n"
     ]
    },
    {
     "name": "stdout",
     "output_type": "stream",
     "text": [
      "Epoch Loss: 23.657935604453087\n"
     ]
    },
    {
     "name": "stderr",
     "output_type": "stream",
     "text": [
      "11it [00:00, 21.29it/s]\n"
     ]
    },
    {
     "name": "stdout",
     "output_type": "stream",
     "text": [
      "Scores after epoch 22: {'Overall Acc: ': 0.9409301572514336, 'FreqW Acc : ': 36597853.826344, 'Mean IoU : ': 22850662.0}\n",
      "Starting Epoch: 23\n"
     ]
    },
    {
     "name": "stderr",
     "output_type": "stream",
     "text": [
      "Exception ignored in: <function _MultiProcessingDataLoaderIter.__del__ at 0x7f4f4423c290>\n",
      "Traceback (most recent call last):\n",
      "  File \"/usr/local/google/home/ammarh/anaconda3/lib/python3.7/site-packages/torch/utils/data/dataloader.py\", line 1101, in __del__\n",
      "    self._shutdown_workers()\n",
      "  File \"/usr/local/google/home/ammarh/anaconda3/lib/python3.7/site-packages/torch/utils/data/dataloader.py\", line 1075, in _shutdown_workers\n",
      "    w.join(timeout=_utils.MP_STATUS_CHECK_INTERVAL)\n",
      "  File \"/usr/local/google/home/ammarh/anaconda3/lib/python3.7/multiprocessing/process.py\", line 138, in join\n",
      "    assert self._parent_pid == os.getpid(), 'can only join a child process'\n",
      "AssertionError: can only join a child process\n"
     ]
    },
    {
     "name": "stdout",
     "output_type": "stream",
     "text": [
      "Epoch Loss: 23.506035789847374\n"
     ]
    },
    {
     "name": "stderr",
     "output_type": "stream",
     "text": [
      "11it [00:00, 22.17it/s]\n"
     ]
    },
    {
     "name": "stdout",
     "output_type": "stream",
     "text": [
      "Scores after epoch 23: {'Overall Acc: ': 0.941569725948062, 'FreqW Acc : ': 38270001.38034618, 'Mean IoU : ': 23905566.5}\n",
      "Starting Epoch: 24\n"
     ]
    },
    {
     "name": "stderr",
     "output_type": "stream",
     "text": [
      "Exception ignored in: <function _MultiProcessingDataLoaderIter.__del__ at 0x7f4f4423c290>\n",
      "Traceback (most recent call last):\n",
      "  File \"/usr/local/google/home/ammarh/anaconda3/lib/python3.7/site-packages/torch/utils/data/dataloader.py\", line 1101, in __del__\n",
      "    self._shutdown_workers()\n",
      "  File \"/usr/local/google/home/ammarh/anaconda3/lib/python3.7/site-packages/torch/utils/data/dataloader.py\", line 1075, in _shutdown_workers\n",
      "    w.join(timeout=_utils.MP_STATUS_CHECK_INTERVAL)\n",
      "  File \"/usr/local/google/home/ammarh/anaconda3/lib/python3.7/multiprocessing/process.py\", line 138, in join\n",
      "    assert self._parent_pid == os.getpid(), 'can only join a child process'\n",
      "AssertionError: can only join a child process\n"
     ]
    },
    {
     "name": "stdout",
     "output_type": "stream",
     "text": [
      "Epoch Loss: 23.258119739592075\n"
     ]
    },
    {
     "name": "stderr",
     "output_type": "stream",
     "text": [
      "11it [00:00, 22.23it/s]\n"
     ]
    },
    {
     "name": "stdout",
     "output_type": "stream",
     "text": [
      "Scores after epoch 24: {'Overall Acc: ': 0.94219159165797, 'FreqW Acc : ': 39948913.391751945, 'Mean IoU : ': 24961414.0}\n",
      "Starting Epoch: 25\n"
     ]
    },
    {
     "name": "stderr",
     "output_type": "stream",
     "text": [
      "Exception ignored in: <function _MultiProcessingDataLoaderIter.__del__ at 0x7f4f4423c290>\n",
      "Traceback (most recent call last):\n",
      "  File \"/usr/local/google/home/ammarh/anaconda3/lib/python3.7/site-packages/torch/utils/data/dataloader.py\", line 1101, in __del__\n",
      "    self._shutdown_workers()\n",
      "  File \"/usr/local/google/home/ammarh/anaconda3/lib/python3.7/site-packages/torch/utils/data/dataloader.py\", line 1075, in _shutdown_workers\n",
      "    w.join(timeout=_utils.MP_STATUS_CHECK_INTERVAL)\n",
      "  File \"/usr/local/google/home/ammarh/anaconda3/lib/python3.7/multiprocessing/process.py\", line 138, in join\n",
      "    assert self._parent_pid == os.getpid(), 'can only join a child process'\n",
      "AssertionError: can only join a child process\n"
     ]
    },
    {
     "name": "stdout",
     "output_type": "stream",
     "text": [
      "Epoch Loss: 23.187062554061413\n"
     ]
    },
    {
     "name": "stderr",
     "output_type": "stream",
     "text": [
      "11it [00:00, 21.84it/s]\n"
     ]
    },
    {
     "name": "stdout",
     "output_type": "stream",
     "text": [
      "Scores after epoch 25: {'Overall Acc: ': 0.9427582183441559, 'FreqW Acc : ': 41625354.105318375, 'Mean IoU : ': 26017110.0}\n",
      "Starting Epoch: 26\n"
     ]
    },
    {
     "name": "stderr",
     "output_type": "stream",
     "text": [
      "Exception ignored in: <function _MultiProcessingDataLoaderIter.__del__ at 0x7f4f4423c290>\n",
      "Traceback (most recent call last):\n",
      "  File \"/usr/local/google/home/ammarh/anaconda3/lib/python3.7/site-packages/torch/utils/data/dataloader.py\", line 1101, in __del__\n",
      "    self._shutdown_workers()\n",
      "  File \"/usr/local/google/home/ammarh/anaconda3/lib/python3.7/site-packages/torch/utils/data/dataloader.py\", line 1075, in _shutdown_workers\n",
      "    w.join(timeout=_utils.MP_STATUS_CHECK_INTERVAL)\n",
      "  File \"/usr/local/google/home/ammarh/anaconda3/lib/python3.7/multiprocessing/process.py\", line 138, in join\n",
      "    assert self._parent_pid == os.getpid(), 'can only join a child process'\n",
      "AssertionError: can only join a child process\n"
     ]
    },
    {
     "name": "stdout",
     "output_type": "stream",
     "text": [
      "Epoch Loss: 23.02402748912573\n"
     ]
    },
    {
     "name": "stderr",
     "output_type": "stream",
     "text": [
      "11it [00:00, 22.23it/s]\n"
     ]
    },
    {
     "name": "stdout",
     "output_type": "stream",
     "text": [
      "Scores after epoch 26: {'Overall Acc: ': 0.9432975994429678, 'FreqW Acc : ': 43300367.88441504, 'Mean IoU : ': 27073275.0}\n",
      "Starting Epoch: 27\n"
     ]
    },
    {
     "name": "stderr",
     "output_type": "stream",
     "text": [
      "Exception ignored in: <function _MultiProcessingDataLoaderIter.__del__ at 0x7f4f4423c290>\n",
      "Traceback (most recent call last):\n",
      "  File \"/usr/local/google/home/ammarh/anaconda3/lib/python3.7/site-packages/torch/utils/data/dataloader.py\", line 1101, in __del__\n",
      "    self._shutdown_workers()\n",
      "  File \"/usr/local/google/home/ammarh/anaconda3/lib/python3.7/site-packages/torch/utils/data/dataloader.py\", line 1075, in _shutdown_workers\n",
      "    w.join(timeout=_utils.MP_STATUS_CHECK_INTERVAL)\n",
      "  File \"/usr/local/google/home/ammarh/anaconda3/lib/python3.7/multiprocessing/process.py\", line 138, in join\n",
      "    assert self._parent_pid == os.getpid(), 'can only join a child process'\n",
      "AssertionError: can only join a child process\n"
     ]
    },
    {
     "name": "stdout",
     "output_type": "stream",
     "text": [
      "Epoch Loss: 22.8247454687953\n"
     ]
    },
    {
     "name": "stderr",
     "output_type": "stream",
     "text": [
      "11it [00:00, 18.31it/s]\n"
     ]
    },
    {
     "name": "stdout",
     "output_type": "stream",
     "text": [
      "Scores after epoch 27: {'Overall Acc: ': 0.9438140707671958, 'FreqW Acc : ': 44979414.22446262, 'Mean IoU : ': 28129948.0}\n",
      "Starting Epoch: 28\n"
     ]
    },
    {
     "name": "stderr",
     "output_type": "stream",
     "text": [
      "Exception ignored in: <function _MultiProcessingDataLoaderIter.__del__ at 0x7f4f4423c290>\n",
      "Traceback (most recent call last):\n",
      "  File \"/usr/local/google/home/ammarh/anaconda3/lib/python3.7/site-packages/torch/utils/data/dataloader.py\", line 1101, in __del__\n",
      "    self._shutdown_workers()\n",
      "  File \"/usr/local/google/home/ammarh/anaconda3/lib/python3.7/site-packages/torch/utils/data/dataloader.py\", line 1075, in _shutdown_workers\n",
      "    w.join(timeout=_utils.MP_STATUS_CHECK_INTERVAL)\n",
      "  File \"/usr/local/google/home/ammarh/anaconda3/lib/python3.7/multiprocessing/process.py\", line 138, in join\n",
      "    assert self._parent_pid == os.getpid(), 'can only join a child process'\n",
      "AssertionError: can only join a child process\n"
     ]
    },
    {
     "name": "stdout",
     "output_type": "stream",
     "text": [
      "Epoch Loss: 22.665088079869747\n"
     ]
    },
    {
     "name": "stderr",
     "output_type": "stream",
     "text": [
      "11it [00:00, 22.07it/s]\n"
     ]
    },
    {
     "name": "stdout",
     "output_type": "stream",
     "text": [
      "Scores after epoch 28: {'Overall Acc: ': 0.9442807745307945, 'FreqW Acc : ': 46659071.727253705, 'Mean IoU : ': 29186223.0}\n",
      "Starting Epoch: 29\n"
     ]
    },
    {
     "name": "stderr",
     "output_type": "stream",
     "text": [
      "Exception ignored in: <function _MultiProcessingDataLoaderIter.__del__ at 0x7f4f4423c290>\n",
      "Traceback (most recent call last):\n",
      "  File \"/usr/local/google/home/ammarh/anaconda3/lib/python3.7/site-packages/torch/utils/data/dataloader.py\", line 1101, in __del__\n",
      "    self._shutdown_workers()\n",
      "  File \"/usr/local/google/home/ammarh/anaconda3/lib/python3.7/site-packages/torch/utils/data/dataloader.py\", line 1075, in _shutdown_workers\n",
      "    w.join(timeout=_utils.MP_STATUS_CHECK_INTERVAL)\n",
      "  File \"/usr/local/google/home/ammarh/anaconda3/lib/python3.7/multiprocessing/process.py\", line 138, in join\n",
      "    assert self._parent_pid == os.getpid(), 'can only join a child process'\n",
      "AssertionError: can only join a child process\n"
     ]
    },
    {
     "name": "stdout",
     "output_type": "stream",
     "text": [
      "Epoch Loss: 22.530371502041817\n"
     ]
    },
    {
     "name": "stderr",
     "output_type": "stream",
     "text": [
      "11it [00:00, 18.72it/s]\n"
     ]
    },
    {
     "name": "stdout",
     "output_type": "stream",
     "text": [
      "Scores after epoch 29: {'Overall Acc: ': 0.944727911981799, 'FreqW Acc : ': 48334356.97691128, 'Mean IoU : ': 30242902.0}\n",
      "Starting Epoch: 30\n"
     ]
    },
    {
     "name": "stderr",
     "output_type": "stream",
     "text": [
      "Exception ignored in: <function _MultiProcessingDataLoaderIter.__del__ at 0x7f4f4423c290>\n",
      "Traceback (most recent call last):\n",
      "  File \"/usr/local/google/home/ammarh/anaconda3/lib/python3.7/site-packages/torch/utils/data/dataloader.py\", line 1101, in __del__\n",
      "    self._shutdown_workers()\n",
      "  File \"/usr/local/google/home/ammarh/anaconda3/lib/python3.7/site-packages/torch/utils/data/dataloader.py\", line 1075, in _shutdown_workers\n",
      "    w.join(timeout=_utils.MP_STATUS_CHECK_INTERVAL)\n",
      "  File \"/usr/local/google/home/ammarh/anaconda3/lib/python3.7/multiprocessing/process.py\", line 138, in join\n",
      "    assert self._parent_pid == os.getpid(), 'can only join a child process'\n",
      "AssertionError: can only join a child process\n"
     ]
    },
    {
     "name": "stdout",
     "output_type": "stream",
     "text": [
      "Epoch Loss: 22.42612673342228\n"
     ]
    },
    {
     "name": "stderr",
     "output_type": "stream",
     "text": [
      "11it [00:00, 18.84it/s]\n"
     ]
    },
    {
     "name": "stdout",
     "output_type": "stream",
     "text": [
      "Scores after epoch 30: {'Overall Acc: ': 0.9451700770862322, 'FreqW Acc : ': 50014795.341243826, 'Mean IoU : ': 31300403.5}\n",
      "Starting Epoch: 31\n"
     ]
    },
    {
     "name": "stderr",
     "output_type": "stream",
     "text": [
      "Exception ignored in: <function _MultiProcessingDataLoaderIter.__del__ at 0x7f4f4423c290>\n",
      "Traceback (most recent call last):\n",
      "  File \"/usr/local/google/home/ammarh/anaconda3/lib/python3.7/site-packages/torch/utils/data/dataloader.py\", line 1101, in __del__\n",
      "    self._shutdown_workers()\n",
      "  File \"/usr/local/google/home/ammarh/anaconda3/lib/python3.7/site-packages/torch/utils/data/dataloader.py\", line 1075, in _shutdown_workers\n",
      "    w.join(timeout=_utils.MP_STATUS_CHECK_INTERVAL)\n",
      "  File \"/usr/local/google/home/ammarh/anaconda3/lib/python3.7/multiprocessing/process.py\", line 138, in join\n",
      "    assert self._parent_pid == os.getpid(), 'can only join a child process'\n",
      "AssertionError: can only join a child process\n"
     ]
    },
    {
     "name": "stdout",
     "output_type": "stream",
     "text": [
      "Epoch Loss: 22.30680575966835\n"
     ]
    },
    {
     "name": "stderr",
     "output_type": "stream",
     "text": [
      "11it [00:00, 18.60it/s]\n"
     ]
    },
    {
     "name": "stdout",
     "output_type": "stream",
     "text": [
      "Scores after epoch 31: {'Overall Acc: ': 0.9455851473195583, 'FreqW Acc : ': 51695114.51178579, 'Mean IoU : ': 32357954.0}\n",
      "Starting Epoch: 32\n"
     ]
    },
    {
     "name": "stderr",
     "output_type": "stream",
     "text": [
      "Exception ignored in: <function _MultiProcessingDataLoaderIter.__del__ at 0x7f4f4423c290>\n",
      "Traceback (most recent call last):\n",
      "  File \"/usr/local/google/home/ammarh/anaconda3/lib/python3.7/site-packages/torch/utils/data/dataloader.py\", line 1101, in __del__\n",
      "    self._shutdown_workers()\n",
      "  File \"/usr/local/google/home/ammarh/anaconda3/lib/python3.7/site-packages/torch/utils/data/dataloader.py\", line 1075, in _shutdown_workers\n",
      "    w.join(timeout=_utils.MP_STATUS_CHECK_INTERVAL)\n",
      "  File \"/usr/local/google/home/ammarh/anaconda3/lib/python3.7/multiprocessing/process.py\", line 138, in join\n",
      "    assert self._parent_pid == os.getpid(), 'can only join a child process'\n",
      "AssertionError: can only join a child process\n"
     ]
    },
    {
     "name": "stdout",
     "output_type": "stream",
     "text": [
      "Epoch Loss: 22.168194212019444\n"
     ]
    },
    {
     "name": "stderr",
     "output_type": "stream",
     "text": [
      "11it [00:00, 21.71it/s]\n"
     ]
    },
    {
     "name": "stdout",
     "output_type": "stream",
     "text": [
      "Scores after epoch 32: {'Overall Acc: ': 0.945979102423107, 'FreqW Acc : ': 53375585.03526677, 'Mean IoU : ': 33415675.0}\n",
      "Starting Epoch: 33\n"
     ]
    },
    {
     "name": "stderr",
     "output_type": "stream",
     "text": [
      "Exception ignored in: <function _MultiProcessingDataLoaderIter.__del__ at 0x7f4f4423c290>\n",
      "Traceback (most recent call last):\n",
      "  File \"/usr/local/google/home/ammarh/anaconda3/lib/python3.7/site-packages/torch/utils/data/dataloader.py\", line 1101, in __del__\n",
      "    self._shutdown_workers()\n",
      "  File \"/usr/local/google/home/ammarh/anaconda3/lib/python3.7/site-packages/torch/utils/data/dataloader.py\", line 1075, in _shutdown_workers\n",
      "    w.join(timeout=_utils.MP_STATUS_CHECK_INTERVAL)\n",
      "  File \"/usr/local/google/home/ammarh/anaconda3/lib/python3.7/multiprocessing/process.py\", line 138, in join\n",
      "    assert self._parent_pid == os.getpid(), 'can only join a child process'\n",
      "AssertionError: can only join a child process\n"
     ]
    },
    {
     "name": "stdout",
     "output_type": "stream",
     "text": [
      "Epoch Loss: 22.060218684375286\n"
     ]
    },
    {
     "name": "stderr",
     "output_type": "stream",
     "text": [
      "11it [00:00, 21.89it/s]\n"
     ]
    },
    {
     "name": "stdout",
     "output_type": "stream",
     "text": [
      "Scores after epoch 33: {'Overall Acc: ': 0.9463554541457595, 'FreqW Acc : ': 55052216.9977357, 'Mean IoU : ': 34473624.5}\n",
      "Starting Epoch: 34\n"
     ]
    },
    {
     "name": "stderr",
     "output_type": "stream",
     "text": [
      "Exception ignored in: <function _MultiProcessingDataLoaderIter.__del__ at 0x7f4f4423c290>\n",
      "Traceback (most recent call last):\n",
      "  File \"/usr/local/google/home/ammarh/anaconda3/lib/python3.7/site-packages/torch/utils/data/dataloader.py\", line 1101, in __del__\n",
      "    self._shutdown_workers()\n",
      "  File \"/usr/local/google/home/ammarh/anaconda3/lib/python3.7/site-packages/torch/utils/data/dataloader.py\", line 1075, in _shutdown_workers\n",
      "    w.join(timeout=_utils.MP_STATUS_CHECK_INTERVAL)\n",
      "  File \"/usr/local/google/home/ammarh/anaconda3/lib/python3.7/multiprocessing/process.py\", line 138, in join\n",
      "    assert self._parent_pid == os.getpid(), 'can only join a child process'\n",
      "AssertionError: can only join a child process\n"
     ]
    },
    {
     "name": "stdout",
     "output_type": "stream",
     "text": [
      "Epoch Loss: 21.952831253409386\n"
     ]
    },
    {
     "name": "stderr",
     "output_type": "stream",
     "text": [
      "11it [00:00, 21.98it/s]\n"
     ]
    },
    {
     "name": "stdout",
     "output_type": "stream",
     "text": [
      "Scores after epoch 34: {'Overall Acc: ': 0.9467172744452895, 'FreqW Acc : ': 56732657.89485783, 'Mean IoU : ': 35531859.5}\n",
      "Starting Epoch: 35\n"
     ]
    },
    {
     "name": "stderr",
     "output_type": "stream",
     "text": [
      "Exception ignored in: <function _MultiProcessingDataLoaderIter.__del__ at 0x7f4f4423c290>\n",
      "Traceback (most recent call last):\n",
      "  File \"/usr/local/google/home/ammarh/anaconda3/lib/python3.7/site-packages/torch/utils/data/dataloader.py\", line 1101, in __del__\n",
      "    self._shutdown_workers()\n",
      "  File \"/usr/local/google/home/ammarh/anaconda3/lib/python3.7/site-packages/torch/utils/data/dataloader.py\", line 1075, in _shutdown_workers\n",
      "    w.join(timeout=_utils.MP_STATUS_CHECK_INTERVAL)\n",
      "  File \"/usr/local/google/home/ammarh/anaconda3/lib/python3.7/multiprocessing/process.py\", line 138, in join\n",
      "    assert self._parent_pid == os.getpid(), 'can only join a child process'\n",
      "AssertionError: can only join a child process\n"
     ]
    }
   ],
   "source": [
    "%load_ext autoreload\n",
    "%autoreload 2\n",
    "\n",
    "import os\n",
    "import yaml\n",
    "import time\n",
    "import random\n",
    "import numpy as np\n",
    "from tqdm import tqdm\n",
    "\n",
    "import torch\n",
    "from torch.utils import data\n",
    "from tensorboardX import SummaryWriter\n",
    "\n",
    "# Datasets\n",
    "from data_loader.mnist import NoisyMNISTDataLoader\n",
    "\n",
    "# Models\n",
    "from models.autoencoder import SmallAutoEncoder\n",
    "# Loss\n",
    "from loss.cross_entropy_2d import CrossEntropy2d\n",
    "# Metrics\n",
    "from utils.metrics import MetricsComp, AverageComp\n",
    "\n",
    "def train(config, data_set):\n",
    "    # setup seeds\n",
    "    torch.manual_seed(config[\"seed\"])\n",
    "    torch.cuda.manual_seed(config[\"seed\"])\n",
    "    np.random.seed(config[\"seed\"])\n",
    "    torch.cuda.empty_cache()\n",
    "    \n",
    "    # setup device\n",
    "    device = torch.device(\"cuda\" if torch.cuda.is_available() else \"cpu\")\n",
    "    \n",
    "    # setup dataloader\n",
    "    train_data_set = data_set(split=\"training\")\n",
    "    train_data = data.DataLoader(train_data_set, batch_size=config[\"batch_sz\"],\\\n",
    "                                 num_workers=config[\"num_workers\"], shuffle=True)\n",
    "    val_data = data.DataLoader(data_set(split=\"validation\"), batch_size=config[\"batch_sz\"],\\\n",
    "                               num_workers=config[\"num_workers\"])  \n",
    "    \n",
    "    n_classes = 2\n",
    "    \n",
    "    # setup metrics\n",
    "    metrics_comp = MetricsComp(n_classes)\n",
    "    val_loss_avg_comp = AverageComp()\n",
    "\n",
    "    # setup model\n",
    "    model = SmallAutoEncoder().to(device)\n",
    "    \n",
    "    # setup optimizer\n",
    "    optimizer = torch.optim.Adam(model.parameters())\n",
    "        \n",
    "    # setup loss\n",
    "    try:\n",
    "      loss_fn_weight = train_data_set.class_imbalance_weight.to(device)\n",
    "    except:\n",
    "      loss_fn_weight = None\n",
    "    loss_fn = CrossEntropy2d(weight=loss_fn_weight)\n",
    "    \n",
    "    # setup tensorboard writer & checkpoint dir \n",
    "    exp_name = config.get(\"exp_name\", \"\")\n",
    "    uniq_name = f\"{train_data_set.name}_{model.name}_{exp_name}_logs\"\n",
    "    writer = SummaryWriter(log_dir=\"checkpoints/\" + uniq_name)\n",
    "    \n",
    "    i = 0\n",
    "    # Load a saved checkpoint\n",
    "    if config.get(\"resume_ckpoint\") is not None:\n",
    "        if os.path.isfile(config[\"resume_ckpoint\"]):\n",
    "            print(f\"Loading checkpoint: {config['resume_ckpoint']}\")\n",
    "            ckpoint = torch.load(config[\"resume_ckpoint\"])\n",
    "            model.load_state_dict(ckpoint[\"model_state\"])\n",
    "            optimizer.load_state_dict(ckpoint[\"optimizer_state\"])\n",
    "            i = ckpoint[\"epoch\"]\n",
    "            print(f\"Saved epoch: {i}, loss: {ckpoint['epoch_loss']}, time: {ckpoint['epoch_time']}\")\n",
    "        else:\n",
    "            raise FileNotFoundError(\"Unable to load saved checkpoint!, Quitting\")\n",
    "            \n",
    "    while i < config[\"epochs\"]:\n",
    "        i += 1\n",
    "        epoch_loss = 0\n",
    "        epoch_time = 0\n",
    "        # Prepare for training\n",
    "        model.train()\n",
    "        optimizer.zero_grad()\n",
    "        acc_gradients_batch = 0\n",
    "        \n",
    "        print(f\"Starting Epoch: {i}\")\n",
    "        for b_i, (images, labels) in enumerate(train_data):\n",
    "            start_ts = time.time()\n",
    "            images = images.to(device)\n",
    "            labels = labels.to(device)\n",
    "\n",
    "            out = model(images) # [batch_sz, 2, H=28, W=28]\n",
    "            acc_gradients_batch += out.shape[0]\n",
    "            \n",
    "            loss = loss_fn(out, labels)    \n",
    "            loss.backward()\n",
    "            \n",
    "            # See if it is time to take a gradient step.\n",
    "            if acc_gradients_batch >= 100: # gradient step every 100 samples\n",
    "              optimizer.step()\n",
    "              optimizer.zero_grad()\n",
    "              acc_gradients_batch = 0\n",
    "             \n",
    "            epoch_loss += float(loss.item())\n",
    "            epoch_time += time.time() - start_ts\n",
    "        \n",
    "        print(f\"Epoch Loss: {epoch_loss}\")\n",
    "        writer.add_scalar(f\"epoch_loss\", epoch_loss, i)\n",
    "\n",
    "        # Run through validation\n",
    "        model.eval()\n",
    "        with torch.no_grad():\n",
    "            ctr = 0\n",
    "            for _, (images_val, labels_val) in tqdm(enumerate(val_data)):\n",
    "                if ctr > 10:\n",
    "                    break\n",
    "                ctr += 1\n",
    "                images_val = images_val.to(device)\n",
    "                labels_val = labels_val.to(device)               \n",
    "                out = model(images_val) # [batch_sz, 2, H=28, W=28]\n",
    "                val_loss = loss_fn(out, labels_val)\n",
    "                val_loss_avg_comp.update(val_loss.item())\n",
    "                \n",
    "                _, pred = out.max(1)\n",
    "                \n",
    "                metrics_comp.update(label_trues=labels_val.cpu().numpy(), label_preds=pred.cpu().numpy())\n",
    "\n",
    "        # Add validation results to tensorboard writer\n",
    "        writer.add_scalar(\"val_loss\", val_loss_avg_comp.avg, i)\n",
    "        overall_scores, class_iou = metrics_comp.get_results()\n",
    "        print(f\"Scores after epoch {i}: {overall_scores}\")\n",
    "        for k, v in overall_scores.items():\n",
    "            writer.add_scalar(f\"val_metrics/{k}\", v, i)\n",
    "        for k, v in class_iou.items():\n",
    "            writer.add_scalar(f\"val_metrics/cls_iou_{k}\", v, i)\n",
    "        \n",
    "        if (config[\"save_ckpoint\"]):\n",
    "          # Save the model checkpoint\n",
    "          ckpoint = {\"epoch\":i,\n",
    "                     \"model_state\": model.state_dict(),\n",
    "                     \"optimizer_state\": optimizer.state_dict(),\n",
    "                     \"epoch_loss\": epoch_loss,\n",
    "                     \"epoch_time\": epoch_time,\n",
    "                    }\n",
    "          ckpoint_name = f\"checkpoints/{uniq_name}_{i%3}.pkl\"\n",
    "          torch.save(ckpoint, ckpoint_name)\n",
    "    \n",
    "#TMP batch size reduced to 8->4            \n",
    "config = {\"exp_name\": \"denoise\", \"batch_sz\": 256, \"epochs\": 500,\\\n",
    "          \"seed\": 3642, \"num_workers\": 1, \"save_ckpoint\": True} #\"resume_ckpoint\": \"checkpoints/fcn32s_3.pkl\", }\n",
    "\n",
    "train(config, NoisyMNISTDataLoader)\n"
   ]
  },
  {
   "cell_type": "code",
   "execution_count": null,
   "metadata": {},
   "outputs": [],
   "source": []
  }
 ],
 "metadata": {
  "kernelspec": {
   "display_name": "Python 3",
   "language": "python",
   "name": "python3"
  },
  "language_info": {
   "codemirror_mode": {
    "name": "ipython",
    "version": 3
   },
   "file_extension": ".py",
   "mimetype": "text/x-python",
   "name": "python",
   "nbconvert_exporter": "python",
   "pygments_lexer": "ipython3",
   "version": "3.7.7"
  }
 },
 "nbformat": 4,
 "nbformat_minor": 4
}
