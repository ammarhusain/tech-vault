{
  "nbformat": 4,
  "nbformat_minor": 0,
  "metadata": {
    "colab": {
      "provenance": []
    }
  },
  "cells": [
    {
      "cell_type": "code",
      "source": [
        "# A bit of setup\n",
        "import numpy as np\n",
        "import matplotlib.pyplot as plt\n",
        "\n",
        "%matplotlib inline\n",
        "plt.rcParams['figure.figsize'] = (10.0, 8.0) # set default size of plots\n",
        "plt.rcParams['image.interpolation'] = 'nearest'\n",
        "plt.rcParams['image.cmap'] = 'gray'\n",
        "\n",
        "# for auto-reloading extenrnal modules\n",
        "# see http://stackoverflow.com/questions/1907993/autoreload-of-modules-in-ipython\n",
        "%load_ext autoreload\n",
        "%autoreload 2"
      ],
      "outputs": [],
      "metadata": {
        "id": "fUcnwzSmeUGf"
      },
      "execution_count": null
    },
    {
      "cell_type": "code",
      "source": [
        "np.random.seed(0)\n",
        "N = 100 # number of points per class\n",
        "D = 2 # dimensionality\n",
        "K = 3 # number of classes\n",
        "X = np.zeros((N*K,D))\n",
        "y = np.zeros(N*K, dtype='uint8')\n",
        "for j in xrange(K):\n",
        "  ix = range(N*j,N*(j+1))\n",
        "  r = np.linspace(0.0,1,N) # radius\n",
        "  t = np.linspace(j*4,(j+1)*4,N) + np.random.randn(N)*0.2 # theta\n",
        "  X[ix] = np.c_[r*np.sin(t), r*np.cos(t)]\n",
        "  y[ix] = j\n",
        "fig = plt.figure()\n",
        "plt.scatter(X[:, 0], X[:, 1], c=y, s=40, cmap=plt.cm.Spectral)\n",
        "plt.xlim([-1,1])\n",
        "plt.ylim([-1,1])\n",
        "#fig.savefig('spiral_raw.png')"
      ],
      "outputs": [
        {
          "output_type": "display_data",
          "data": {},
          "metadata": {}
        }
      ],
      "metadata": {
        "id": "Zjj0zbugeUGh",
        "outputId": "0d429ef0-f119-45c0-eb45-ac16a3a15264"
      },
      "execution_count": null
    },
    {
      "cell_type": "code",
      "source": [
        "#Train a Linear Classifier\n",
        "\n",
        "# initialize parameters randomly\n",
        "W = 0.01 * np.random.randn(D,K)\n",
        "b = np.zeros((1,K))\n",
        "\n",
        "# some hyperparameters\n",
        "step_size = 1e-0\n",
        "reg = 1e-3 # regularization strength\n",
        "\n",
        "# gradient descent loop\n",
        "num_examples = X.shape[0]\n",
        "for i in xrange(200):\n",
        "  \n",
        "  # evaluate class scores, [N x K]\n",
        "  scores = np.dot(X, W) + b \n",
        "  \n",
        "  # compute the class probabilities\n",
        "  exp_scores = np.exp(scores)\n",
        "  probs = exp_scores / np.sum(exp_scores, axis=1, keepdims=True) # [N x K]\n",
        "  \n",
        "  # compute the loss: average cross-entropy loss and regularization\n",
        "  corect_logprobs = -np.log(probs[range(num_examples),y])\n",
        "  data_loss = np.sum(corect_logprobs)/num_examples\n",
        "  reg_loss = 0.5*reg*np.sum(W*W)\n",
        "  loss = data_loss + reg_loss\n",
        "  if i % 10 == 0:\n",
        "    print \"iteration %d: loss %f\" % (i, loss)\n",
        "  \n",
        "  # compute the gradient on scores\n",
        "  dscores = probs\n",
        "  dscores[range(num_examples),y] -= 1\n",
        "  dscores /= num_examples\n",
        "  \n",
        "  # backpropate the gradient to the parameters (W,b)\n",
        "  dW = np.dot(X.T, dscores)\n",
        "  db = np.sum(dscores, axis=0, keepdims=True)\n",
        "  \n",
        "  dW += reg*W # regularization gradient\n",
        "  \n",
        "  # perform a parameter update\n",
        "  W += -step_size * dW\n",
        "  b += -step_size * db"
      ],
      "outputs": [
        {
          "output_type": "stream",
          "text": [
            "iteration 0: loss 1.096956\n",
            "iteration 10: loss 0.917265\n",
            "iteration 20: loss 0.851503\n",
            "iteration 30: loss 0.822336\n",
            "iteration 40: loss 0.807586\n",
            "iteration 50: loss 0.799448\n",
            "iteration 60: loss 0.794681\n",
            "iteration 70: loss 0.791764\n",
            "iteration 80: loss 0.789920\n",
            "iteration 90: loss 0.788726\n",
            "iteration 100: loss 0.787938\n",
            "iteration 110: loss 0.787409\n",
            "iteration 120: loss 0.787049\n",
            "iteration 130: loss 0.786803\n",
            "iteration 140: loss 0.786633\n",
            "iteration 150: loss 0.786514\n",
            "iteration 160: loss 0.786431\n",
            "iteration 170: loss 0.786373\n",
            "iteration 180: loss 0.786331\n",
            "iteration 190: loss 0.786302\n"
          ],
          "name": "stdout"
        }
      ],
      "metadata": {
        "id": "Jr2UMb6DeUGi",
        "outputId": "7159b5c8-0764-4d77-c999-dd9045d6de0b"
      },
      "execution_count": null
    },
    {
      "cell_type": "code",
      "source": [
        "# evaluate training set accuracy\n",
        "scores = np.dot(X, W) + b\n",
        "predicted_class = np.argmax(scores, axis=1)\n",
        "print 'training accuracy: %.2f' % (np.mean(predicted_class == y))"
      ],
      "outputs": [
        {
          "output_type": "stream",
          "text": [
            "training accuracy: 0.49\n"
          ],
          "name": "stdout"
        }
      ],
      "metadata": {
        "id": "XT0Wlv8veUGj",
        "outputId": "bdba25b1-151a-43b1-8d99-8b84afe7be1b"
      },
      "execution_count": null
    },
    {
      "cell_type": "code",
      "source": [
        "# plot the resulting classifier\n",
        "h = 0.02\n",
        "x_min, x_max = X[:, 0].min() - 1, X[:, 0].max() + 1\n",
        "y_min, y_max = X[:, 1].min() - 1, X[:, 1].max() + 1\n",
        "xx, yy = np.meshgrid(np.arange(x_min, x_max, h),\n",
        "                     np.arange(y_min, y_max, h))\n",
        "Z = np.dot(np.c_[xx.ravel(), yy.ravel()], W) + b\n",
        "Z = np.argmax(Z, axis=1)\n",
        "Z = Z.reshape(xx.shape)\n",
        "fig = plt.figure()\n",
        "plt.contourf(xx, yy, Z, cmap=plt.cm.Spectral, alpha=0.8)\n",
        "plt.scatter(X[:, 0], X[:, 1], c=y, s=40, cmap=plt.cm.Spectral)\n",
        "plt.xlim(xx.min(), xx.max())\n",
        "plt.ylim(yy.min(), yy.max())\n",
        "#fig.savefig('spiral_linear.png')"
      ],
      "outputs": [
        {
          "output_type": "display_data",
          "data": {},
          "metadata": {}
        }
      ],
      "metadata": {
        "id": "47hfcMtaeUGj",
        "outputId": "df221706-6856-48b2-e6a9-c33f809e7b2e"
      },
      "execution_count": null
    },
    {
      "cell_type": "code",
      "source": [
        "# initialize parameters randomly\n",
        "h = 100 # size of hidden layer\n",
        "W = 0.01 * np.random.randn(D,h)\n",
        "b = np.zeros((1,h))\n",
        "W2 = 0.01 * np.random.randn(h,K)\n",
        "b2 = np.zeros((1,K))\n",
        "\n",
        "# some hyperparameters\n",
        "step_size = 1e-0\n",
        "reg = 1e-3 # regularization strength\n",
        "\n",
        "# gradient descent loop\n",
        "num_examples = X.shape[0]\n",
        "for i in xrange(10000):\n",
        "  \n",
        "  # evaluate class scores, [N x K]\n",
        "  hidden_layer = np.maximum(0, np.dot(X, W) + b) # note, ReLU activation\n",
        "  scores = np.dot(hidden_layer, W2) + b2\n",
        "  \n",
        "  # compute the class probabilities\n",
        "  exp_scores = np.exp(scores)\n",
        "  probs = exp_scores / np.sum(exp_scores, axis=1, keepdims=True) # [N x K]\n",
        "  \n",
        "  # compute the loss: average cross-entropy loss and regularization\n",
        "  corect_logprobs = -np.log(probs[range(num_examples),y])\n",
        "  data_loss = np.sum(corect_logprobs)/num_examples\n",
        "  reg_loss = 0.5*reg*np.sum(W*W) + 0.5*reg*np.sum(W2*W2)\n",
        "  loss = data_loss + reg_loss\n",
        "  if i % 1000 == 0:\n",
        "    print \"iteration %d: loss %f\" % (i, loss)\n",
        "  \n",
        "  # compute the gradient on scores\n",
        "  dscores = probs\n",
        "  dscores[range(num_examples),y] -= 1\n",
        "  dscores /= num_examples\n",
        "  \n",
        "  # backpropate the gradient to the parameters\n",
        "  # first backprop into parameters W2 and b2\n",
        "  dW2 = np.dot(hidden_layer.T, dscores)\n",
        "  db2 = np.sum(dscores, axis=0, keepdims=True)\n",
        "  # next backprop into hidden layer\n",
        "  dhidden = np.dot(dscores, W2.T)\n",
        "  # backprop the ReLU non-linearity\n",
        "  dhidden[hidden_layer <= 0] = 0\n",
        "  # finally into W,b\n",
        "  dW = np.dot(X.T, dhidden)\n",
        "  db = np.sum(dhidden, axis=0, keepdims=True)\n",
        "  \n",
        "  # add regularization gradient contribution\n",
        "  dW2 += reg * W2\n",
        "  dW += reg * W\n",
        "  \n",
        "  # perform a parameter update\n",
        "  W += -step_size * dW\n",
        "  b += -step_size * db\n",
        "  W2 += -step_size * dW2\n",
        "  b2 += -step_size * db2"
      ],
      "outputs": [
        {
          "output_type": "stream",
          "text": [
            "iteration 0: loss 1.098744\n",
            "iteration 1000: loss 0.294946"
          ],
          "name": "stdout"
        },
        {
          "output_type": "stream",
          "text": [
            "\n",
            "iteration 2000: loss 0.259301"
          ],
          "name": "stdout"
        },
        {
          "output_type": "stream",
          "text": [
            "\n",
            "iteration 3000: loss 0.248310"
          ],
          "name": "stdout"
        },
        {
          "output_type": "stream",
          "text": [
            "\n",
            "iteration 4000: loss 0.246170"
          ],
          "name": "stdout"
        },
        {
          "output_type": "stream",
          "text": [
            "\n",
            "iteration 5000: loss 0.245649"
          ],
          "name": "stdout"
        },
        {
          "output_type": "stream",
          "text": [
            "\n",
            "iteration 6000: loss 0.245491"
          ],
          "name": "stdout"
        },
        {
          "output_type": "stream",
          "text": [
            "\n",
            "iteration 7000: loss 0.245400"
          ],
          "name": "stdout"
        },
        {
          "output_type": "stream",
          "text": [
            "\n",
            "iteration 8000: loss 0.245335"
          ],
          "name": "stdout"
        },
        {
          "output_type": "stream",
          "text": [
            "\n",
            "iteration 9000: loss 0.245292"
          ],
          "name": "stdout"
        },
        {
          "output_type": "stream",
          "text": [
            "\n"
          ],
          "name": "stdout"
        }
      ],
      "metadata": {
        "id": "kbC6p9uheUGj",
        "outputId": "3a7803df-3110-492f-dd89-98b5409603bb"
      },
      "execution_count": null
    },
    {
      "cell_type": "code",
      "source": [
        "# evaluate training set accuracy\n",
        "hidden_layer = np.maximum(0, np.dot(X, W) + b)\n",
        "scores = np.dot(hidden_layer, W2) + b2\n",
        "predicted_class = np.argmax(scores, axis=1)\n",
        "print 'training accuracy: %.2f' % (np.mean(predicted_class == y))"
      ],
      "outputs": [
        {
          "output_type": "stream",
          "text": [
            "training accuracy: 0.98\n"
          ],
          "name": "stdout"
        }
      ],
      "metadata": {
        "id": "BqquCYEkeUGk",
        "outputId": "116d11a9-b628-40b6-d9b4-930606a07ad1"
      },
      "execution_count": null
    },
    {
      "cell_type": "code",
      "source": [
        "# plot the resulting classifier\n",
        "h = 0.02\n",
        "x_min, x_max = X[:, 0].min() - 1, X[:, 0].max() + 1\n",
        "y_min, y_max = X[:, 1].min() - 1, X[:, 1].max() + 1\n",
        "xx, yy = np.meshgrid(np.arange(x_min, x_max, h),\n",
        "                     np.arange(y_min, y_max, h))\n",
        "Z = np.dot(np.maximum(0, np.dot(np.c_[xx.ravel(), yy.ravel()], W) + b), W2) + b2\n",
        "Z = np.argmax(Z, axis=1)\n",
        "Z = Z.reshape(xx.shape)\n",
        "fig = plt.figure()\n",
        "plt.contourf(xx, yy, Z, cmap=plt.cm.Spectral, alpha=0.8)\n",
        "plt.scatter(X[:, 0], X[:, 1], c=y, s=40, cmap=plt.cm.Spectral)\n",
        "plt.xlim(xx.min(), xx.max())\n",
        "plt.ylim(yy.min(), yy.max())\n",
        "#fig.savefig('spiral_net.png')"
      ],
      "outputs": [
        {
          "output_type": "display_data",
          "data": {},
          "metadata": {}
        }
      ],
      "metadata": {
        "id": "eelzFaLReUGk",
        "outputId": "2f083275-7c19-4b67-e1ac-48762ed3d7a7"
      },
      "execution_count": null
    },
    {
      "cell_type": "code",
      "source": [],
      "outputs": [],
      "metadata": {
        "id": "Ae7zOZ-6eUGk"
      },
      "execution_count": null
    }
  ]
}