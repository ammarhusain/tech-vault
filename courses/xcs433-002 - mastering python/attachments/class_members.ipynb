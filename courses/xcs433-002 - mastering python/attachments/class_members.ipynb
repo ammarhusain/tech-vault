{
 "cells": [
  {
   "cell_type": "markdown",
   "metadata": {},
   "source": [
    "#### Class variables"
   ]
  },
  {
   "cell_type": "code",
   "execution_count": null,
   "metadata": {},
   "outputs": [],
   "source": [
    "class Employee:\n",
    "    employee_id = 1\n",
    "    employer = 'Tesla'\n",
    "    \n",
    "    def __init__(self, first_name, last_name):\n",
    "        self.first_name, self.last_name = first_name, last_name\n",
    "        self.id = Employee.employee_id\n",
    "        Employee.employee_id += 1\n",
    "\n",
    "e1 = Employee('Elon', 'Musk')\n",
    "e2 = Employee('Drew', 'Baglino')\n",
    "e3 = Employee('Lars', 'Moravy')\n",
    "\n",
    "for e in (e1, e2, e3):\n",
    "    print(e.first_name, e.last_name, e.id)"
   ]
  },
  {
   "cell_type": "markdown",
   "metadata": {},
   "source": [
    "#### Class methods"
   ]
  },
  {
   "cell_type": "code",
   "execution_count": null,
   "metadata": {},
   "outputs": [],
   "source": [
    "class Employee:\n",
    "    employee_id = 1\n",
    "    employer = 'Tesla'\n",
    "    \n",
    "    def __init__(self, first_name, last_name):\n",
    "        self.first_name, self.last_name = first_name, last_name\n",
    "        self.id = Employee.employee_id\n",
    "        Employee.employee_id += 1\n",
    "\n",
    "    @classmethod\n",
    "    def new_id(cls):\n",
    "        return cls.eployee_id\n",
    "\n",
    "e1 = Employee('Elon', 'Musk')\n",
    "e2 = Employee('Drew', 'Baglino')\n",
    "e3 = Employee('Lars', 'Moravy')\n",
    "\n",
    "for e in (e1, e2, e3):\n",
    "    print(e.first_name, e.last_name, e.id)\n",
    "\n",
    "    \n",
    "print(Employee.new_id())"
   ]
  },
  {
   "cell_type": "markdown",
   "metadata": {},
   "source": [
    "#### Class methods for constructors"
   ]
  },
  {
   "cell_type": "code",
   "execution_count": null,
   "metadata": {},
   "outputs": [],
   "source": [
    "class Employee:\n",
    "    employee_id = 1\n",
    "    employer = 'Tesla'\n",
    "    \n",
    "    def __init__(self, first_name, last_name):\n",
    "        self.first_name, self.last_name = first_name, last_name\n",
    "        self.id = Employee.employee_id\n",
    "        Employee.employee_id += 1\n",
    "\n",
    "    @classmethod\n",
    "    def new_id(cls):\n",
    "        return cls.employee_id\n",
    "\n",
    "    @classmethod\n",
    "    def fromstring(cls, name):\n",
    "        name_parts = name.split()\n",
    "        return cls(name_parts[0], name_parts[1])\n",
    "\n",
    "\n",
    "e1 = Employee('Elon', 'Musk')\n",
    "e2 = Employee('Drew', 'Baglino')\n",
    "e3 = Employee('Lars', 'Moravy')\n",
    "e4 = Employee.fromstring('Jerome Guillen')\n",
    "\n",
    "for e in (e1, e2, e3, e4):\n",
    "    print(e.first_name, e.last_name, e.id)\n",
    "    \n",
    "print(Employee.new_id())"
   ]
  },
  {
   "cell_type": "markdown",
   "metadata": {},
   "source": [
    "#### Static methods"
   ]
  },
  {
   "cell_type": "code",
   "execution_count": null,
   "metadata": {},
   "outputs": [],
   "source": [
    "from datetime import datetime\n",
    "\n",
    "class Employee:\n",
    "    employee_id = 1\n",
    "    employer = 'Tesla'\n",
    "    \n",
    "    def __init__(self, first_name, last_name):\n",
    "        self.first_name, self.last_name = first_name, last_name\n",
    "        self.id = Employee.employee_id\n",
    "        Employee.employee_id += 1\n",
    "\n",
    "    @classmethod\n",
    "    def new_id(cls):\n",
    "        return cls.employee_id\n",
    "\n",
    "    @classmethod\n",
    "    def fromstring(cls, name):\n",
    "        name_parts = name.split()\n",
    "        return cls(name_parts[0], name_parts[1])\n",
    "    \n",
    "    @staticmethod\n",
    "    def get_time():\n",
    "        d = datetime.now()\n",
    "        time_string = f'{d:%H:%M}'\n",
    "        return time_string\n",
    "\n",
    "print(Employee.get_time())\n",
    "    "
   ]
  },
  {
   "cell_type": "markdown",
   "metadata": {},
   "source": [
    "#### Mangled names"
   ]
  },
  {
   "cell_type": "code",
   "execution_count": null,
   "metadata": {},
   "outputs": [],
   "source": [
    "from datetime import datetime\n",
    "\n",
    "class Employee:\n",
    "    employee_id = 1\n",
    "    employer = 'Tesla'\n",
    "    \n",
    "    def __init__(self, first_name, last_name):\n",
    "        self.first_name, self.last_name = first_name, last_name\n",
    "        self.id = Employee.employee_id\n",
    "        Employee.employee_id += 1\n",
    "\n",
    "    @classmethod\n",
    "    def new_id(cls):\n",
    "        return cls.employee_id\n",
    "\n",
    "    @classmethod\n",
    "    def fromstring(cls, name):\n",
    "        name_parts = name.split()\n",
    "        return cls(name_parts[0], name_parts[1])\n",
    "    \n",
    "    @staticmethod\n",
    "    def get_time():\n",
    "        d = datetime.now()\n",
    "        time_string = f'{d:%H:%M}'\n",
    "        return time_string\n",
    "\n",
    "print(Employee.get_time())\n",
    "\n"
   ]
  },
  {
   "cell_type": "code",
   "execution_count": null,
   "metadata": {},
   "outputs": [],
   "source": []
  },
  {
   "cell_type": "code",
   "execution_count": null,
   "metadata": {},
   "outputs": [],
   "source": [
    "from datetime import datetime\n",
    "\n",
    "class Employee:\n",
    "    employee_id = 1\n",
    "    employer = 'Tesla'\n",
    "    \n",
    "    def __init__(self, first_name, last_name):\n",
    "        self.first_name, self.last_name = first_name, last_name\n",
    "        self.id = Employee.employee_id\n",
    "        Employee.employee_id += 1\n",
    "\n",
    "    @classmethod\n",
    "    def new_id(cls):\n",
    "        return cls.employee_id\n",
    "\n",
    "    @classmethod\n",
    "    def fromstring(cls, name):\n",
    "        name_parts = name.split()\n",
    "        return cls(name_parts[0], name_parts[1])\n",
    "    \n",
    "    @staticmethod\n",
    "    def get_time():\n",
    "        d = datetime.now()\n",
    "        time_string = f'{d:%H:%M}'\n",
    "        return time_string\n",
    "\n",
    "\n",
    "print(Employee.employee_id)\n",
    "e1 = Employee('Elon', 'Musk')\n",
    "Employee.employee_id = 7\n",
    "e2 = Employee('Drew', 'Baglino')\n",
    "Employee.employee_id = 1\n",
    "e3 = Employee('Lars', 'Moravy')\n",
    "\n",
    "for e in (e1, e2, e3):\n",
    "    print(e.first_name, e.last_name, e.id)\n",
    "\n"
   ]
  },
  {
   "cell_type": "code",
   "execution_count": null,
   "metadata": {},
   "outputs": [],
   "source": [
    "from datetime import datetime\n",
    "\n",
    "class Employee:\n",
    "    __employee_id = 1\n",
    "    employer = 'Tesla'\n",
    "    \n",
    "    def __init__(self, first_name, last_name):\n",
    "        self.first_name, self.last_name = first_name, last_name\n",
    "        self.id = Employee.__employee_id\n",
    "        Employee.__employee_id += 1\n",
    "\n",
    "    @classmethod\n",
    "    def new_id(cls):\n",
    "        return cls.__employee_id\n",
    "\n",
    "    @classmethod\n",
    "    def fromstring(cls, name):\n",
    "        name_parts = name.split()\n",
    "        return cls(name_parts[0], name_parts[1])\n",
    "    \n",
    "    @staticmethod\n",
    "    def get_time():\n",
    "        d = datetime.now()\n",
    "        time_string = f'{d:%H:%M}'\n",
    "        return time_string\n",
    "\n",
    "\n",
    "print(Employee.__employee_id)\n",
    "\n",
    "\n"
   ]
  },
  {
   "cell_type": "code",
   "execution_count": null,
   "metadata": {},
   "outputs": [],
   "source": [
    "e1 = Employee('Elon', 'Musk')\n",
    "e2 = Employee('Drew', 'Baglino')\n",
    "e3 = Employee('Lars', 'Moravy')\n",
    "\n",
    "for e in (e1, e2, e3):\n",
    "    print(e.first_name, e.last_name, e.id)"
   ]
  },
  {
   "cell_type": "code",
   "execution_count": null,
   "metadata": {},
   "outputs": [],
   "source": [
    "dir(Employee)"
   ]
  },
  {
   "cell_type": "code",
   "execution_count": null,
   "metadata": {},
   "outputs": [],
   "source": [
    "# shadowing\n",
    "# https://en.wikipedia.org/wiki/Variable_shadowing#Python\n",
    "Employee.__employee_id = 100"
   ]
  },
  {
   "cell_type": "code",
   "execution_count": null,
   "metadata": {},
   "outputs": [],
   "source": [
    "dir(Employee)"
   ]
  },
  {
   "cell_type": "code",
   "execution_count": null,
   "metadata": {},
   "outputs": [],
   "source": []
  }
 ],
 "metadata": {
  "kernelspec": {
   "display_name": "Python 3",
   "language": "python",
   "name": "python3"
  },
  "language_info": {
   "codemirror_mode": {
    "name": "ipython",
    "version": 3
   },
   "file_extension": ".py",
   "mimetype": "text/x-python",
   "name": "python",
   "nbconvert_exporter": "python",
   "pygments_lexer": "ipython3",
   "version": "3.7.6"
  }
 },
 "nbformat": 4,
 "nbformat_minor": 4
}
