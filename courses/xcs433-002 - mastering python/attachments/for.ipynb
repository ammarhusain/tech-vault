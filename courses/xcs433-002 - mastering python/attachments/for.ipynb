{
 "cells": [
  {
   "cell_type": "code",
   "execution_count": 1,
   "metadata": {},
   "outputs": [
    {
     "name": "stdout",
     "output_type": "stream",
     "text": [
      "1\n",
      "2\n",
      "4\n",
      "8\n",
      "16\n"
     ]
    }
   ],
   "source": [
    "mylist = [1, 2, 4, 8, 16]\n",
    "for i in mylist:\n",
    "    print(i)"
   ]
  },
  {
   "cell_type": "code",
   "execution_count": 3,
   "metadata": {},
   "outputs": [
    {
     "name": "stdout",
     "output_type": "stream",
     "text": [
      "1\n",
      "3\n",
      "7\n",
      "15\n",
      "31\n",
      "31\n"
     ]
    }
   ],
   "source": [
    "total = 0\n",
    "mylist = [1, 2, 4, 8, 16]\n",
    "for i in mylist:\n",
    "    total += i\n",
    "    print(total)\n",
    "print(total)"
   ]
  },
  {
   "cell_type": "code",
   "execution_count": 4,
   "metadata": {},
   "outputs": [
    {
     "name": "stdout",
     "output_type": "stream",
     "text": [
      "[0.5, 1.0, 2.0, 4.0, 8.0]\n"
     ]
    }
   ],
   "source": [
    "mylist1 = [1, 2, 4, 8, 16]\n",
    "mylist2 = []\n",
    "\n",
    "for n in mylist1:\n",
    "    mylist2.append(n / 2)\n",
    "\n",
    "print(mylist2)\n"
   ]
  },
  {
   "cell_type": "code",
   "execution_count": 5,
   "metadata": {},
   "outputs": [
    {
     "name": "stdout",
     "output_type": "stream",
     "text": [
      "[8, 7, 7, 13, 8]\n"
     ]
    }
   ],
   "source": [
    "city_list = ['Berkeley', 'Fremont', 'Oakland', 'San Francisco', 'San Jose']\n",
    "city_length = []\n",
    "\n",
    "for city in city_list:\n",
    "    city_length.append(len(city))\n",
    "\n",
    "print(city_length)"
   ]
  },
  {
   "cell_type": "code",
   "execution_count": 6,
   "metadata": {},
   "outputs": [
    {
     "name": "stdout",
     "output_type": "stream",
     "text": [
      "B\n",
      "e\n",
      "r\n",
      "k\n",
      "e\n",
      "l\n",
      "e\n",
      "y\n"
     ]
    }
   ],
   "source": [
    "city = 'Berkeley'\n",
    "for c in city:\n",
    "    print(c)"
   ]
  },
  {
   "cell_type": "code",
   "execution_count": 7,
   "metadata": {},
   "outputs": [
    {
     "name": "stdout",
     "output_type": "stream",
     "text": [
      "Berkeley\n"
     ]
    }
   ],
   "source": [
    "city = ['Berkeley']\n",
    "for c in city:\n",
    "    print(c)"
   ]
  },
  {
   "cell_type": "code",
   "execution_count": null,
   "metadata": {},
   "outputs": [],
   "source": []
  }
 ],
 "metadata": {
  "kernelspec": {
   "display_name": "Python 3",
   "language": "python",
   "name": "python3"
  },
  "language_info": {
   "codemirror_mode": {
    "name": "ipython",
    "version": 3
   },
   "file_extension": ".py",
   "mimetype": "text/x-python",
   "name": "python",
   "nbconvert_exporter": "python",
   "pygments_lexer": "ipython3",
   "version": "3.7.6"
  }
 },
 "nbformat": 4,
 "nbformat_minor": 4
}
