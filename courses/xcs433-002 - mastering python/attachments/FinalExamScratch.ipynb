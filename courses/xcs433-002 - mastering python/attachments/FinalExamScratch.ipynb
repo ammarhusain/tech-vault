{
 "cells": [
  {
   "cell_type": "code",
   "execution_count": 28,
   "metadata": {},
   "outputs": [
    {
     "name": "stdout",
     "output_type": "stream",
     "text": [
      "(20,)\n",
      "['This is a line\\n', 'I am another line\\n', 'Foo ya\\n']\n",
      "<super: <class 'B'>, <B object>>\n"
     ]
    },
    {
     "data": {
      "text/plain": [
       "6.8"
      ]
     },
     "execution_count": 28,
     "metadata": {},
     "output_type": "execute_result"
    }
   ],
   "source": [
    "va =(20,)\n",
    "print(va)\n",
    "\n",
    "with open('abc.txt') as f:\n",
    "  print(f.readlines())\n",
    "  \n",
    "class A(object):\n",
    "  def __init__(self):\n",
    "    self.a = 5\n",
    "  def p_a(self):\n",
    "    print(\"...\", self.a)\n",
    "class B(A):\n",
    "  def __init__(self):\n",
    "    super().__init__()\n",
    "    self.b = 7\n",
    "    self.a = 6\n",
    "    print(super())\n",
    "    #super.p_a()\n",
    "\n",
    "a = A()\n",
    "dir(A) \n",
    "dir(a)\n",
    "b = B()\n",
    "b.a\n",
    "#dir(b)\n",
    "import datetime\n",
    "\n",
    "datetime.datetime.today()\n",
    "\n",
    "def a(f):\n",
    "    return f(10)\n",
    "\n",
    "def double(n):\n",
    "    return n * 2\n",
    "  \n",
    "a(double)\n",
    "\n",
    "def intersection(l1, l2):\n",
    "  fl = []\n",
    "  for e in l1:\n",
    "    if e in l2:\n",
    "      fl.append(e)\n",
    "  return fl\n",
    "\n",
    "l1 = [1, 2, 3, 4, 5, 6] \n",
    "l2 = [2, 4, 6, 8]\n",
    "\n",
    "intersection(l2,l1)\n",
    "\n",
    "\n",
    "def avg_valid_int(lst):\n",
    "  ints = []\n",
    "  for l in lst:\n",
    "     try:\n",
    "        ints.append(int(l))\n",
    "     except ValueError:\n",
    "      continue\n",
    "  return sum(ints)/len(ints)\n",
    "\n",
    "lst = ['5', '7', '3', '10', 'IV', 'X', '3.5', 'a', '9', '1F']\n",
    "avg_valid_int(lst)"
   ]
  },
  {
   "cell_type": "markdown",
   "metadata": {},
   "source": [
    "Write a spelling checker function.\n",
    "\n",
    "Write a function that takes two arguments:\n",
    "\n",
    "a string sentence and a dictionary where the key is a mispelled word and its value is the correctly spelled word.\n",
    "\n",
    "It should replace misspelled words in a sentence and return a string with the correctly spelled words.\n",
    "\n",
    "For example, given the following dictionary\n",
    "\n",
    "{'beleive':'believe', 'tommorrow':'tomorrow' }\n",
    "And given the following sentence\n",
    "\n",
    "I beleive tommorrow will be better.\n",
    "The output should be\n",
    "\n",
    "I believe tomorrow will be better."
   ]
  },
  {
   "cell_type": "code",
   "execution_count": 43,
   "metadata": {},
   "outputs": [
    {
     "data": {
      "text/plain": [
       "'I believe tomorrow will be better.'"
      ]
     },
     "execution_count": 43,
     "metadata": {},
     "output_type": "execute_result"
    }
   ],
   "source": [
    "import re\n",
    "def spell_check(sent, spelling):\n",
    "  tokens = re.split(r'([!?., ])', sent)\n",
    "  for i, tok in enumerate(tokens):\n",
    "    tokens[i] = spelling.get(tok, tok)\n",
    "  return \"\".join(tokens)\n",
    "\n",
    "spelling = {'beleive':'believe', 'tommorrow':'tomorrow' }\n",
    "sent = \"I beleive tommorrow will be better.\"\n",
    "\n",
    "spell_check(sent, spelling)"
   ]
  },
  {
   "cell_type": "markdown",
   "metadata": {},
   "source": [
    "Write a CSV to JSON converter function.\n",
    "\n",
    "It should take a  CSV file as an argument.\n",
    "\n",
    "It should read the contents of the CSV file, convert it JSON and then write it to a JSON file. Assume that the CSV file is valid and contains no errors.\n",
    "\n",
    "It should then return the name of the JSON file.\n",
    "\n",
    "The JSON file must have the same name as the CSV file.  For example, if the CSV file is named data.csv, the JSON file should be named data.json.\n",
    "\n",
    "No need to handle file existence of the JSON or CSV files"
   ]
  },
  {
   "cell_type": "code",
   "execution_count": 64,
   "metadata": {},
   "outputs": [
    {
     "name": "stdout",
     "output_type": "stream",
     "text": [
      "{\n",
      "    \"Name\": \"John\",\n",
      "    \" Age\": \" 38\",\n",
      "    \" Gender\": \" M\"\n",
      "}\n",
      "OrderedDict([('Name', 'John'), (' Age', ' 38'), (' Gender', ' M')])\n",
      "{\n",
      "    \"Name\": \"Jessica\",\n",
      "    \" Age\": \" 27\",\n",
      "    \" Gender\": \" F\"\n",
      "}\n",
      "OrderedDict([('Name', 'Jessica'), (' Age', ' 27'), (' Gender', ' F')])\n"
     ]
    },
    {
     "data": {
      "text/plain": [
       "'abc.json'"
      ]
     },
     "execution_count": 64,
     "metadata": {},
     "output_type": "execute_result"
    }
   ],
   "source": [
    "import csv\n",
    "import json\n",
    "import collections\n",
    "def csv_to_json(csv_file):\n",
    "  json_f = csv_file.split(\".\")[0] + \".json\"\n",
    "  data = []\n",
    "  with open(csv_file) as f:\n",
    "    csv_dict = csv.DictReader(f)\n",
    "    for row in csv_dict:\n",
    "      data.append(row)\n",
    "\n",
    "  with open(json_f, 'w', encoding='utf-8') as jsonf: \n",
    "    for row in data:\n",
    "      jsonf.write(json.dumps(row, indent=4))\n",
    "      print(json.dumps(row, indent=4))\n",
    "      print(row)\n",
    "  return json_f\n",
    "    \n",
    "csv_to_json('abc.csv')"
   ]
  }
 ],
 "metadata": {
  "kernelspec": {
   "display_name": "Python 3",
   "language": "python",
   "name": "python3"
  },
  "language_info": {
   "codemirror_mode": {
    "name": "ipython",
    "version": 3
   },
   "file_extension": ".py",
   "mimetype": "text/x-python",
   "name": "python",
   "nbconvert_exporter": "python",
   "pygments_lexer": "ipython3",
   "version": "3.7.7"
  }
 },
 "nbformat": 4,
 "nbformat_minor": 4
}
