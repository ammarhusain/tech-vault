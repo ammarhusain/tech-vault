{
 "cells": [
  {
   "cell_type": "code",
   "execution_count": 18,
   "metadata": {},
   "outputs": [
    {
     "data": {
      "text/plain": [
       "[408, 415, 510, 510, 510]"
      ]
     },
     "execution_count": 18,
     "metadata": {},
     "output_type": "execute_result"
    }
   ],
   "source": [
    "city_list = ['Berkeley', 'Fremont', 'Oakland', 'San Francisco', 'San Jose']\n",
    "area_code_list = [510, 510, 510, 415, 408]\n",
    "area_code_list.sort()\n",
    "area_code_list"
   ]
  },
  {
   "cell_type": "code",
   "execution_count": 2,
   "metadata": {},
   "outputs": [
    {
     "name": "stdout",
     "output_type": "stream",
     "text": [
      "('Berkeley', 510)\n",
      "('Fremont', 510)\n",
      "('Oakland', 510)\n",
      "('San Francisco', 415)\n",
      "('San Jose', 408)\n"
     ]
    }
   ],
   "source": [
    "for t in zip(city_list, area_code_list):\n",
    "    print(t)"
   ]
  },
  {
   "cell_type": "code",
   "execution_count": 4,
   "metadata": {},
   "outputs": [
    {
     "name": "stdout",
     "output_type": "stream",
     "text": [
      "Berkeley's area code is 510\n",
      "Fremont's area code is 510\n",
      "Oakland's area code is 510\n",
      "San Francisco's area code is 415\n",
      "San Jose's area code is 408\n"
     ]
    }
   ],
   "source": [
    "for t in zip(city_list, area_code_list):\n",
    "#    print(t)\n",
    "    city = t[0]\n",
    "    area_code = t[1]\n",
    "    print(f\"{city}'s area code is {area_code}\")"
   ]
  },
  {
   "cell_type": "code",
   "execution_count": 5,
   "metadata": {},
   "outputs": [
    {
     "name": "stdout",
     "output_type": "stream",
     "text": [
      "Berkeley's area code is 510\n",
      "Fremont's area code is 510\n",
      "Oakland's area code is 510\n",
      "San Francisco's area code is 415\n",
      "San Jose's area code is 408\n"
     ]
    }
   ],
   "source": [
    "for city, area_code in zip(city_list, area_code_list):\n",
    "    print(f\"{city}'s area code is {area_code}\")\n"
   ]
  },
  {
   "cell_type": "code",
   "execution_count": 6,
   "metadata": {},
   "outputs": [
    {
     "name": "stdout",
     "output_type": "stream",
     "text": [
      "0. Berkeley\n",
      "1. Fremont\n",
      "2. Oakland\n",
      "3. San Francisco\n",
      "4. San Jose\n"
     ]
    }
   ],
   "source": [
    "# enumerate\n",
    "i = 0\n",
    "for city in city_list:\n",
    "    print(f'{i}. {city}')\n",
    "    i += 1\n"
   ]
  },
  {
   "cell_type": "code",
   "execution_count": 7,
   "metadata": {},
   "outputs": [
    {
     "name": "stdout",
     "output_type": "stream",
     "text": [
      "0. Berkeley\n",
      "1. Fremont\n",
      "2. Oakland\n",
      "3. San Francisco\n",
      "4. San Jose\n"
     ]
    }
   ],
   "source": [
    "for i, city in enumerate(city_list):\n",
    "    print(f'{i}. {city}')"
   ]
  },
  {
   "cell_type": "code",
   "execution_count": 8,
   "metadata": {},
   "outputs": [
    {
     "data": {
      "text/plain": [
       "<enumerate at 0x10b600780>"
      ]
     },
     "execution_count": 8,
     "metadata": {},
     "output_type": "execute_result"
    }
   ],
   "source": [
    "enumerate(city_list)"
   ]
  },
  {
   "cell_type": "code",
   "execution_count": 9,
   "metadata": {},
   "outputs": [
    {
     "data": {
      "text/plain": [
       "[(0, 'Berkeley'),\n",
       " (1, 'Fremont'),\n",
       " (2, 'Oakland'),\n",
       " (3, 'San Francisco'),\n",
       " (4, 'San Jose')]"
      ]
     },
     "execution_count": 9,
     "metadata": {},
     "output_type": "execute_result"
    }
   ],
   "source": [
    "list(enumerate(city_list))"
   ]
  },
  {
   "cell_type": "code",
   "execution_count": 10,
   "metadata": {},
   "outputs": [
    {
     "name": "stdout",
     "output_type": "stream",
     "text": [
      "1. Berkeley\n",
      "2. Fremont\n",
      "3. Oakland\n",
      "4. San Francisco\n",
      "5. San Jose\n"
     ]
    }
   ],
   "source": [
    "for i, city in enumerate(city_list, 1):\n",
    "    print(f'{i}. {city}')"
   ]
  },
  {
   "cell_type": "code",
   "execution_count": 12,
   "metadata": {},
   "outputs": [
    {
     "name": "stdout",
     "output_type": "stream",
     "text": [
      "1. Berkeley\n",
      "2. Fremont\n",
      "3. Oakland\n",
      "4. San Francisco\n",
      "5. San Jose\n"
     ]
    }
   ],
   "source": [
    "# recreating enumerate using range and zip\n",
    "num_range = range(1, len(city_list) + 1)\n",
    "\n",
    "for i, city in zip(num_range, city_list):\n",
    "    print(f'{i}. {city}')"
   ]
  },
  {
   "cell_type": "code",
   "execution_count": 13,
   "metadata": {},
   "outputs": [
    {
     "data": {
      "text/plain": [
       "range(1, 6)"
      ]
     },
     "execution_count": 13,
     "metadata": {},
     "output_type": "execute_result"
    }
   ],
   "source": [
    "num_range"
   ]
  },
  {
   "cell_type": "code",
   "execution_count": 14,
   "metadata": {},
   "outputs": [
    {
     "data": {
      "text/plain": [
       "[1, 2, 3, 4, 5]"
      ]
     },
     "execution_count": 14,
     "metadata": {},
     "output_type": "execute_result"
    }
   ],
   "source": [
    "list(num_range)"
   ]
  },
  {
   "cell_type": "code",
   "execution_count": 15,
   "metadata": {},
   "outputs": [
    {
     "data": {
      "text/plain": [
       "<zip at 0x10b637af0>"
      ]
     },
     "execution_count": 15,
     "metadata": {},
     "output_type": "execute_result"
    }
   ],
   "source": [
    "zip(num_range, city_list)"
   ]
  },
  {
   "cell_type": "code",
   "execution_count": 16,
   "metadata": {},
   "outputs": [
    {
     "data": {
      "text/plain": [
       "[(1, 'Berkeley'),\n",
       " (2, 'Fremont'),\n",
       " (3, 'Oakland'),\n",
       " (4, 'San Francisco'),\n",
       " (5, 'San Jose')]"
      ]
     },
     "execution_count": 16,
     "metadata": {},
     "output_type": "execute_result"
    }
   ],
   "source": [
    "list(zip(num_range, city_list))"
   ]
  },
  {
   "cell_type": "code",
   "execution_count": null,
   "metadata": {},
   "outputs": [],
   "source": []
  }
 ],
 "metadata": {
  "kernelspec": {
   "display_name": "Python 3",
   "language": "python",
   "name": "python3"
  },
  "language_info": {
   "codemirror_mode": {
    "name": "ipython",
    "version": 3
   },
   "file_extension": ".py",
   "mimetype": "text/x-python",
   "name": "python",
   "nbconvert_exporter": "python",
   "pygments_lexer": "ipython3",
   "version": "3.7.4"
  }
 },
 "nbformat": 4,
 "nbformat_minor": 4
}
