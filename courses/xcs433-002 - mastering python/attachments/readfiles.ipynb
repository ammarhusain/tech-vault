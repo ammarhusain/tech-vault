{
 "cells": [
  {
   "cell_type": "code",
   "execution_count": 5,
   "metadata": {},
   "outputs": [
    {
     "name": "stdout",
     "output_type": "stream",
     "text": [
      "2571612\n"
     ]
    }
   ],
   "source": [
    "# read entire contents\n",
    "\n",
    "try:\n",
    "    with open('summer.csv', 'r') as f:\n",
    "        contents = f.read()\n",
    "        print(len(contents))\n",
    "except FileExistsError as e:\n",
    "    print(e)\n",
    "except FileNotFoundError as e:\n",
    "    print('cannot find the file')\n",
    "except Exception as e:\n",
    "    print(e)\n",
    "\n",
    "\n"
   ]
  },
  {
   "cell_type": "code",
   "execution_count": 6,
   "metadata": {},
   "outputs": [
    {
     "name": "stdout",
     "output_type": "stream",
     "text": [
      "31166\n",
      "<class 'list'>\n",
      "['Year,City,Sport,Discipline,Athlete,Country,Gender,Event,Medal\\n', '1896,Athens,Aquatics,Swimming,\"HAJOS, Alfred\",HUN,Men,100M Freestyle,Gold\\n', '1896,Athens,Aquatics,Swimming,\"HERSCHMANN, Otto\",AUT,Men,100M Freestyle,Silver\\n', '1896,Athens,Aquatics,Swimming,\"DRIVAS, Dimitrios\",GRE,Men,100M Freestyle For Sailors,Bronze\\n', '1896,Athens,Aquatics,Swimming,\"MALOKINIS, Ioannis\",GRE,Men,100M Freestyle For Sailors,Gold\\n', '1896,Athens,Aquatics,Swimming,\"CHASAPIS, Spiridon\",GRE,Men,100M Freestyle For Sailors,Silver\\n', '1896,Athens,Aquatics,Swimming,\"CHOROPHAS, Efstathios\",GRE,Men,1200M Freestyle,Bronze\\n', '1896,Athens,Aquatics,Swimming,\"HAJOS, Alfred\",HUN,Men,1200M Freestyle,Gold\\n', '1896,Athens,Aquatics,Swimming,\"ANDREOU, Joannis\",GRE,Men,1200M Freestyle,Silver\\n', '1896,Athens,Aquatics,Swimming,\"CHOROPHAS, Efstathios\",GRE,Men,400M Freestyle,Bronze\\n']\n"
     ]
    }
   ],
   "source": [
    "# read contents line by line\n",
    "\n",
    "try:\n",
    "    with open('summer.csv', 'r') as f:\n",
    "        lines = f.readlines()\n",
    "        print(len(lines))\n",
    "        print(type(lines))\n",
    "except OSError as e:\n",
    "    print(e)\n",
    "\n",
    "print(lines[:10])\n",
    "\n",
    "\n"
   ]
  },
  {
   "cell_type": "code",
   "execution_count": 7,
   "metadata": {},
   "outputs": [
    {
     "name": "stdout",
     "output_type": "stream",
     "text": [
      "177\n",
      "1\n",
      "377\n",
      "1\n",
      "910\n",
      "1\n"
     ]
    }
   ],
   "source": [
    "# read contents line by line\n",
    "\n",
    "try:\n",
    "    with open('gettysburg.txt', 'r') as f:\n",
    "        for line in f:\n",
    "            print(len(line))\n",
    "except OSError as e:\n",
    "    print(e)\n",
    "\n",
    "\n",
    "\n"
   ]
  },
  {
   "cell_type": "code",
   "execution_count": 8,
   "metadata": {},
   "outputs": [
    {
     "name": "stdout",
     "output_type": "stream",
     "text": [
      "31166\n"
     ]
    }
   ],
   "source": [
    "# read contents line by line\n",
    "\n",
    "try:\n",
    "    with open('summer.csv', 'r') as f:\n",
    "        line_count = 0\n",
    "        while True:\n",
    "            line = f.readline()\n",
    "            if not line:\n",
    "                break\n",
    "            line_count += 1\n",
    "except OSError as e:\n",
    "    print(e)\n",
    "print(line_count)\n",
    "\n",
    "\n"
   ]
  },
  {
   "cell_type": "code",
   "execution_count": 9,
   "metadata": {},
   "outputs": [
    {
     "name": "stdout",
     "output_type": "stream",
     "text": [
      "618\n"
     ]
    }
   ],
   "source": [
    "# read contents line by line\n",
    "\n",
    "try:\n",
    "    with open('summer.csv', 'r') as f:            \n",
    "        line_count = 0\n",
    "        for line in f:\n",
    "            if line.find('KOR') != -1:\n",
    "                line_count += 1\n",
    "#                print(line)\n",
    "except OSError as e:\n",
    "    print(e)\n",
    "print(line_count)\n",
    "\n",
    "\n",
    "\n"
   ]
  },
  {
   "cell_type": "code",
   "execution_count": 10,
   "metadata": {},
   "outputs": [
    {
     "name": "stdout",
     "output_type": "stream",
     "text": [
      "Year,City,Sport,Discipline,Athlete,Country,Gender,Event,Medal\n",
      "\n",
      "1896,Athens,Aquatics,Swimming,\"HAJOS, Alfred\",HUN,Men,100M Freestyle,Gold\n",
      "\n",
      "1896,Athens,Aquatics,Swimming,\"HERSCHMANN, Otto\",AUT,Men,100M Freestyle,Silver\n",
      "\n",
      "1896,Athens,Aquatics,Swimming,\"DRIVAS, Dimitrios\",GRE,Men,100M Freestyle For Sailors,Bronze\n",
      "\n",
      "1896,Athens,Aquatics,Swimming,\"MALOKINIS, Ioannis\",GRE,Men,100M Freestyle For Sailors,Gold\n",
      "\n",
      "1896,Athens,Aquatics,Swimming,\"CHASAPIS, Spiridon\",GRE,Men,100M Freestyle For Sailors,Silver\n",
      "\n",
      "1896,Athens,Aquatics,Swimming,\"CHOROPHAS, Efstathios\",GRE,Men,1200M Freestyle,Bronze\n",
      "\n",
      "1896,Athens,Aquatics,Swimming,\"HAJOS, Alfred\",HUN,Men,1200M Freestyle,Gold\n",
      "\n",
      "1896,Athens,Aquatics,Swimming,\"ANDREOU, Joannis\",GRE,Men,1200M Freestyle,Silver\n",
      "\n",
      "1896,Athens,Aquatics,Swimming,\"CHOROPHAS, Efstathios\",GRE,Men,400M Freestyle,Bronze\n",
      "\n",
      "10\n"
     ]
    }
   ],
   "source": [
    "# read entire contents\n",
    "\n",
    "try:\n",
    "    with open('summer.csv', 'r') as f:\n",
    "        line_count = 0\n",
    "        while True:\n",
    "            line = f.readline()\n",
    "            if not line or line_count >= 10:\n",
    "                break\n",
    "            print(line)\n",
    "            line_count += 1\n",
    "except FileExistsError as e:\n",
    "    print(e)\n",
    "except FileNotFoundError as e:\n",
    "    print('cannot find the file')\n",
    "except Exception as e:\n",
    "    print(e)\n",
    "\n",
    "print(line_count)\n",
    "\n"
   ]
  },
  {
   "cell_type": "code",
   "execution_count": null,
   "metadata": {},
   "outputs": [],
   "source": []
  }
 ],
 "metadata": {
  "kernelspec": {
   "display_name": "Python 3",
   "language": "python",
   "name": "python3"
  },
  "language_info": {
   "codemirror_mode": {
    "name": "ipython",
    "version": 3
   },
   "file_extension": ".py",
   "mimetype": "text/x-python",
   "name": "python",
   "nbconvert_exporter": "python",
   "pygments_lexer": "ipython3",
   "version": "3.7.6"
  }
 },
 "nbformat": 4,
 "nbformat_minor": 4
}
