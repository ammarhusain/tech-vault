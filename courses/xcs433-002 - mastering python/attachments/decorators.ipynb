{
 "cells": [
  {
   "cell_type": "code",
   "execution_count": 14,
   "metadata": {},
   "outputs": [],
   "source": [
    "def decorator(f):\n",
    "    def decorated():\n",
    "        print('hello')\n",
    "        return f()\n",
    "    return decorated\n",
    "\n"
   ]
  },
  {
   "cell_type": "code",
   "execution_count": 1,
   "metadata": {},
   "outputs": [],
   "source": [
    "### putting code outside the nested function"
   ]
  },
  {
   "cell_type": "code",
   "execution_count": 15,
   "metadata": {},
   "outputs": [],
   "source": [
    "def myname():\n",
    "    print('john')"
   ]
  },
  {
   "cell_type": "code",
   "execution_count": 16,
   "metadata": {},
   "outputs": [
    {
     "name": "stdout",
     "output_type": "stream",
     "text": [
      "john\n"
     ]
    }
   ],
   "source": [
    "myname()"
   ]
  },
  {
   "cell_type": "code",
   "execution_count": 11,
   "metadata": {},
   "outputs": [],
   "source": [
    "### decorating a function without using the decorator symbol"
   ]
  },
  {
   "cell_type": "code",
   "execution_count": 17,
   "metadata": {},
   "outputs": [],
   "source": [
    "newf = decorator(myname)"
   ]
  },
  {
   "cell_type": "code",
   "execution_count": 18,
   "metadata": {},
   "outputs": [
    {
     "name": "stdout",
     "output_type": "stream",
     "text": [
      "hello\n",
      "john\n"
     ]
    }
   ],
   "source": [
    "newf()"
   ]
  },
  {
   "cell_type": "code",
   "execution_count": 19,
   "metadata": {},
   "outputs": [],
   "source": [
    "@decorator\n",
    "def myname():\n",
    "    print('john')"
   ]
  },
  {
   "cell_type": "code",
   "execution_count": 20,
   "metadata": {},
   "outputs": [
    {
     "name": "stdout",
     "output_type": "stream",
     "text": [
      "hello\n",
      "john\n"
     ]
    }
   ],
   "source": [
    "myname()"
   ]
  },
  {
   "cell_type": "code",
   "execution_count": 13,
   "metadata": {},
   "outputs": [],
   "source": [
    "#### with variable number of arguments"
   ]
  },
  {
   "cell_type": "code",
   "execution_count": 23,
   "metadata": {},
   "outputs": [
    {
     "name": "stdout",
     "output_type": "stream",
     "text": [
      "4\n"
     ]
    },
    {
     "data": {
      "text/plain": [
       "'this is a test'"
      ]
     },
     "execution_count": 23,
     "metadata": {},
     "output_type": "execute_result"
    }
   ],
   "source": [
    "def decorator(f):\n",
    "    def decorated(*args):\n",
    "        print(len(args))\n",
    "        return f(*args)\n",
    "    return decorated\n",
    "\n",
    "@decorator\n",
    "def joinme(*args):\n",
    "    return \" \".join(args)\n",
    "\n",
    "joinme('this', 'is', 'a', 'test')"
   ]
  },
  {
   "cell_type": "code",
   "execution_count": null,
   "metadata": {},
   "outputs": [],
   "source": [
    "def decorator(f):\n",
    "    def decorated(*args):\n",
    "        print(len(args))\n",
    "        return f(*args)\n",
    "    return decorated\n",
    "\n",
    "@decorator\n",
    "def joinme(*args):\n",
    "    return \" \".join(args)\n",
    "\n",
    "joinme('this', 'is', 'a', 'test')"
   ]
  },
  {
   "cell_type": "code",
   "execution_count": 25,
   "metadata": {},
   "outputs": [
    {
     "data": {
      "text/plain": [
       "'The answer 30'"
      ]
     },
     "execution_count": 25,
     "metadata": {},
     "output_type": "execute_result"
    }
   ],
   "source": [
    "def decorator(f):\n",
    "    def decorated(arg):\n",
    "        return f\"The answer {f(arg)}\"\n",
    "    return decorated\n",
    "\n",
    "@decorator\n",
    "def add_10(n):\n",
    "    return n + 10\n",
    "\n",
    "add_10(20)"
   ]
  },
  {
   "cell_type": "code",
   "execution_count": 26,
   "metadata": {},
   "outputs": [],
   "source": [
    "#### no changes to arguments or return value"
   ]
  },
  {
   "cell_type": "code",
   "execution_count": 5,
   "metadata": {},
   "outputs": [
    {
     "name": "stdout",
     "output_type": "stream",
     "text": [
      "Mon Jun 22 19:31:45 2020\n",
      "hello\n"
     ]
    }
   ],
   "source": [
    "from datetime import datetime\n",
    "\n",
    "def showdate(f):\n",
    "    def decorated(*args):\n",
    "        now = datetime.now()\n",
    "        print(now.strftime(\"%c\"))\n",
    "        return f(*args)\n",
    "    return decorated\n",
    "\n",
    "@showdate\n",
    "def print_hello():\n",
    "    print('hello')\n",
    "    \n",
    "print_hello()"
   ]
  },
  {
   "cell_type": "code",
   "execution_count": null,
   "metadata": {},
   "outputs": [],
   "source": [
    "#### modify return value"
   ]
  },
  {
   "cell_type": "code",
   "execution_count": 30,
   "metadata": {},
   "outputs": [
    {
     "data": {
      "text/plain": [
       "'The answer 110'"
      ]
     },
     "execution_count": 30,
     "metadata": {},
     "output_type": "execute_result"
    }
   ],
   "source": [
    "def descriptive(f):\n",
    "    def decorated(arg):\n",
    "        retval = f(arg)\n",
    "        return f\"The answer: {retval}\"\n",
    "    return decorated\n",
    "\n",
    "@descriptive\n",
    "def add_10(n):\n",
    "    return n + 10\n",
    "\n",
    "add_10(100)"
   ]
  },
  {
   "cell_type": "code",
   "execution_count": null,
   "metadata": {},
   "outputs": [],
   "source": [
    "#### modify arguments"
   ]
  },
  {
   "cell_type": "code",
   "execution_count": 35,
   "metadata": {},
   "outputs": [
    {
     "name": "stdout",
     "output_type": "stream",
     "text": [
      "110.0\n",
      "9.0\n"
     ]
    }
   ],
   "source": [
    "def parse_number(f):\n",
    "    def decorated(arg):\n",
    "        for w in arg.split():\n",
    "            if w.isdigit():\n",
    "                retval = f(float(w))\n",
    "                return retval\n",
    "        return None\n",
    "    return decorated\n",
    "\n",
    "@parse_number\n",
    "def add_10(n):\n",
    "    return n + 10\n",
    "\n",
    "\n",
    "@parse_number\n",
    "def div_10(n):\n",
    "    return n / 10\n",
    "\n",
    "\n",
    "print(add_10(\"this is the number 100\"))\n",
    "print(div_10(\"90 pieces\"))\n",
    "\n",
    "\n"
   ]
  },
  {
   "cell_type": "code",
   "execution_count": null,
   "metadata": {},
   "outputs": [],
   "source": [
    "#### variable number of arguments"
   ]
  },
  {
   "cell_type": "code",
   "execution_count": 10,
   "metadata": {},
   "outputs": [
    {
     "name": "stdout",
     "output_type": "stream",
     "text": [
      "Mon Jun 22 19:44:16 2020\n",
      "print_hello\n",
      "Number of arguments: 1\n",
      "Arguments: test\n",
      "Keyword Arguments: \n",
      "hello\n"
     ]
    }
   ],
   "source": [
    "from datetime import datetime\n",
    "\n",
    "def debug_help(f):\n",
    "    def decorated(*args, **kwargs):\n",
    "        now = datetime.now()\n",
    "        print(now.strftime(\"%c\"))\n",
    "        print(f.__name__)\n",
    "        print(f'Number of arguments: {len(args) + len(kwargs)}')\n",
    "        print(f'Arguments: {\" \".join(args)}')\n",
    "        print(f'Keyword Arguments: {\" \".join(kwargs)}')\n",
    "        return f(*args, **kwargs)\n",
    "    return decorated\n",
    "\n",
    "@debug_help\n",
    "def print_hello(test):\n",
    "    print('hello')\n",
    "    \n",
    "print_hello('test')"
   ]
  },
  {
   "cell_type": "code",
   "execution_count": null,
   "metadata": {},
   "outputs": [],
   "source": []
  }
 ],
 "metadata": {
  "kernelspec": {
   "display_name": "Python 3",
   "language": "python",
   "name": "python3"
  },
  "language_info": {
   "codemirror_mode": {
    "name": "ipython",
    "version": 3
   },
   "file_extension": ".py",
   "mimetype": "text/x-python",
   "name": "python",
   "nbconvert_exporter": "python",
   "pygments_lexer": "ipython3",
   "version": "3.7.6"
  }
 },
 "nbformat": 4,
 "nbformat_minor": 4
}
