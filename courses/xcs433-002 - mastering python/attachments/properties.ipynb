{
 "cells": [
  {
   "cell_type": "markdown",
   "metadata": {},
   "source": [
    "#### original code -- no properties used"
   ]
  },
  {
   "cell_type": "code",
   "execution_count": 1,
   "metadata": {},
   "outputs": [
    {
     "name": "stdout",
     "output_type": "stream",
     "text": [
      "36 3\n"
     ]
    }
   ],
   "source": [
    "class Board:\n",
    "    def __init__(self, feet):\n",
    "        self.feet = feet\n",
    "        self.inches = feet * 12\n",
    "    \n",
    "b = Board(3)\n",
    "print(b.inches, b.feet)"
   ]
  },
  {
   "cell_type": "code",
   "execution_count": 2,
   "metadata": {},
   "outputs": [
    {
     "name": "stdout",
     "output_type": "stream",
     "text": [
      "36 10\n"
     ]
    }
   ],
   "source": [
    "b.feet = 10\n",
    "print(b.inches, b.feet)"
   ]
  },
  {
   "cell_type": "markdown",
   "metadata": {},
   "source": [
    "#### using methods"
   ]
  },
  {
   "cell_type": "code",
   "execution_count": 3,
   "metadata": {},
   "outputs": [
    {
     "name": "stdout",
     "output_type": "stream",
     "text": [
      "36 3\n"
     ]
    }
   ],
   "source": [
    "class Board:\n",
    "    def __init__(self, feet):\n",
    "        self.feet = feet\n",
    "        \n",
    "    def inches(self):\n",
    "        return self.feet * 12\n",
    "\n",
    "b = Board(3)\n",
    "print(b.inches(), b.feet)"
   ]
  },
  {
   "cell_type": "code",
   "execution_count": 4,
   "metadata": {},
   "outputs": [
    {
     "name": "stdout",
     "output_type": "stream",
     "text": [
      "120 10\n"
     ]
    }
   ],
   "source": [
    "b.feet = 10\n",
    "print(b.inches(), b.feet)"
   ]
  },
  {
   "cell_type": "code",
   "execution_count": 6,
   "metadata": {},
   "outputs": [
    {
     "name": "stdout",
     "output_type": "stream",
     "text": [
      "60 10\n"
     ]
    }
   ],
   "source": [
    "b.inches = 60\n",
    "print(b.inches, b.feet)"
   ]
  },
  {
   "cell_type": "code",
   "execution_count": 7,
   "metadata": {},
   "outputs": [
    {
     "ename": "TypeError",
     "evalue": "'int' object is not callable",
     "output_type": "error",
     "traceback": [
      "\u001b[0;31m---------------------------------------------------------------------------\u001b[0m",
      "\u001b[0;31mTypeError\u001b[0m                                 Traceback (most recent call last)",
      "\u001b[0;32m<ipython-input-7-16a922d31f0a>\u001b[0m in \u001b[0;36m<module>\u001b[0;34m\u001b[0m\n\u001b[1;32m      1\u001b[0m \u001b[0mb\u001b[0m\u001b[0;34m.\u001b[0m\u001b[0minches\u001b[0m \u001b[0;34m=\u001b[0m \u001b[0;36m60\u001b[0m\u001b[0;34m\u001b[0m\u001b[0;34m\u001b[0m\u001b[0m\n\u001b[0;32m----> 2\u001b[0;31m \u001b[0mprint\u001b[0m\u001b[0;34m(\u001b[0m\u001b[0mb\u001b[0m\u001b[0;34m.\u001b[0m\u001b[0minches\u001b[0m\u001b[0;34m(\u001b[0m\u001b[0;34m)\u001b[0m\u001b[0;34m,\u001b[0m \u001b[0mb\u001b[0m\u001b[0;34m.\u001b[0m\u001b[0mfeet\u001b[0m\u001b[0;34m)\u001b[0m\u001b[0;34m\u001b[0m\u001b[0;34m\u001b[0m\u001b[0m\n\u001b[0m",
      "\u001b[0;31mTypeError\u001b[0m: 'int' object is not callable"
     ]
    }
   ],
   "source": [
    "b.inches = 60\n",
    "print(b.inches(), b.feet)"
   ]
  },
  {
   "cell_type": "markdown",
   "metadata": {},
   "source": [
    "#### adding a setter method"
   ]
  },
  {
   "cell_type": "code",
   "execution_count": 8,
   "metadata": {},
   "outputs": [
    {
     "name": "stdout",
     "output_type": "stream",
     "text": [
      "36 3\n"
     ]
    }
   ],
   "source": [
    "class Board:\n",
    "    def __init__(self, feet):\n",
    "        self.feet = feet\n",
    "        \n",
    "    def inches(self):\n",
    "        return self.feet * 12\n",
    "    \n",
    "    def set_inches(self, inches):\n",
    "        self.feet = inches / 12\n",
    "\n",
    "b = Board(3)\n",
    "print(b.inches(), b.feet)"
   ]
  },
  {
   "cell_type": "code",
   "execution_count": 9,
   "metadata": {},
   "outputs": [
    {
     "name": "stdout",
     "output_type": "stream",
     "text": [
      "120.0 10.0\n"
     ]
    }
   ],
   "source": [
    "b.set_inches(120)\n",
    "print(b.inches(), b.feet)"
   ]
  },
  {
   "cell_type": "code",
   "execution_count": 10,
   "metadata": {},
   "outputs": [
    {
     "name": "stdout",
     "output_type": "stream",
     "text": [
      "60 5\n"
     ]
    }
   ],
   "source": [
    "b.feet = 5\n",
    "print(b.inches(), b.feet)"
   ]
  },
  {
   "cell_type": "markdown",
   "metadata": {},
   "source": [
    "#### Using properties (getter)"
   ]
  },
  {
   "cell_type": "code",
   "execution_count": 11,
   "metadata": {},
   "outputs": [
    {
     "name": "stdout",
     "output_type": "stream",
     "text": [
      "36 3\n"
     ]
    }
   ],
   "source": [
    "class Board:\n",
    "    def __init__(self, feet):\n",
    "        self.feet = feet\n",
    "    \n",
    "    @property\n",
    "    def inches(self):\n",
    "        return self.feet * 12\n",
    "\n",
    "    def set_inches(self, inches):\n",
    "        self.feet = inches / 12\n",
    "\n",
    "\n",
    "    \n",
    "b = Board(3)\n",
    "print(b.inches, b.feet)\n"
   ]
  },
  {
   "cell_type": "code",
   "execution_count": 12,
   "metadata": {},
   "outputs": [
    {
     "name": "stdout",
     "output_type": "stream",
     "text": [
      "120.0 10.0\n"
     ]
    }
   ],
   "source": [
    "b.set_inches(120)\n",
    "print(b.inches, b.feet)"
   ]
  },
  {
   "cell_type": "code",
   "execution_count": 13,
   "metadata": {},
   "outputs": [
    {
     "name": "stdout",
     "output_type": "stream",
     "text": [
      "60 5\n"
     ]
    }
   ],
   "source": [
    "b.feet = 5\n",
    "print(b.inches, b.feet)"
   ]
  },
  {
   "cell_type": "code",
   "execution_count": 14,
   "metadata": {},
   "outputs": [
    {
     "ename": "AttributeError",
     "evalue": "can't set attribute",
     "output_type": "error",
     "traceback": [
      "\u001b[0;31m---------------------------------------------------------------------------\u001b[0m",
      "\u001b[0;31mAttributeError\u001b[0m                            Traceback (most recent call last)",
      "\u001b[0;32m<ipython-input-14-da90c7d23579>\u001b[0m in \u001b[0;36m<module>\u001b[0;34m\u001b[0m\n\u001b[1;32m      1\u001b[0m \u001b[0;31m### cannot set\u001b[0m\u001b[0;34m\u001b[0m\u001b[0;34m\u001b[0m\u001b[0;34m\u001b[0m\u001b[0m\n\u001b[0;32m----> 2\u001b[0;31m \u001b[0mb\u001b[0m\u001b[0;34m.\u001b[0m\u001b[0minches\u001b[0m \u001b[0;34m=\u001b[0m \u001b[0;36m120\u001b[0m\u001b[0;34m\u001b[0m\u001b[0;34m\u001b[0m\u001b[0m\n\u001b[0m",
      "\u001b[0;31mAttributeError\u001b[0m: can't set attribute"
     ]
    }
   ],
   "source": [
    "### cannot set\n",
    "b.inches = 120"
   ]
  },
  {
   "cell_type": "markdown",
   "metadata": {},
   "source": [
    "#### Using properties -- setter"
   ]
  },
  {
   "cell_type": "code",
   "execution_count": 15,
   "metadata": {},
   "outputs": [
    {
     "name": "stdout",
     "output_type": "stream",
     "text": [
      "36 3\n"
     ]
    }
   ],
   "source": [
    "class Board:\n",
    "    def __init__(self, feet):\n",
    "        self.feet = feet\n",
    "    \n",
    "    @property\n",
    "    def inches(self):\n",
    "        return self.feet * 12\n",
    "\n",
    "    @inches.setter\n",
    "    def inches(self, n):\n",
    "        self.feet = n / 12\n",
    "\n",
    "b = Board(3)\n",
    "print(b.inches, b.feet)\n",
    "\n",
    "\n"
   ]
  },
  {
   "cell_type": "code",
   "execution_count": 16,
   "metadata": {},
   "outputs": [
    {
     "name": "stdout",
     "output_type": "stream",
     "text": [
      "120.0 10.0\n"
     ]
    }
   ],
   "source": [
    "b.inches = 120\n",
    "print(b.inches, b.feet)\n",
    "\n"
   ]
  },
  {
   "cell_type": "code",
   "execution_count": 17,
   "metadata": {},
   "outputs": [
    {
     "name": "stdout",
     "output_type": "stream",
     "text": [
      "42.0 3.5\n"
     ]
    }
   ],
   "source": [
    "b.feet = 3.5\n",
    "print(b.inches, b.feet)"
   ]
  },
  {
   "cell_type": "code",
   "execution_count": null,
   "metadata": {},
   "outputs": [],
   "source": []
  }
 ],
 "metadata": {
  "kernelspec": {
   "display_name": "Python 3",
   "language": "python",
   "name": "python3"
  },
  "language_info": {
   "codemirror_mode": {
    "name": "ipython",
    "version": 3
   },
   "file_extension": ".py",
   "mimetype": "text/x-python",
   "name": "python",
   "nbconvert_exporter": "python",
   "pygments_lexer": "ipython3",
   "version": "3.7.6"
  }
 },
 "nbformat": 4,
 "nbformat_minor": 4
}
