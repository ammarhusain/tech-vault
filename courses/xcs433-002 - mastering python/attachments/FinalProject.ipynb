{
 "cells": [
  {
   "cell_type": "code",
   "execution_count": 1,
   "metadata": {},
   "outputs": [],
   "source": [
    "import pandas as pd\n",
    "import matplotlib.pyplot as plt\n",
    "import re\n",
    "%matplotlib inline"
   ]
  },
  {
   "cell_type": "markdown",
   "metadata": {},
   "source": [
    "### Download Data\n",
    "\n",
    "This is a pre-crawled dataset, taken as subset of a bigger dataset (more than 7 million fashion products) that was created by extracting data from Amazon. It has details about various products, their manufacturer, description, price, customer reviews etc. This dataset has 10k data points to begin with."
   ]
  },
  {
   "cell_type": "code",
   "execution_count": 2,
   "metadata": {},
   "outputs": [
    {
     "name": "stdout",
     "output_type": "stream",
     "text": [
      "(10000, 17)\n"
     ]
    },
    {
     "data": {
      "text/plain": [
       "uniq_id                                         object\n",
       "product_name                                    object\n",
       "manufacturer                                    object\n",
       "price                                           object\n",
       "number_available_in_stock                       object\n",
       "number_of_reviews                               object\n",
       "number_of_answered_questions                   float64\n",
       "average_review_rating                           object\n",
       "amazon_category_and_sub_category                object\n",
       "customers_who_bought_this_item_also_bought      object\n",
       "description                                     object\n",
       "product_information                             object\n",
       "product_description                             object\n",
       "items_customers_buy_after_viewing_this_item     object\n",
       "customer_questions_and_answers                  object\n",
       "customer_reviews                                object\n",
       "sellers                                         object\n",
       "dtype: object"
      ]
     },
     "execution_count": 2,
     "metadata": {},
     "output_type": "execute_result"
    }
   ],
   "source": [
    "\n",
    "reviews = pd.read_csv('https://query.data.world/s/jgeppofifbie3nkee44r2jiom5uboc')\n",
    "print(reviews.shape)\n",
    "num_rows = reviews.shape[0]\n",
    "\n",
    "print(reviews)\n",
    "\n",
    "#reviews.dtypes\n"
   ]
  },
  {
   "cell_type": "markdown",
   "metadata": {},
   "source": [
    "## Data Cleaning\n",
    "\n",
    "- Remove columns that have more than 30% Nan values.\n",
    "- Remove rows that have Nan values for: `number_of_reviews, price price & average_review_rating`\n",
    "- Fill with 0's where `number_available_in_stock` is Nan\n",
    "- Convert customer rating to a float\n"
   ]
  },
  {
   "cell_type": "code",
   "execution_count": 3,
   "metadata": {},
   "outputs": [
    {
     "name": "stdout",
     "output_type": "stream",
     "text": [
      "(10000, 14)\n",
      "Index(['uniq_id', 'product_name', 'manufacturer', 'price',\n",
      "       'number_available_in_stock', 'number_of_reviews',\n",
      "       'number_of_answered_questions', 'average_review_rating',\n",
      "       'amazon_category_and_sub_category',\n",
      "       'customers_who_bought_this_item_also_bought', 'description',\n",
      "       'product_information', 'product_description', 'customer_reviews'],\n",
      "      dtype='object')\n",
      "(8550, 14)\n",
      "2228\n",
      "0\n"
     ]
    }
   ],
   "source": [
    "nan_cols = (reviews.isnull().sum() > 0.3*num_rows)\n",
    "for idx, val in nan_cols.items():\n",
    "  if (val==True):\n",
    "    reviews.drop(columns=idx, inplace=True)\n",
    "\n",
    "# should have dropped 3 columns -> 14\n",
    "print(reviews.shape)\n",
    "print(reviews.columns)\n",
    "\n",
    "important_columns = ['number_of_reviews', 'number_available_in_stock', 'price','average_review_rating']\n",
    "reviews.dropna(subset=['number_of_reviews', 'price','average_review_rating'], inplace=True)\n",
    "\n",
    "# Down to (8550, 14)\n",
    "print(reviews.shape)\n",
    "\n",
    "\n",
    "# Fill with 0's where number_available_in_stock is Nan\n",
    "print(reviews['number_available_in_stock'].isnull().sum())\n",
    "reviews.fillna({\"number_available_in_stock\": 0}, inplace=True)\n",
    "print(reviews['number_available_in_stock'].isnull().sum())\n",
    "\n",
    "reviews['average_review_rating'] = reviews['average_review_rating'].replace(' out of 5 stars','', regex=True).astype(float)\n"
   ]
  },
  {
   "cell_type": "code",
   "execution_count": 11,
   "metadata": {},
   "outputs": [
    {
     "name": "stdout",
     "output_type": "stream",
     "text": [
      "\n",
      "\n",
      "--- Tier 1 ---\n",
      "\n",
      "\n",
      "Average rating over all products: 4.709602339181297\n",
      "Maximum number of answered questions for a given product: 39.0\n",
      "Details of the product with the longest written name are as follows:\n",
      " uniq_id                                                        3b2a77eafbbbdc7536eab7637c0c79a4\n",
      "product_name                                     Plush Soft Toy White Lamb by Hansa. 18cm. 4562\n",
      "manufacturer                                                                              Hansa\n",
      "price                                                                                    £14.99\n",
      "number_available_in_stock                                                                11 new\n",
      "number_of_reviews                                                                             2\n",
      "number_of_answered_questions                                                                  1\n",
      "average_review_rating                                                                         5\n",
      "amazon_category_and_sub_category                                                            NaN\n",
      "customers_who_bought_this_item_also_bought    http://www.amazon.co.uk/Plush-Soft-Lamb-Lying-...\n",
      "description                                                     Ref: 4562 Desc: White Lamb 18cm\n",
      "product_information                           Technical Details Item Weight64 g Product Dime...\n",
      "product_description                                             Ref: 4562 Desc: White Lamb 18cm\n",
      "customer_reviews                              Fell in love with sheep // 5.0 // 21 Aug. 2015...\n",
      "numeric_price                                                                             14.99\n",
      "Name: 297, dtype: object\n",
      "\n",
      "\n",
      "--- Tier 2 ---\n",
      "\n",
      "\n",
      "10 manufactures with the lowest average rating:\n",
      "manufacturer\n",
      "Inflatable Santa          3.0\n",
      "The Original Glowstars    3.0\n",
      "BINGWAN                   3.0\n",
      "Cavendish Trading         3.3\n",
      "Wow Wee                   3.5\n",
      "TAYO                      3.5\n",
      "Super Mario               3.9\n",
      "ccf                       3.9\n",
      "Henry Glass Fabrics       4.0\n",
      "Hengsong                  4.0\n",
      "Name: average_review_rating, dtype: float64\n",
      "Manufacturer: Oxford Diecast with 152 number of products\n",
      "Manufacturer: LEGO with 138 number of products\n",
      "Manufacturer: Disney with 136 number of products\n",
      "Manufacturer: Playmobil with 117 number of products\n",
      "Manufacturer: The Puppet Company with 102 number of products\n",
      "Manufacturer: MyTinyWorld with 93 number of products\n",
      "Manufacturer: Star Wars with 93 number of products\n",
      "\n",
      "\n",
      "--- Tier 3 ---\n",
      "\n",
      "\n",
      "Products that specify a price range:\n",
      "                                           product_name                price\n",
      "1655      Bestway Steel Pro Frame Set Above Ground Pool    £269.00 - £699.99\n",
      "1801  ILOVEFANCYDRESS® LADIES FLAPPER FANCY DRESS CO...       £6.99 - £10.49\n",
      "1808  TAVERN WENCH ADULT FANCY DRESS COSTUME LADIES ...      £22.39 - £41.23\n",
      "1814  HEAVY FABRIC CARDINAL FANCY DRESS COSTUME MENS...      £25.34 - £56.44\n",
      "1837          Mr Incredible - Adult Fancy Dress Costume      £39.94 - £76.46\n",
      "3178  MEN'S HORROR FILM SCREAMER HALLOWEEN FANCY DRE...       £9.95 - £16.95\n",
      "3193          Morhsuits Childrens Mr Block Head Costume  £12.60 - £16,268.00\n",
      "3235              Smiffy's Roman Warrior Deluxe Costume      £23.94 - £46.50\n",
      "3255                          Native Indian Man Costume      £12.94 - £24.95\n",
      "3258  TAVERN WENCH ADULT FANCY DRESS COSTUME LADIES ...      £22.00 - £43.99\n",
      "3263  Ladies retro go go girl dressing up 60's costu...      £10.94 - £34.35\n",
      "3268  Adult Little Miss Chatterbox Morph Fancy Dress...       £5.42 - £34.99\n",
      "3296  1950s Sweetheart Plus Size Womens Fancy Dress ...      £22.46 - £71.01\n",
      "3321      Leg Avenue Dead Eye Dolly Fancy Dress Costume      £32.99 - £90.65\n",
      "3331  Yummy Bee Pirate Wench Plus Size 6-20 + HAT + ...      £21.99 - £27.99\n",
      "3338                            Peace Man Hippy Costume      £11.45 - £20.89\n",
      "3344  Clone Trooper - Star Wars - Childrens Fancy Dr...      £17.03 - £55.44\n",
      "3351                    Adult Skull and Bones Morphsuit      £25.87 - £98.91\n",
      "0.01\n",
      "995.11\n",
      "217\n"
     ]
    },
    {
     "data": {
      "text/plain": [
       "<matplotlib.axes._subplots.AxesSubplot at 0x7f22b68c6e10>"
      ]
     },
     "execution_count": 11,
     "metadata": {},
     "output_type": "execute_result"
    },
    {
     "data": {
      "image/png": "[encoded data removed]",
      "text/plain": [
       "<Figure size 432x288 with 1 Axes>"
      ]
     },
     "metadata": {
      "needs_background": "light"
     },
     "output_type": "display_data"
    },
    {
     "data": {
      "text/plain": [
       "<Figure size 432x288 with 0 Axes>"
      ]
     },
     "metadata": {},
     "output_type": "display_data"
    },
    {
     "data": {
      "image/png": "[encoded data removed]",
      "text/plain": [
       "<Figure size 432x288 with 1 Axes>"
      ]
     },
     "metadata": {
      "needs_background": "light"
     },
     "output_type": "display_data"
    },
    {
     "data": {
      "text/plain": [
       "<Figure size 432x288 with 0 Axes>"
      ]
     },
     "metadata": {},
     "output_type": "display_data"
    },
    {
     "data": {
      "image/png": "[encoded data removed]",
      "text/plain": [
       "<Figure size 432x288 with 1 Axes>"
      ]
     },
     "metadata": {
      "needs_background": "light"
     },
     "output_type": "display_data"
    }
   ],
   "source": [
    "## Tier 1 analyses: 3\n",
    "print(\"\\n\\n--- Tier 1 ---\\n\\n\")\n",
    "\n",
    "# What is the average of the averge rating of products in these reviews?\n",
    "print(f\"Average rating over all products: {reviews['average_review_rating'].mean()}\")\n",
    "\n",
    "# What is the maximum number ofanswered questions for a prouct?\n",
    "print(f\"Maximum number of answered questions for a given product: {reviews['number_of_answered_questions'].max()}\")\n",
    "\n",
    "# What are the details of product with the longest product name?\n",
    "print(f\"Details of the product with the longest written name are as follows:\\n {reviews.loc[reviews['product_name'].str.len().max()]}\")\n",
    "\n",
    "## Tier 2 analyses: 2\n",
    "print(\"\\n\\n--- Tier 2 ---\\n\\n\")\n",
    "\n",
    "# What are the 10 manufactures that have the lowest average product ratings\n",
    "lowest_ranked = reviews.groupby(\"manufacturer\")[\"average_review_rating\"].mean().sort_values()\n",
    "print(f\"10 manufactures with the lowest average rating:\\n{lowest_ranked.head(10)}\")\n",
    "\n",
    "# What are the manufacturers with over 90 products listed in this dataset \n",
    "products = reviews.groupby(\"manufacturer\")[\"product_name\"].count().sort_values(ascending=False)\n",
    "for i, v in products.items():\n",
    "  if v < 90:\n",
    "    break\n",
    "  print(f\"Manufacturer: {i} with {v} number of products\")\n",
    "\n",
    "## Tier 3 analyses: 1\n",
    "print(\"\\n\\n--- Tier 3 ---\\n\\n\")\n",
    "\n",
    "# Here we will try to find the product names for the 20 most expensive products that are listed  in this\n",
    "\n",
    "# There are certain products that have a range of price listed (along with pound currency symbol) than a numeric value.\n",
    "# For these we will take the average of the range as the price for out analysis.\n",
    "print(f\"Products that specify a price range:\\n{reviews.loc[lambda df : df['price'].str.contains('-'), ['product_name', 'price']]}\")\n",
    "\n",
    "# We will use the following regex to extract the integer and floating point numbers and then average over them if they return a list. \n",
    "# The list will have atmost 2 numbers since the column contains a range.\n",
    "[float(s) for s in re.findall(r'\\b(\\d+\\.\\d+|\\d+)\\b', 'he33llo 42.75 I\\'m a 32.23838 string 30')]\n",
    "\n",
    "def numeric_price(price):\n",
    "  num_p = [float(s) for s in re.findall(r'\\b(\\d+\\.\\d+|\\d+)\\b', price)]\n",
    "  return sum(num_p)/len(num_p)\n",
    "\n",
    "\n",
    "reviews['numeric_price'] = reviews['price'].apply(numeric_price)\n",
    "\n",
    "#ax = reviews['numeric_price'].plot.hist(bins=100, alpha=0.5)\n",
    "\n",
    "print(reviews['numeric_price'].min())\n",
    "print(reviews['numeric_price'].max())\n",
    "print((reviews['numeric_price'] > 100).sum())\n",
    "\n",
    "# Next we visualize in a histogram the frequency of products listed that are under $100. This gives us an idea of the price distribution of the relatively cheaper\n",
    "# products\n",
    "ax2 = reviews.loc[reviews['numeric_price'] <= 100, 'numeric_price'].plot.hist(bins=50, alpha=0.5)\n",
    "plt.xlabel(\"Price of Product\")\n",
    "plt.figure()\n",
    "\n",
    "# For the next bit of our analysis lets do a scatter plot between the number of questions asked for a product and its corresponding price. \n",
    "# This can potentially tell us if customers ask more questions for expensive products? To make the plot less cluttered we only consider data points where \n",
    "# more than 3 questions were asked.\n",
    "more_than_n_questions = reviews.loc[lambda df : df['number_of_answered_questions'] > 3]\n",
    "more_than_n_questions.plot.scatter(x='numeric_price', y='number_of_answered_questions')\n"
   ]
  },
  {
   "cell_type": "code",
   "execution_count": null,
   "metadata": {},
   "outputs": [],
   "source": []
  }
 ],
 "metadata": {
  "kernelspec": {
   "display_name": "Python 3",
   "language": "python",
   "name": "python3"
  },
  "language_info": {
   "codemirror_mode": {
    "name": "ipython",
    "version": 3
   },
   "file_extension": ".py",
   "mimetype": "text/x-python",
   "name": "python",
   "nbconvert_exporter": "python",
   "pygments_lexer": "ipython3",
   "version": "3.7.7"
  }
 },
 "nbformat": 4,
 "nbformat_minor": 4
}
