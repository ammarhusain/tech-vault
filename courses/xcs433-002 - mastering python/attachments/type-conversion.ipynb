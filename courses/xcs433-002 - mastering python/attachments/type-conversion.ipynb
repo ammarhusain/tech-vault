{
 "cells": [
  {
   "cell_type": "markdown",
   "metadata": {},
   "source": [
    "### Type Conversion"
   ]
  },
  {
   "cell_type": "code",
   "execution_count": 1,
   "metadata": {},
   "outputs": [],
   "source": [
    "# create a string from different types\n",
    "str1 = 'Number of days in a week:'\n",
    "num = 7"
   ]
  },
  {
   "cell_type": "code",
   "execution_count": 2,
   "metadata": {},
   "outputs": [
    {
     "ename": "TypeError",
     "evalue": "can only concatenate str (not \"int\") to str",
     "output_type": "error",
     "traceback": [
      "\u001b[0;31m---------------------------------------------------------------------------\u001b[0m",
      "\u001b[0;31mTypeError\u001b[0m                                 Traceback (most recent call last)",
      "\u001b[0;32m<ipython-input-2-9e144ebf5123>\u001b[0m in \u001b[0;36m<module>\u001b[0;34m\u001b[0m\n\u001b[1;32m      1\u001b[0m \u001b[0;31m# this will cause an error\u001b[0m\u001b[0;34m\u001b[0m\u001b[0;34m\u001b[0m\u001b[0;34m\u001b[0m\u001b[0m\n\u001b[0;32m----> 2\u001b[0;31m \u001b[0mstr2\u001b[0m \u001b[0;34m=\u001b[0m \u001b[0mstr1\u001b[0m \u001b[0;34m+\u001b[0m \u001b[0mnum\u001b[0m\u001b[0;34m\u001b[0m\u001b[0;34m\u001b[0m\u001b[0m\n\u001b[0m\u001b[1;32m      3\u001b[0m \u001b[0mprint\u001b[0m\u001b[0;34m(\u001b[0m\u001b[0mstr2\u001b[0m\u001b[0;34m)\u001b[0m\u001b[0;34m\u001b[0m\u001b[0;34m\u001b[0m\u001b[0m\n",
      "\u001b[0;31mTypeError\u001b[0m: can only concatenate str (not \"int\") to str"
     ]
    }
   ],
   "source": [
    "# this will cause an error\n",
    "str2 = str1 + num\n",
    "print(str2)"
   ]
  },
  {
   "cell_type": "code",
   "execution_count": 3,
   "metadata": {},
   "outputs": [],
   "source": [
    "# before you can use the append operator, all operands need to\n",
    "# be of string type\n",
    "str2 = str1 + str(num)"
   ]
  },
  {
   "cell_type": "code",
   "execution_count": 4,
   "metadata": {},
   "outputs": [
    {
     "data": {
      "text/plain": [
       "'Number of days in a week:7'"
      ]
     },
     "execution_count": 4,
     "metadata": {},
     "output_type": "execute_result"
    }
   ],
   "source": [
    "str2"
   ]
  },
  {
   "cell_type": "code",
   "execution_count": 5,
   "metadata": {},
   "outputs": [
    {
     "name": "stdout",
     "output_type": "stream",
     "text": [
      "There are 7 days in a week and 24 hours in a day. That's 24/7.\n"
     ]
    }
   ],
   "source": [
    "# create a string from different types\n",
    "# We want to create a string that says:\n",
    "# There are 7 days in a week and 24 hours in a day. That's 24/7.\n",
    "str1 = 'There are '\n",
    "str2 = ' days in a week and '\n",
    "str3 = ' hours in a day.'\n",
    "num1 = 7\n",
    "num2 = 24\n",
    "\n",
    "# our code is becoming unwieldy\n",
    "str4 = str1 + str(num1) + str2 + str(num2) + str3 + ' That\\'s ' + str(num2) + '/' + str(num1) + '.'\n",
    "print(str4) "
   ]
  },
  {
   "cell_type": "code",
   "execution_count": 7,
   "metadata": {},
   "outputs": [
    {
     "name": "stdout",
     "output_type": "stream",
     "text": [
      "There are 7 days in a week and 24 hours in a day. That's 24/7.\n"
     ]
    }
   ],
   "source": [
    "# create a string from different types\n",
    "# We want to create a string that says:\n",
    "# There are 7 days in a week and 24 hours in a day. That's 7/24.\n",
    "# Using the modulus operator\n",
    "str1 = 'There are '\n",
    "str2 = ' days in a week and '\n",
    "str3 = ' hours in a day.'\n",
    "num1 = 7\n",
    "num2 = 24\n",
    "\n",
    "str4 = '%s%d%s%d%s That\\'s %d/%d.' % (str1, num1, str2, num2, str3, num2, num1)\n",
    "print(str4) "
   ]
  },
  {
   "cell_type": "code",
   "execution_count": 8,
   "metadata": {},
   "outputs": [
    {
     "name": "stdout",
     "output_type": "stream",
     "text": [
      "There are 7 days in a week and 24 hours in a day. That's 24/7.\n"
     ]
    }
   ],
   "source": [
    "# create a string from different types\n",
    "# We want to create a string that says:\n",
    "# There are 7 days in a week and 24 hours in a day. That's 7/24.\n",
    "# Using the format() method\n",
    "str1 = 'There are '\n",
    "str2 = ' days in a week and '\n",
    "str3 = ' hours in a day.'\n",
    "num1 = 7\n",
    "num2 = 24\n",
    "\n",
    "str4 = '{}{}{}{}{} That\\'s {}/{}.'.format(str1, num1, str2, num2, str3, num2, num1)\n",
    "print(str4) \n",
    "\n",
    "\n",
    "\n"
   ]
  },
  {
   "cell_type": "code",
   "execution_count": 9,
   "metadata": {},
   "outputs": [
    {
     "name": "stdout",
     "output_type": "stream",
     "text": [
      "There are 7 days in a week and 24 hours in a day. That's 24/7.\n"
     ]
    }
   ],
   "source": [
    "# create a string from different types\n",
    "# We want to create a string that says:\n",
    "# There are 7 days in a week and 24 hours in a day. That's 7/24.\n",
    "# Using string interpolation\n",
    "str1 = 'There are '\n",
    "str2 = ' days in a week and '\n",
    "str3 = ' hours in a day.'\n",
    "num1 = 7\n",
    "num2 = 24\n",
    "\n",
    "str4 = f'{str1}{num1}{str2}{num2}{str3} That\\'s {num2}/{num1}.'\n",
    "print(str4) \n",
    "\n",
    "\n",
    "\n"
   ]
  },
  {
   "cell_type": "code",
   "execution_count": 11,
   "metadata": {},
   "outputs": [
    {
     "name": "stdout",
     "output_type": "stream",
     "text": [
      "There are 7 days in a week and 24 hours in a day. That's 24/7.\n",
      "There are 7 days in a week and 24 hours in a day. That's 24/7.\n",
      "There are 7 days in a week and 24 hours in a day. That's 24/7.\n"
     ]
    }
   ],
   "source": [
    "# create a string from different types\n",
    "# We want to create a string that says:\n",
    "# There are 7 days in a week and 24 hours in a day. That's 7/24.\n",
    "# Using string interpolation\n",
    "str1 = 'There are '\n",
    "str2 = ' days in a week and '\n",
    "str3 = ' hours in a day.'\n",
    "num1 = 7\n",
    "num2 = 24\n",
    "\n",
    "# modulus operator\n",
    "str4 = '%s%d%s%d%s That\\'s %d/%d.' % (str1, num1, str2, num2, str3, num2, num1)\n",
    "\n",
    "# format() method\n",
    "str5 = '{}{}{}{}{} That\\'s {}/{}.'.format(str1, num1, str2, num2, str3, num2, num1)\n",
    "\n",
    "# string interpolation\n",
    "str6 = f'{str1}{num1}{str2}{num2}{str3} That\\'s {num2}/{num1}.'\n",
    "\n",
    "print(str4)\n",
    "print(str5)\n",
    "print(str6)\n",
    "\n"
   ]
  },
  {
   "cell_type": "code",
   "execution_count": 12,
   "metadata": {},
   "outputs": [
    {
     "name": "stdout",
     "output_type": "stream",
     "text": [
      "Hello. The value of pi is 3.14159.\n"
     ]
    }
   ],
   "source": [
    "# string interpolation\n",
    "pi = 3.14159\n",
    "greeting = 'Hello.' \n",
    "print(f'{greeting} The value of pi is {pi}.')\n",
    "\n"
   ]
  },
  {
   "cell_type": "code",
   "execution_count": 13,
   "metadata": {},
   "outputs": [
    {
     "name": "stdout",
     "output_type": "stream",
     "text": [
      "15 inches equals 38.1 cm.\n"
     ]
    }
   ],
   "source": [
    "# expressions can be put in the replacement fields\n",
    "inches = 15\n",
    "print(f'{inches} inches equals {2.54*inches} cm.')\n",
    "\n",
    "\n",
    "\n"
   ]
  },
  {
   "cell_type": "code",
   "execution_count": 14,
   "metadata": {},
   "outputs": [
    {
     "name": "stdout",
     "output_type": "stream",
     "text": [
      "275 JPY is 2.5462962962962963 USD\n"
     ]
    }
   ],
   "source": [
    "# This is an example that works, but it is not in the\n",
    "# format we want. \n",
    "# 108 JPY = 1 USD\n",
    "jpy = 275\n",
    "print(f'275 JPY is {jpy/108} USD')\n",
    "\n",
    "\n"
   ]
  },
  {
   "cell_type": "code",
   "execution_count": null,
   "metadata": {},
   "outputs": [],
   "source": []
  }
 ],
 "metadata": {
  "kernelspec": {
   "display_name": "Python 3",
   "language": "python",
   "name": "python3"
  },
  "language_info": {
   "codemirror_mode": {
    "name": "ipython",
    "version": 3
   },
   "file_extension": ".py",
   "mimetype": "text/x-python",
   "name": "python",
   "nbconvert_exporter": "python",
   "pygments_lexer": "ipython3",
   "version": "3.7.6"
  }
 },
 "nbformat": 4,
 "nbformat_minor": 4
}
