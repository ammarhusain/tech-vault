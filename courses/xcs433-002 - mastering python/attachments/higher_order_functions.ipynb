{
 "cells": [
  {
   "cell_type": "markdown",
   "metadata": {},
   "source": [
    "#### map"
   ]
  },
  {
   "cell_type": "code",
   "execution_count": null,
   "metadata": {},
   "outputs": [],
   "source": [
    "def area(side):\n",
    "    return side * side\n",
    "\n",
    "sides = [10, 20, 45, 9, 3]\n",
    "\n",
    "map(area, sides)"
   ]
  },
  {
   "cell_type": "code",
   "execution_count": null,
   "metadata": {},
   "outputs": [],
   "source": [
    "list(map(area, sides))"
   ]
  },
  {
   "cell_type": "markdown",
   "metadata": {},
   "source": [
    "#### map with strings"
   ]
  },
  {
   "cell_type": "code",
   "execution_count": null,
   "metadata": {},
   "outputs": [],
   "source": [
    "# convert all words to lowercase\n",
    "words = ['Apple', 'banana', 'CHERRY', '1234']\n",
    "list(map(str.lower, words))"
   ]
  },
  {
   "cell_type": "markdown",
   "metadata": {},
   "source": [
    "#### map with other sequences"
   ]
  },
  {
   "cell_type": "code",
   "execution_count": null,
   "metadata": {},
   "outputs": [],
   "source": [
    "import math\n",
    "list(map(math.sqrt, range(1, 50, 4)))"
   ]
  },
  {
   "cell_type": "markdown",
   "metadata": {},
   "source": [
    "#### filter"
   ]
  },
  {
   "cell_type": "code",
   "execution_count": null,
   "metadata": {},
   "outputs": [],
   "source": [
    "def max_length(s):\n",
    "    return len(s) < 6\n",
    "\n",
    "words = ['Apple', 'banana', 'CHERRY', '1234']\n",
    "list(filter(max_length, words))"
   ]
  },
  {
   "cell_type": "markdown",
   "metadata": {},
   "source": [
    "#### filter with other sequences"
   ]
  },
  {
   "cell_type": "code",
   "execution_count": null,
   "metadata": {},
   "outputs": [],
   "source": [
    "def div_6(n):\n",
    "    return n % 6 == 0\n",
    "\n",
    "list(filter(div_6, range(1, 100)))"
   ]
  },
  {
   "cell_type": "markdown",
   "metadata": {},
   "source": [
    "#### sort with custom function"
   ]
  },
  {
   "cell_type": "code",
   "execution_count": null,
   "metadata": {},
   "outputs": [],
   "source": [
    "words = ['Apple', 'banana', 'CHERRY', '1234']\n",
    "\n",
    "words.sort()\n",
    "print(words)"
   ]
  },
  {
   "cell_type": "code",
   "execution_count": null,
   "metadata": {},
   "outputs": [],
   "source": [
    "def case_insensitive(s):\n",
    "    return s.lower()\n",
    "\n",
    "words = ['Apple', 'banana', 'CHERRY', '1234']\n",
    "\n",
    "words.sort(key=case_insensitive)\n",
    "print(words)"
   ]
  },
  {
   "cell_type": "markdown",
   "metadata": {},
   "source": [
    "#### sorted with custom function"
   ]
  },
  {
   "cell_type": "code",
   "execution_count": null,
   "metadata": {},
   "outputs": [],
   "source": [
    "# flip the cases in the string\n",
    "def lower_first(s):\n",
    "    new_str = ''\n",
    "    for c in s:\n",
    "        if c.isupper():\n",
    "            new_str += c.lower()\n",
    "        else:\n",
    "            new_str += c.upper()\n",
    "#    print(new_str)\n",
    "    return new_str\n",
    "\n",
    "words = ['Apple', 'banana', 'CHERRY', '1234']\n",
    "\n",
    "sorted(words, key=lower_first)"
   ]
  },
  {
   "cell_type": "code",
   "execution_count": null,
   "metadata": {},
   "outputs": [],
   "source": []
  }
 ],
 "metadata": {
  "kernelspec": {
   "display_name": "Python 3",
   "language": "python",
   "name": "python3"
  },
  "language_info": {
   "codemirror_mode": {
    "name": "ipython",
    "version": 3
   },
   "file_extension": ".py",
   "mimetype": "text/x-python",
   "name": "python",
   "nbconvert_exporter": "python",
   "pygments_lexer": "ipython3",
   "version": "3.7.4"
  }
 },
 "nbformat": 4,
 "nbformat_minor": 4
}
