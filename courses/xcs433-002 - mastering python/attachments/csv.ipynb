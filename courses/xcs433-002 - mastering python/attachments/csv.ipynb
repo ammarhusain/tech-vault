{
 "cells": [
  {
   "cell_type": "code",
   "execution_count": 9,
   "metadata": {},
   "outputs": [],
   "source": [
    "import csv\n",
    "\n",
    "with open('bay-bridge-toll.csv') as csv_file:\n",
    "    reader = csv.DictReader(csv_file, fieldnames=['date', 'toll'])\n",
    "    mylist = []\n",
    "    for row in reader:\n",
    "        mylist.append(row)"
   ]
  },
  {
   "cell_type": "code",
   "execution_count": 10,
   "metadata": {},
   "outputs": [
    {
     "name": "stdout",
     "output_type": "stream",
     "text": [
      "5\n"
     ]
    }
   ],
   "source": [
    "print(len(mylist))  "
   ]
  },
  {
   "cell_type": "code",
   "execution_count": 11,
   "metadata": {},
   "outputs": [
    {
     "name": "stdout",
     "output_type": "stream",
     "text": [
      "['01-1-1959', '0.50']\n"
     ]
    }
   ],
   "source": [
    "print(reader.fieldnames)"
   ]
  },
  {
   "cell_type": "code",
   "execution_count": 4,
   "metadata": {},
   "outputs": [
    {
     "name": "stdout",
     "output_type": "stream",
     "text": [
      "[OrderedDict([('date', '01-1-1959'), ('toll', '0.50')]), OrderedDict([('date', '01-01-1989'), ('toll', '1.00')]), OrderedDict([('date', '01-01-1998'), ('toll', '2.00')]), OrderedDict([('date', '07-01-2004'), ('toll', '3.00')]), OrderedDict([('date', '07-01-2010'), ('toll', '5.00')]), OrderedDict([('date', '01-01-2019'), ('toll', '6.00')])]\n"
     ]
    }
   ],
   "source": [
    "print(mylist)"
   ]
  },
  {
   "cell_type": "code",
   "execution_count": 5,
   "metadata": {},
   "outputs": [
    {
     "name": "stdout",
     "output_type": "stream",
     "text": [
      "Date: 01-1-1959 Toll: 0.50\n",
      "Date: 01-01-1989 Toll: 1.00\n",
      "Date: 01-01-1998 Toll: 2.00\n",
      "Date: 07-01-2004 Toll: 3.00\n",
      "Date: 07-01-2010 Toll: 5.00\n",
      "Date: 01-01-2019 Toll: 6.00\n"
     ]
    }
   ],
   "source": [
    "for r in mylist:\n",
    "    print(f\"Date: {r['date']} Toll: {r['toll']}\")"
   ]
  },
  {
   "cell_type": "code",
   "execution_count": 12,
   "metadata": {},
   "outputs": [],
   "source": [
    "import csv\n",
    "\n",
    "with open('bay-bridge-toll-header.csv') as csv_file:\n",
    "    reader = csv.DictReader(csv_file)\n",
    "    mylist = []\n",
    "    for row in reader:\n",
    "        mylist.append(row)"
   ]
  },
  {
   "cell_type": "code",
   "execution_count": 7,
   "metadata": {},
   "outputs": [
    {
     "name": "stdout",
     "output_type": "stream",
     "text": [
      "['date', 'toll']\n"
     ]
    }
   ],
   "source": [
    "print(reader.fieldnames)"
   ]
  },
  {
   "cell_type": "code",
   "execution_count": 13,
   "metadata": {},
   "outputs": [
    {
     "name": "stdout",
     "output_type": "stream",
     "text": [
      "Date: 01-1-1959 Toll: 0.50\n",
      "Date: 01-01-1989 Toll: 1.00\n",
      "Date: 01-01-1998 Toll: 2.00\n",
      "Date: 07-01-2004 Toll: 3.00\n",
      "Date: 07-01-2010 Toll: 5.00\n",
      "Date: 01-01-2019 Toll: 6.00\n"
     ]
    }
   ],
   "source": [
    "for r in mylist:\n",
    "    print(f\"Date: {r['date']} Toll: {r['toll']}\")"
   ]
  },
  {
   "cell_type": "code",
   "execution_count": 14,
   "metadata": {},
   "outputs": [],
   "source": [
    "import csv\n",
    "with open('newtoll.csv', 'w') as csv_file:\n",
    "    writer = csv.DictWriter(csv_file, fieldnames=reader.fieldnames)\n",
    "    writer.writeheader()\n",
    "    writer.writerows(mylist)\n",
    "    writer.writerow({'date':'06-01-2021', 'toll':10})"
   ]
  },
  {
   "cell_type": "code",
   "execution_count": 15,
   "metadata": {},
   "outputs": [],
   "source": [
    "import csv\n",
    "\n",
    "with open('sample.csv', 'w') as csv_file:\n",
    "    fn = ['id', 'name', 'position']\n",
    "    writer = csv.DictWriter(csv_file, fieldnames=fn)\n",
    "    writer.writeheader()\n",
    "    writer.writerow({'id':2, 'position':'manager', 'name':'Naomi'})"
   ]
  },
  {
   "cell_type": "code",
   "execution_count": null,
   "metadata": {},
   "outputs": [],
   "source": []
  }
 ],
 "metadata": {
  "kernelspec": {
   "display_name": "Python 3",
   "language": "python",
   "name": "python3"
  },
  "language_info": {
   "codemirror_mode": {
    "name": "ipython",
    "version": 3
   },
   "file_extension": ".py",
   "mimetype": "text/x-python",
   "name": "python",
   "nbconvert_exporter": "python",
   "pygments_lexer": "ipython3",
   "version": "3.7.6"
  }
 },
 "nbformat": 4,
 "nbformat_minor": 4
}
