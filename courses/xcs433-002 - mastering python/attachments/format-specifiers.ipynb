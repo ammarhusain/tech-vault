{
 "cells": [
  {
   "cell_type": "markdown",
   "metadata": {},
   "source": [
    "### Alignment"
   ]
  },
  {
   "cell_type": "code",
   "execution_count": 4,
   "metadata": {},
   "outputs": [
    {
     "name": "stdout",
     "output_type": "stream",
     "text": [
      "Left Alignment:   [UC~~~~~~~~~~~~~~~~~~]\n",
      "Center Alignment: [=========UC=========]\n",
      "Right Alignment:  [******************UC]\n"
     ]
    }
   ],
   "source": [
    "s = 'UC'\n",
    "print(f'Left Alignment:   [{s:~<20}]')\n",
    "print(f'Center Alignment: [{s:=^20}]')\n",
    "print(f'Right Alignment:  [{s:*>20}]')"
   ]
  },
  {
   "cell_type": "markdown",
   "metadata": {},
   "source": [
    "### Grouping"
   ]
  },
  {
   "cell_type": "code",
   "execution_count": 5,
   "metadata": {},
   "outputs": [
    {
     "name": "stdout",
     "output_type": "stream",
     "text": [
      "No Group:[1000000.000000]\n",
      "Group:   [1,000,000]\n",
      "Group:   [1,000,000.000000]\n",
      "Group:   [1,000,000.00]\n",
      "Group:   [1,000,000.000000]\n"
     ]
    }
   ],
   "source": [
    "n = 1000000\n",
    "print(f'No Group:[{n:f}]')\n",
    "print(f'Group:   [{n:,}]')\n",
    "print(f'Group:   [{n:,f}]')\n",
    "print(f'Group:   [{n:,.2f}]')\n",
    "print(f'Group:   [{n:,f}]')"
   ]
  },
  {
   "cell_type": "markdown",
   "metadata": {},
   "source": [
    "### Types"
   ]
  },
  {
   "cell_type": "code",
   "execution_count": 6,
   "metadata": {},
   "outputs": [
    {
     "name": "stdout",
     "output_type": "stream",
     "text": [
      "123456.780000\n",
      "123456.8\n",
      "123456.78000\n",
      "123456.7800000000\n"
     ]
    }
   ],
   "source": [
    "n = 123456.78 \n",
    "print(f'{n:f}')   # default precision 123456.780000\n",
    "print(f'{n:.1f}') \n",
    "# 1 digit precision 123456.8 ",
    "\n",
    "print(f'{n:.5f}') # 5 digit precision 123456.78000\n",
    "print(f'{n:.10f}') # 10 digit precision 123456.7800000000"
   ]
  },
  {
   "cell_type": "code",
   "execution_count": 7,
   "metadata": {},
   "outputs": [
    {
     "name": "stdout",
     "output_type": "stream",
     "text": [
      "Decimal: 128\n",
      "Binary:  10000000\n",
      "Octal:   200\n",
      "Hex:     80\n"
     ]
    }
   ],
   "source": [
    "n = 128\n",
    "print(f'Decimal: {n}')\n",
    "print(f'Binary:  {n:b}')\n",
    "print(f'Octal:   {n:o}')\n",
    "print(f'Hex:     {n:x}')"
   ]
  },
  {
   "cell_type": "code",
   "execution_count": 8,
   "metadata": {},
   "outputs": [
    {
     "name": "stdout",
     "output_type": "stream",
     "text": [
      "num: \t\t61\n",
      "num: (binary)\t111101\n",
      "num: (oct)\t75\n",
      "num: (hex)\t3d\n",
      "num: (hex upper)\t3D\n",
      "num: (character)\t=\n"
     ]
    }
   ],
   "source": [
    "num = 61\n",
    "print(f'num: \\t\\t{num}')\n",
    "print(f'num: (binary)\\t{num:b}')\n",
    "print(f'num: (oct)\\t{num:o}')\n",
    "print(f'num: (hex)\\t{num:x}')\n",
    "print(f'num: (hex upper)\\t{num:X}')\n",
    "print(f'num: (character)\\t{num:c}')"
   ]
  },
  {
   "cell_type": "code",
   "execution_count": 9,
   "metadata": {},
   "outputs": [
    {
     "name": "stdout",
     "output_type": "stream",
     "text": [
      "Exponent:        1.280000e+02\n",
      "Floating Point:  128.000000\n",
      "General:         128\n"
     ]
    }
   ],
   "source": [
    "n = 128\n",
    "print(f'Exponent:        {n:e}')\n",
    "print(f'Floating Point:  {n:f}')\n",
    "print(f'General:         {n:g}')\n"
   ]
  },
  {
   "cell_type": "code",
   "execution_count": 11,
   "metadata": {},
   "outputs": [
    {
     "name": "stdout",
     "output_type": "stream",
     "text": [
      "num: (default)\t0.49\n",
      "num: (e)\t\t4.900000e-01\n",
      "num: (f)\t\t0.490000\n",
      "num: (g)\t\t0.49\n",
      "num: (%)\t\t49.000000%\n"
     ]
    }
   ],
   "source": [
    "num = 100\n",
    "print(f'num: (default)\\t{num}')\n",
    "print(f'num: (e)\\t\\t{num:e}')\n",
    "print(f'num: (f)\\t\\t{num:f}')\n",
    "print(f'num: (g)\\t\\t{num:g}')\n",
    "print(f'num: (%)\\t\\t{num:%}')\n",
    "\n"
   ]
  },
  {
   "cell_type": "code",
   "execution_count": 12,
   "metadata": {},
   "outputs": [
    {
     "name": "stdout",
     "output_type": "stream",
     "text": [
      "num: (default)\t0.49367\n",
      "num: (e)\t\t4.936700e-01\n",
      "num: (f)\t\t0.493670\n",
      "num: (g)\t\t0.49367\n",
      "num: (%)\t\t49.367000%\n"
     ]
    }
   ],
   "source": [
    "num = 0.49367\n",
    "print(f'num: (default)\\t{num}')\n",
    "print(f'num: (e)\\t\\t{num:e}')\n",
    "print(f'num: (f)\\t\\t{num:f}')\n",
    "print(f'num: (g)\\t\\t{num:g}')\n",
    "print(f'num: (%)\\t\\t{num:%}')"
   ]
  },
  {
   "cell_type": "markdown",
   "metadata": {},
   "source": [
    "### Width"
   ]
  },
  {
   "cell_type": "code",
   "execution_count": 13,
   "metadata": {},
   "outputs": [
    {
     "name": "stdout",
     "output_type": "stream",
     "text": [
      "num: (default)\t[100]\n",
      "num: (w:10)\t[       100]\n",
      "s: (default)\t[hello]\n",
      "s: (w:10)\t[hello     ]\n"
     ]
    }
   ],
   "source": [
    "num = 100\n",
    "print(f'num: (default)\\t[{num}]')\n",
    "print(f'num: (w:10)\\t[{num:10}]')\n",
    "\n",
    "s = 'hello'\n",
    "print(f's: (default)\\t[{s}]')\n",
    "print(f's: (w:10)\\t[{s:10}]')\n",
    "\n"
   ]
  },
  {
   "cell_type": "code",
   "execution_count": 18,
   "metadata": {},
   "outputs": [
    {
     "name": "stdout",
     "output_type": "stream",
     "text": [
      "num: (default)\t[100]\n",
      "num: (w:10)\t[       100]\n",
      "s: (default)\t[]\n",
      "s: (w:10)\t[**********]\n",
      "num: (f)\t[1.23000]\n",
      "cost:\t[**1,456.90]\n"
     ]
    }
   ],
   "source": [
    "num = 100\n",
    "print(f'num: (default)\\t[{num}]')\n",
    "print(f'num: (w:10)\\t[{num:10}]')\n",
    "\n",
    "s = ''\n",
    "print(f's: (default)\\t[{s}]')\n",
    "print(f's: (w:10)\\t[{s:*>10}]')\n",
    "\n",
    "\n",
    "f = 1.23\n",
    "print(f'num: (f)\\t[{f:.5f}]')\n",
    "\n",
    "# demo of everything\n",
    "cost = 1456.9\n",
    "print(f'cost:\\t[{cost:*>10,.2f}]')"
   ]
  },
  {
   "cell_type": "markdown",
   "metadata": {},
   "source": [
    "### Precision"
   ]
  },
  {
   "cell_type": "code",
   "execution_count": 19,
   "metadata": {},
   "outputs": [
    {
     "data": {
      "text/plain": [
       "3.141592653589793"
      ]
     },
     "execution_count": 19,
     "metadata": {},
     "output_type": "execute_result"
    }
   ],
   "source": [
    "# floating point\n",
    "import math\n",
    "math.pi\n"
   ]
  },
  {
   "cell_type": "code",
   "execution_count": 20,
   "metadata": {},
   "outputs": [
    {
     "data": {
      "text/plain": [
       "'3.14'"
      ]
     },
     "execution_count": 20,
     "metadata": {},
     "output_type": "execute_result"
    }
   ],
   "source": [
    "# display only the first 2 decimal places\n",
    "f'{math.pi:.2f}'"
   ]
  },
  {
   "cell_type": "code",
   "execution_count": 21,
   "metadata": {},
   "outputs": [
    {
     "data": {
      "text/plain": [
       "'85.200000%'"
      ]
     },
     "execution_count": 21,
     "metadata": {},
     "output_type": "execute_result"
    }
   ],
   "source": [
    "# percentage\n",
    "n1 = .852\n",
    "f'{n1:%}'"
   ]
  },
  {
   "cell_type": "code",
   "execution_count": 22,
   "metadata": {},
   "outputs": [
    {
     "data": {
      "text/plain": [
       "'85.2%'"
      ]
     },
     "execution_count": 22,
     "metadata": {},
     "output_type": "execute_result"
    }
   ],
   "source": [
    "f'{n1:.1%}'"
   ]
  },
  {
   "cell_type": "code",
   "execution_count": 23,
   "metadata": {},
   "outputs": [
    {
     "data": {
      "text/plain": [
       "'$99.95'"
      ]
     },
     "execution_count": 23,
     "metadata": {},
     "output_type": "execute_result"
    }
   ],
   "source": [
    "# currency\n",
    "cost1 = 99.95\n",
    "f'${cost1}'"
   ]
  },
  {
   "cell_type": "code",
   "execution_count": 24,
   "metadata": {},
   "outputs": [
    {
     "data": {
      "text/plain": [
       "'$49.9'"
      ]
     },
     "execution_count": 24,
     "metadata": {},
     "output_type": "execute_result"
    }
   ],
   "source": [
    "cost2 = 49.90\n",
    "f'${cost2}'"
   ]
  },
  {
   "cell_type": "code",
   "execution_count": 27,
   "metadata": {},
   "outputs": [
    {
     "data": {
      "text/plain": [
       "'$49.90'"
      ]
     },
     "execution_count": 27,
     "metadata": {},
     "output_type": "execute_result"
    }
   ],
   "source": [
    "f'${cost2:.2f}'"
   ]
  },
  {
   "cell_type": "code",
   "execution_count": 28,
   "metadata": {},
   "outputs": [
    {
     "data": {
      "text/plain": [
       "'$23923409343.57'"
      ]
     },
     "execution_count": 28,
     "metadata": {},
     "output_type": "execute_result"
    }
   ],
   "source": [
    "cost3 = 23923409343.57\n",
    "f'${cost3:.2f}'"
   ]
  },
  {
   "cell_type": "code",
   "execution_count": 29,
   "metadata": {},
   "outputs": [
    {
     "data": {
      "text/plain": [
       "'$23,923,409,343.57'"
      ]
     },
     "execution_count": 29,
     "metadata": {},
     "output_type": "execute_result"
    }
   ],
   "source": [
    "f'${cost3:,.2f}'"
   ]
  },
  {
   "cell_type": "markdown",
   "metadata": {},
   "source": [
    "### Alignment with strings"
   ]
  },
  {
   "cell_type": "code",
   "execution_count": 30,
   "metadata": {},
   "outputs": [
    {
     "name": "stdout",
     "output_type": "stream",
     "text": [
      "Alicia 100\n",
      "Bob 93\n",
      "Chao 91\n"
     ]
    }
   ],
   "source": [
    "s1 = 'Alicia'\n",
    "n1 = 100\n",
    "s2 = 'Bob'\n",
    "n2 = 93\n",
    "s3 = 'Chao'\n",
    "n3 = 91\n",
    "\n",
    "print(f'{s1} {n1}')\n",
    "print(f'{s2} {n2}')\n",
    "print(f'{s3} {n3}')"
   ]
  },
  {
   "cell_type": "code",
   "execution_count": 31,
   "metadata": {},
   "outputs": [
    {
     "name": "stdout",
     "output_type": "stream",
     "text": [
      "Alicia\t100\n",
      "Bob\t93\n",
      "Chao\t91\n"
     ]
    }
   ],
   "source": [
    "print(f'{s1}\\t{n1}')\n",
    "print(f'{s2}\\t{n2}')\n",
    "print(f'{s3}\\t{n3}')"
   ]
  },
  {
   "cell_type": "code",
   "execution_count": 32,
   "metadata": {},
   "outputs": [
    {
     "name": "stdout",
     "output_type": "stream",
     "text": [
      "Alicia    |       100\n",
      "Bob       |        93\n",
      "Chao      |        91\n"
     ]
    }
   ],
   "source": [
    "print(f'{s1:10}|{n1:10}')\n",
    "print(f'{s2:10}|{n2:10}')\n",
    "print(f'{s3:10}|{n3:10}')"
   ]
  },
  {
   "cell_type": "code",
   "execution_count": null,
   "metadata": {},
   "outputs": [],
   "source": []
  }
 ],
 "metadata": {
  "kernelspec": {
   "display_name": "Python 3",
   "language": "python",
   "name": "python3"
  },
  "language_info": {
   "codemirror_mode": {
    "name": "ipython",
    "version": 3
   },
   "file_extension": ".py",
   "mimetype": "text/x-python",
   "name": "python",
   "nbconvert_exporter": "python",
   "pygments_lexer": "ipython3",
   "version": "3.7.6"
  }
 },
 "nbformat": 4,
 "nbformat_minor": 4
}
