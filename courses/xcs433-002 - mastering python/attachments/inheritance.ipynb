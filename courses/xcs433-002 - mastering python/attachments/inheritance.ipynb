{
 "cells": [
  {
   "cell_type": "markdown",
   "metadata": {},
   "source": [
    "#### inheritance and method overriding"
   ]
  },
  {
   "cell_type": "code",
   "execution_count": null,
   "metadata": {},
   "outputs": [],
   "source": [
    "\n",
    "class Shape:\n",
    "    def __init__(self, x, y):\n",
    "        self.x, self.y = x, y\n",
    "    \n",
    "    def area(self):\n",
    "        print('undefined')\n",
    "    \n",
    "class Rect(Shape):\n",
    "    def __init__(self, width, height):\n",
    "        super().__init__(0, 0)\n",
    "        self.width = width\n",
    "        self.height = height\n",
    "        \n",
    "    def area(self, p=1):\n",
    "        return self.width * self.height\n",
    "\n",
    "r = Rect(10, 20)\n",
    "print(r.area(20))"
   ]
  },
  {
   "cell_type": "code",
   "execution_count": null,
   "metadata": {},
   "outputs": [],
   "source": [
    "Rect.area()"
   ]
  },
  {
   "cell_type": "markdown",
   "metadata": {},
   "source": [
    "#### demonstrate what happens when you don't call the super's init"
   ]
  },
  {
   "cell_type": "code",
   "execution_count": null,
   "metadata": {},
   "outputs": [],
   "source": [
    "\n",
    "class Shape:\n",
    "    def __init__(self, x, y):\n",
    "        self.x, self.y = x, y\n",
    "    \n",
    "    def area(self):\n",
    "        print('undefined')\n",
    "    \n",
    "class Rect(Shape):\n",
    "    def __init__(self, width, height):\n",
    "        self.width = width\n",
    "        self.height = height\n",
    "        \n",
    "    def area(self, p=1):\n",
    "        return self.width * self.height\n",
    "\n",
    "r = Rect(10, 20)\n",
    "print(r.area(20))"
   ]
  },
  {
   "cell_type": "markdown",
   "metadata": {},
   "source": [
    "#### a slightly more complex hierarchy"
   ]
  },
  {
   "cell_type": "code",
   "execution_count": null,
   "metadata": {},
   "outputs": [],
   "source": [
    "class File:\n",
    "    def __init__(self, name):\n",
    "        self.name = name\n",
    "        \n",
    "    def extension(self):\n",
    "        file_parts = self.name.split('.')\n",
    "        if len(file_parts) < 2:\n",
    "            return self.name\n",
    "        else:\n",
    "            return file_parts[-1]\n",
    "    \n",
    "    def rename(self, name):\n",
    "        self.name = name\n",
    "    \n",
    "    def print(self):\n",
    "        print('Printing file')\n",
    "\n",
    "\n",
    "class ImageFile(File):\n",
    "    def __init__(self, name, width, height):\n",
    "        super().__init__(name)\n",
    "        self.dimensions = (width, height)\n",
    "    def print(self):\n",
    "        print('Printing Image file')\n",
    "\n",
    "\n",
    "class PhotoshopFile(ImageFile):\n",
    "    def __init__(self, name, width, height):\n",
    "        super().__init__(name, width, height)\n",
    "        self.layer = []\n",
    "        self.masks = []\n",
    "        self.effects = []\n",
    "\n",
    "    def print(self):\n",
    "        print('Printing Photoshop file')\n",
    "\n",
    "\n",
    "class VideoFile(File):\n",
    "    def __init__(self, name, length):\n",
    "        super().__init__(name)\n",
    "        self.length = length\n",
    "        \n",
    "    def play(self):\n",
    "        print(f'Playing {self.name}')\n",
    "\n",
    "    def print(self):\n",
    "        print('Cannot print video file')\n",
    "\n",
    "\n",
    "f1 = File('readme.txt')\n",
    "imgfile = ImageFile('uc.png', 128, 128)\n",
    "psfile = PhotoshopFile('UCX.psd', 1024, 800)\n",
    "vidfile = VideoFile('advertising.mp4', 20)\n"
   ]
  },
  {
   "cell_type": "code",
   "execution_count": null,
   "metadata": {},
   "outputs": [],
   "source": [
    "print(f1.name)\n",
    "print(f1.extension())\n",
    "f1.print()"
   ]
  },
  {
   "cell_type": "code",
   "execution_count": null,
   "metadata": {},
   "outputs": [],
   "source": [
    "print(imgfile.name)\n",
    "print(imgfile.extension())\n",
    "imgfile.print()"
   ]
  },
  {
   "cell_type": "code",
   "execution_count": null,
   "metadata": {},
   "outputs": [],
   "source": [
    "print(psfile.name)\n",
    "print(psfile.extension())\n",
    "print(psfile.layer, psfile.masks, psfile.effects)\n",
    "print(imgfile.layer)\n",
    "psfile.print()"
   ]
  },
  {
   "cell_type": "code",
   "execution_count": null,
   "metadata": {},
   "outputs": [],
   "source": [
    "print(vidfile.name)\n",
    "print(vidfile.extension())\n",
    "vidfile.print()\n",
    "vidfile.play()"
   ]
  },
  {
   "cell_type": "code",
   "execution_count": null,
   "metadata": {},
   "outputs": [],
   "source": []
  }
 ],
 "metadata": {
  "kernelspec": {
   "display_name": "Python 3",
   "language": "python",
   "name": "python3"
  },
  "language_info": {
   "codemirror_mode": {
    "name": "ipython",
    "version": 3
   },
   "file_extension": ".py",
   "mimetype": "text/x-python",
   "name": "python",
   "nbconvert_exporter": "python",
   "pygments_lexer": "ipython3",
   "version": "3.7.6"
  }
 },
 "nbformat": 4,
 "nbformat_minor": 4
}
