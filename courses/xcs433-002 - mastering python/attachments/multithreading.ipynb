{
 "cells": [
  {
   "cell_type": "markdown",
   "metadata": {},
   "source": [
    "#### Single thread vs multiple threads"
   ]
  },
  {
   "cell_type": "code",
   "execution_count": 15,
   "metadata": {},
   "outputs": [
    {
     "name": "stdout",
     "output_type": "stream",
     "text": [
      "Napping tid 1\n",
      "Done Napping 1\n",
      "Napping tid 2\n",
      "Done Napping 2\n",
      "Time: 6.00\n"
     ]
    }
   ],
   "source": [
    "import time\n",
    "import threading\n",
    "\n",
    "\n",
    "def nap(tid, seconds):\n",
    "    print(f'Napping tid {tid}')\n",
    "    time.sleep(seconds)\n",
    "    print(f'Done Napping {tid}')\n",
    "    \n",
    "start = time.perf_counter()\n",
    "\n",
    "nap(1, 4)\n",
    "nap(2, 2)\n",
    "\n",
    "print(f'Time: {time.perf_counter()-start:.2f}')    "
   ]
  },
  {
   "cell_type": "code",
   "execution_count": 16,
   "metadata": {},
   "outputs": [
    {
     "name": "stdout",
     "output_type": "stream",
     "text": [
      "Napping tid 1\n",
      "Napping tid 2Time: 0.00\n",
      "\n",
      "Done Napping 2\n",
      "Done Napping 1\n"
     ]
    }
   ],
   "source": [
    "import time\n",
    "import threading\n",
    "\n",
    "def nap(tid, seconds):\n",
    "    print(f'Napping tid {tid}')\n",
    "    time.sleep(seconds)\n",
    "    print(f'Done Napping {tid}')\n",
    "    \n",
    "start = time.perf_counter()\n",
    "\n",
    "t1 = threading.Thread(target=nap, args=(1, 4,))\n",
    "t2 = threading.Thread(target=nap, args=(2, 2,))\n",
    "t1.start()\n",
    "t2.start()\n",
    "\n",
    "print(f'Time: {time.perf_counter()-start:.2f}')    "
   ]
  },
  {
   "cell_type": "markdown",
   "metadata": {},
   "source": [
    "#### adding join to synchronize all threads"
   ]
  },
  {
   "cell_type": "code",
   "execution_count": 17,
   "metadata": {},
   "outputs": [
    {
     "name": "stdout",
     "output_type": "stream",
     "text": [
      "Napping tid 1\n",
      "Napping tid 2\n",
      "Done Napping 2\n",
      "Done Napping 1\n",
      "Time: 4.00\n"
     ]
    }
   ],
   "source": [
    "import time\n",
    "import threading\n",
    "\n",
    "def nap(tid, seconds):\n",
    "    print(f'Napping tid {tid}')\n",
    "    time.sleep(seconds)\n",
    "    print(f'Done Napping {tid}')\n",
    "\n",
    "start = time.perf_counter()\n",
    "\n",
    "t1 = threading.Thread(target=nap, args=(1, 4,))\n",
    "t2 = threading.Thread(target=nap, args=(2, 2,))\n",
    "\n",
    "t1.start()\n",
    "t2.start()\n",
    "\n",
    "t1.join()\n",
    "t2.join()\n",
    "\n",
    "print(f'Time: {time.perf_counter()-start:.2f}')    "
   ]
  },
  {
   "cell_type": "markdown",
   "metadata": {},
   "source": [
    "#### more threads with tid"
   ]
  },
  {
   "cell_type": "code",
   "execution_count": 18,
   "metadata": {},
   "outputs": [
    {
     "name": "stdout",
     "output_type": "stream",
     "text": [
      "Napping tid 0\n",
      "Napping tid 1\n",
      "Napping tid 2\n",
      "Napping tid 3\n",
      "Napping tid 4\n",
      "Napping tid 5\n",
      "Napping tid 6\n",
      "Napping tid 7\n",
      "Napping tid 8\n",
      "Napping tid 9\n",
      "Done Napping 1\n",
      "Done Napping 5\n",
      "Done Napping 0Done Napping 2\n",
      "\n",
      "Done Napping 4\n",
      "Done Napping 7Done Napping 9Done Napping 6\n",
      "\n",
      "\n",
      "Done Napping 3\n",
      "Done Napping 8\n",
      "Time: 5.02\n"
     ]
    }
   ],
   "source": [
    "import time\n",
    "import threading\n",
    "import random\n",
    "\n",
    "def nap(tid):\n",
    "    seconds = random.randint(1, 5)\n",
    "    print(f'Napping tid {tid}')\n",
    "    time.sleep(seconds)\n",
    "    print(f'Done Napping {tid}')\n",
    "    \n",
    "start = time.perf_counter()\n",
    "\n",
    "threads = []\n",
    "for tid in range(10):\n",
    "    t = threading.Thread(target=nap, args=(tid,))\n",
    "    t.start()\n",
    "    threads.append(t)\n",
    "\n",
    "for t in threads:\n",
    "    t.join()\n",
    "\n",
    "print(f'Time: {time.perf_counter()-start:.2f}')    "
   ]
  },
  {
   "cell_type": "markdown",
   "metadata": {},
   "source": [
    "#### synchronization"
   ]
  },
  {
   "cell_type": "code",
   "execution_count": 19,
   "metadata": {},
   "outputs": [
    {
     "name": "stdout",
     "output_type": "stream",
     "text": [
      "Napping tid 0 for 2 secondsNapping tid 0 for 3 seconds\n",
      "\n",
      "Napping tid 0 for 1 secondsNapping tid 0 for 2 seconds\n",
      "\n",
      "Napping tid 0 for 2 seconds\n",
      "Napping tid 0 for 4 secondsNapping tid 0 for 5 seconds\n",
      "\n",
      "Napping tid 0 for 4 secondsNapping tid 0 for 3 seconds\n",
      "\n",
      "Napping tid 0 for 3 seconds\n",
      "Done Napping 0\n",
      "Done Napping 0\n",
      "Done Napping 0\n",
      "Done Napping 0\n",
      "Done Napping 0\n",
      "Done Napping 0Done Napping 0\n",
      "\n",
      "Done Napping 0Done Napping 0\n",
      "\n",
      "Done Napping 0\n",
      "Time: 5.02\n"
     ]
    }
   ],
   "source": [
    "import time\n",
    "import threading\n",
    "\n",
    "tid = 0\n",
    "\n",
    "import random\n",
    "\n",
    "def nap():\n",
    "    global tid\n",
    "\n",
    "    mytid = tid\n",
    "    seconds = random.randint(1, 5)\n",
    "    print(f'Napping tid {tid} for {seconds} seconds')\n",
    "    time.sleep(seconds)\n",
    "    print(f'Done Napping {mytid}')\n",
    "    mytid += 1\n",
    "    tid = mytid\n",
    "    \n",
    "start = time.perf_counter()\n",
    "\n",
    "threads = []\n",
    "\n",
    "for x in range(10):\n",
    "    t = threading.Thread(target=nap, args=())\n",
    "    t.start()\n",
    "    threads.append(t)\n",
    "\n",
    "for t in threads:\n",
    "    t.join()\n",
    "\n",
    "print(f'Time: {time.perf_counter()-start:.2f}')    "
   ]
  },
  {
   "cell_type": "code",
   "execution_count": 20,
   "metadata": {},
   "outputs": [
    {
     "name": "stdout",
     "output_type": "stream",
     "text": [
      "Napping tid 0 for 3 seconds\n",
      "Done Napping 0\n",
      "Napping tid 1 for 1 seconds\n",
      "Done Napping 1\n",
      "Napping tid 2 for 1 seconds\n",
      "Done Napping 2\n",
      "Napping tid 3 for 2 seconds\n",
      "Done Napping 3\n",
      "Napping tid 4 for 5 seconds\n",
      "Done Napping 4\n",
      "Napping tid 5 for 4 seconds\n",
      "Done Napping 5\n",
      "Napping tid 6 for 5 seconds\n",
      "Done Napping 6\n",
      "Napping tid 7 for 5 seconds\n",
      "Done Napping 7\n",
      "Napping tid 8 for 4 seconds\n",
      "Done Napping 8\n",
      "Napping tid 9 for 1 seconds\n",
      "Done Napping 9\n",
      "Time: 31.05\n"
     ]
    }
   ],
   "source": [
    "# more accurate execution, but performance suffers\n",
    "\n",
    "import time\n",
    "import threading\n",
    "\n",
    "tid = 0\n",
    "\n",
    "import random\n",
    "\n",
    "def nap():\n",
    "    global tid\n",
    "\n",
    "    lock.acquire()\n",
    "\n",
    "    mytid = tid\n",
    "    seconds = random.randint(1, 5)\n",
    "    print(f'Napping tid {tid} for {seconds} seconds')\n",
    "    time.sleep(seconds)\n",
    "    print(f'Done Napping {mytid}')\n",
    "    mytid += 1\n",
    "    tid = mytid\n",
    "    \n",
    "    lock.release()\n",
    "\n",
    "lock = threading.Lock()\n",
    "threads = []\n",
    "\n",
    "start = time.perf_counter()\n",
    "for x in range(10):\n",
    "    t = threading.Thread(target=nap, args=())\n",
    "    t.start()\n",
    "    threads.append(t)\n",
    "\n",
    "for t in threads:\n",
    "    t.join()\n",
    "\n",
    "print(f'Time: {time.perf_counter()-start:.2f}')    "
   ]
  },
  {
   "cell_type": "code",
   "execution_count": 21,
   "metadata": {},
   "outputs": [
    {
     "name": "stdout",
     "output_type": "stream",
     "text": [
      "Napping tid 0 for 4 seconds\n",
      "Napping tid 1 for 2 seconds\n",
      "Napping tid 2 for 1 seconds\n",
      "Napping tid 3 for 4 seconds\n",
      "Napping tid 4 for 2 seconds\n",
      "Napping tid 5 for 1 seconds\n",
      "Napping tid 6 for 2 seconds\n",
      "Napping tid 7 for 4 seconds\n",
      "Napping tid 8 for 1 seconds\n",
      "Napping tid 9 for 2 seconds\n",
      "Done Napping 3\n",
      "Done Napping 6Done Napping 9\n",
      "\n",
      "Done Napping 2\n",
      "Done Napping 5Done Napping 7\n",
      "\n",
      "Done Napping 10\n",
      "Done Napping 1\n",
      "Done Napping 4Done Napping 8\n",
      "\n",
      "Time: 4.02\n"
     ]
    }
   ],
   "source": [
    "# more accurate execution, but performance suffers\n",
    "\n",
    "import time\n",
    "import threading\n",
    "\n",
    "tid = 0\n",
    "\n",
    "import random\n",
    "\n",
    "def nap():\n",
    "    global tid\n",
    "\n",
    "    lock.acquire()\n",
    "\n",
    "    mytid = tid\n",
    "    seconds = random.randint(1, 5)\n",
    "    print(f'Napping tid {tid} for {seconds} seconds')\n",
    "    mytid += 1\n",
    "    tid = mytid\n",
    "    lock.release()\n",
    "\n",
    "    time.sleep(seconds)\n",
    "    print(f'Done Napping {mytid}')\n",
    "\n",
    "\n",
    "lock = threading.Lock()\n",
    "threads = []\n",
    "\n",
    "start = time.perf_counter()\n",
    "for x in range(10):\n",
    "    t = threading.Thread(target=nap, args=())\n",
    "    t.start()\n",
    "    threads.append(t)\n",
    "\n",
    "for t in threads:\n",
    "    t.join()\n",
    "\n",
    "print(f'Time: {time.perf_counter()-start:.2f}')    "
   ]
  },
  {
   "cell_type": "markdown",
   "metadata": {},
   "source": [
    "#### threadpoolexecutor"
   ]
  },
  {
   "cell_type": "code",
   "execution_count": 24,
   "metadata": {},
   "outputs": [
    {
     "name": "stdout",
     "output_type": "stream",
     "text": [
      "Thread 4 finished napping in 1 seconds\n",
      "Thread 2 finished napping in 1 seconds\n",
      "Thread 3 finished napping in 2 seconds\n",
      "Thread 5 finished napping in 2 seconds\n",
      "Thread 1 finished napping in 3 seconds\n",
      "Thread 7 finished napping in 3 seconds\n",
      "Thread 0 finished napping in 4 seconds\n",
      "Thread 9 finished napping in 4 seconds\n",
      "Thread 6 finished napping in 5 seconds\n",
      "Thread 8 finished napping in 5 seconds\n",
      "Time: 5.01\n"
     ]
    }
   ],
   "source": [
    "import concurrent.futures\n",
    "import time\n",
    "import threading\n",
    "import random\n",
    "\n",
    "def nap(tid):\n",
    "    seconds = random.randint(1, 5)\n",
    "    time.sleep(seconds)\n",
    "    lock.acquire()\n",
    "    print(f'Thread {tid} finished napping in {seconds} seconds')\n",
    "    lock.release()\n",
    "    \n",
    "start = time.perf_counter()\n",
    "lock = threading.Lock()\n",
    "with concurrent.futures.ThreadPoolExecutor() as executor:\n",
    "    for tid in range(10):\n",
    "        executor.submit(nap, tid)\n",
    "\n",
    "print(f'Time: {time.perf_counter()-start:.2f}')    "
   ]
  },
  {
   "cell_type": "markdown",
   "metadata": {},
   "source": [
    "#### downloading multiple URLs"
   ]
  },
  {
   "cell_type": "code",
   "execution_count": null,
   "metadata": {},
   "outputs": [],
   "source": [
    "!ls -lt *"
   ]
  },
  {
   "cell_type": "code",
   "execution_count": 26,
   "metadata": {},
   "outputs": [
    {
     "name": "stdout",
     "output_type": "stream",
     "text": [
      "Finished Writing unknown-maker-sacramentary-ottonian-first-quarter-of-11th-century_1300.jpg\n",
      "Finished Writing DP145907.jpg\n",
      "Finished Writing 6v8gJSTbWy7SYdp7U5OHusAipBgGp3zSIplObndB.png\n",
      "Finished Writing logo-ucberkeley-white.png\n",
      "Time: 0.95\n",
      "Counter: 4\n"
     ]
    }
   ],
   "source": [
    "from urllib.parse import urlparse\n",
    "\n",
    "import concurrent.futures\n",
    "import time\n",
    "import threading\n",
    "import requests\n",
    "import sys\n",
    "import os\n",
    "\n",
    "def download_url(url):\n",
    "    global counter\n",
    "\n",
    "    path = urlparse(url)\n",
    "    filename = os.path.basename(path.path)\n",
    "    r = requests.get(url)\n",
    "    with open(filename, 'wb') as file:\n",
    "        file.write(r.content)\n",
    "    print(f'Finished Writing {filename}')\n",
    "    counter += 1\n",
    "\n",
    "counter = 0\n",
    "start = time.perf_counter()\n",
    "urls = ['http://d3vjn2zm46gms2.cloudfront.net/blogs/2020/07/07141528/unknown-maker-sacramentary-ottonian-first-quarter-of-11th-century_1300.jpg',\n",
    "        'https://images.metmuseum.org/CRDImages/ep/web-large/DP145907.jpg',\n",
    "        'https://www3.nhk.or.jp/nhkworld/common/assets/news/images/banner/mtiddle/6v8gJSTbWy7SYdp7U5OHusAipBgGp3zSIplObndB.png',\n",
    "        'https://www.berkeley.edu/images/uploads/logo-ucberkeley-white.png']\n",
    "\n",
    "for url in urls:\n",
    "    download_url(url)\n",
    "\n",
    "print(f'Time: {time.perf_counter()-start:.2f}')    \n",
    "print(f'Counter: {counter}')"
   ]
  },
  {
   "cell_type": "code",
   "execution_count": null,
   "metadata": {},
   "outputs": [],
   "source": [
    "!ls -lt *"
   ]
  },
  {
   "cell_type": "code",
   "execution_count": 27,
   "metadata": {},
   "outputs": [
    {
     "name": "stdout",
     "output_type": "stream",
     "text": [
      "Finished Writing 6v8gJSTbWy7SYdp7U5OHusAipBgGp3zSIplObndB.png\n",
      "Finished Writing DP145907.jpg\n",
      "Finished Writing logo-ucberkeley-white.png\n",
      "Finished Writing unknown-maker-sacramentary-ottonian-first-quarter-of-11th-century_1300.jpg\n",
      "Time: 0.33\n",
      "Counter: 4\n"
     ]
    }
   ],
   "source": [
    "import concurrent.futures\n",
    "\n",
    "import time\n",
    "import threading\n",
    "import random\n",
    "import requests\n",
    "import sys\n",
    "\n",
    "def download_url(url):\n",
    "    global counter\n",
    "\n",
    "    path = urlparse(url)\n",
    "    filename = os.path.basename(path.path)\n",
    "    r = requests.get(url)\n",
    "    with open(filename, 'wb') as file:\n",
    "        file.write(r.content)\n",
    "    print(f'Finished Writing {filename}')\n",
    "    counter += 1\n",
    "\n",
    "start = time.perf_counter()    \n",
    "urls = ['http://d3vjn2zm46gms2.cloudfront.net/blogs/2020/07/07141528/unknown-maker-sacramentary-ottonian-first-quarter-of-11th-century_1300.jpg',\n",
    "        'https://images.metmuseum.org/CRDImages/ep/web-large/DP145907.jpg',\n",
    "        'https://www3.nhk.or.jp/nhkworld/common/assets/news/images/banner/mtiddle/6v8gJSTbWy7SYdp7U5OHusAipBgGp3zSIplObndB.png',\n",
    "        'https://www.berkeley.edu/images/uploads/logo-ucberkeley-white.png']\n",
    "\n",
    "with concurrent.futures.ThreadPoolExecutor() as executor:\n",
    "    counter = 0\n",
    "    for url in urls:\n",
    "        executor.submit(download_url, url)\n",
    "\n",
    "print(f'Time: {time.perf_counter()-start:.2f}')    \n",
    "print(f'Counter: {counter}')"
   ]
  },
  {
   "cell_type": "code",
   "execution_count": null,
   "metadata": {},
   "outputs": [],
   "source": [
    "!ls -lt *"
   ]
  },
  {
   "cell_type": "code",
   "execution_count": null,
   "metadata": {},
   "outputs": [],
   "source": []
  }
 ],
 "metadata": {
  "kernelspec": {
   "display_name": "Python 3",
   "language": "python",
   "name": "python3"
  },
  "language_info": {
   "codemirror_mode": {
    "name": "ipython",
    "version": 3
   },
   "file_extension": ".py",
   "mimetype": "text/x-python",
   "name": "python",
   "nbconvert_exporter": "python",
   "pygments_lexer": "ipython3",
   "version": "3.7.4"
  }
 },
 "nbformat": 4,
 "nbformat_minor": 4
}
