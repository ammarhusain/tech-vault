{
 "cells": [
  {
   "cell_type": "markdown",
   "metadata": {},
   "source": [
    "### JSON loads() method"
   ]
  },
  {
   "cell_type": "code",
   "execution_count": 1,
   "metadata": {},
   "outputs": [
    {
     "name": "stdout",
     "output_type": "stream",
     "text": [
      "[{'name': 'Austin', 'id': 1, 'temp': 95}, {'name': 'Berkeley', 'id': 2, 'temp': 92}, {'name': 'Chicago', 'id': 3, 'temp': 90}]\n"
     ]
    }
   ],
   "source": [
    "import json\n",
    "\n",
    "json_string = \"\"\"\n",
    "[{\"name\": \"Austin\", \"id\": 1, \"temp\": 95}, \n",
    "{\"name\": \"Berkeley\", \"id\": 2, \"temp\": 92}, \n",
    "{\"name\": \"Chicago\", \"id\": 3, \"temp\": 90}]\n",
    "\"\"\"\n",
    "contents = json.loads(json_string)\n",
    "print(contents)"
   ]
  },
  {
   "cell_type": "code",
   "execution_count": 2,
   "metadata": {},
   "outputs": [
    {
     "name": "stdout",
     "output_type": "stream",
     "text": [
      "<class 'list'>\n"
     ]
    }
   ],
   "source": [
    "print(type(contents))"
   ]
  },
  {
   "cell_type": "code",
   "execution_count": 3,
   "metadata": {},
   "outputs": [
    {
     "data": {
      "text/plain": [
       "dict"
      ]
     },
     "execution_count": 3,
     "metadata": {},
     "output_type": "execute_result"
    }
   ],
   "source": [
    "type(contents[0])"
   ]
  },
  {
   "cell_type": "code",
   "execution_count": 4,
   "metadata": {},
   "outputs": [
    {
     "name": "stdout",
     "output_type": "stream",
     "text": [
      "ID: 1\tName: Austin\tTemperature:95\n",
      "ID: 2\tName: Berkeley\tTemperature:92\n",
      "ID: 3\tName: Chicago\tTemperature:90\n"
     ]
    }
   ],
   "source": [
    "for row in contents:\n",
    "    print(f\"ID: {row['id']}\\tName: {row['name']}\\tTemperature:{row['temp']}\")"
   ]
  },
  {
   "cell_type": "markdown",
   "metadata": {},
   "source": [
    "### Loading a JSON file"
   ]
  },
  {
   "cell_type": "code",
   "execution_count": 5,
   "metadata": {},
   "outputs": [
    {
     "name": "stdout",
     "output_type": "stream",
     "text": [
      "[{'name': 'Austin', 'id': 1, 'temp': 95}, {'name': 'Berkeley', 'id': 2, 'temp': 92}, {'name': 'Chicago', 'id': 3, 'temp': 90}, {'name': 'Denver', 'id': 4, 'temp': 82}, {'name': 'East Palo Alto', 'id': 5, 'temp': 90}, {'name': 'Fremont', 'id': 6, 'temp': 94}, {'id': 10, 'name': 'San Francisco', 'temp': 60}]\n"
     ]
    }
   ],
   "source": [
    "json_file = open('city-temps.json')\n",
    "contents = json.load(json_file)\n",
    "print(contents)"
   ]
  },
  {
   "cell_type": "code",
   "execution_count": 6,
   "metadata": {},
   "outputs": [
    {
     "name": "stdout",
     "output_type": "stream",
     "text": [
      "ID: 1\tName: Austin\tTemperature:95\n",
      "ID: 2\tName: Berkeley\tTemperature:92\n",
      "ID: 3\tName: Chicago\tTemperature:90\n",
      "ID: 4\tName: Denver\tTemperature:82\n",
      "ID: 5\tName: East Palo Alto\tTemperature:90\n",
      "ID: 6\tName: Fremont\tTemperature:94\n",
      "ID: 10\tName: San Francisco\tTemperature:60\n"
     ]
    }
   ],
   "source": [
    "for row in contents:\n",
    "    print(f\"ID: {row['id']}\\tName: {row['name']}\\tTemperature:{row['temp']}\")"
   ]
  },
  {
   "cell_type": "markdown",
   "metadata": {},
   "source": [
    "#### add a new row"
   ]
  },
  {
   "cell_type": "code",
   "execution_count": 7,
   "metadata": {},
   "outputs": [],
   "source": [
    "new_row = {'id':11, 'name':'New York', 'temp':75}"
   ]
  },
  {
   "cell_type": "code",
   "execution_count": 8,
   "metadata": {},
   "outputs": [],
   "source": [
    "contents.append(new_row)"
   ]
  },
  {
   "cell_type": "code",
   "execution_count": 9,
   "metadata": {},
   "outputs": [
    {
     "data": {
      "text/plain": [
       "[{'name': 'Austin', 'id': 1, 'temp': 95},\n",
       " {'name': 'Berkeley', 'id': 2, 'temp': 92},\n",
       " {'name': 'Chicago', 'id': 3, 'temp': 90},\n",
       " {'name': 'Denver', 'id': 4, 'temp': 82},\n",
       " {'name': 'East Palo Alto', 'id': 5, 'temp': 90},\n",
       " {'name': 'Fremont', 'id': 6, 'temp': 94},\n",
       " {'id': 10, 'name': 'San Francisco', 'temp': 60},\n",
       " {'id': 11, 'name': 'New York', 'temp': 75}]"
      ]
     },
     "execution_count": 9,
     "metadata": {},
     "output_type": "execute_result"
    }
   ],
   "source": [
    "contents"
   ]
  },
  {
   "cell_type": "markdown",
   "metadata": {},
   "source": [
    "### JSON dumps() method"
   ]
  },
  {
   "cell_type": "code",
   "execution_count": 10,
   "metadata": {},
   "outputs": [
    {
     "data": {
      "text/plain": [
       "'[{\"name\": \"Austin\", \"id\": 1, \"temp\": 95}, {\"name\": \"Berkeley\", \"id\": 2, \"temp\": 92}, {\"name\": \"Chicago\", \"id\": 3, \"temp\": 90}, {\"name\": \"Denver\", \"id\": 4, \"temp\": 82}, {\"name\": \"East Palo Alto\", \"id\": 5, \"temp\": 90}, {\"name\": \"Fremont\", \"id\": 6, \"temp\": 94}, {\"id\": 10, \"name\": \"San Francisco\", \"temp\": 60}, {\"id\": 11, \"name\": \"New York\", \"temp\": 75}]'"
      ]
     },
     "execution_count": 10,
     "metadata": {},
     "output_type": "execute_result"
    }
   ],
   "source": [
    "json.dumps(contents)"
   ]
  },
  {
   "cell_type": "markdown",
   "metadata": {},
   "source": [
    "### JSON dump() method"
   ]
  },
  {
   "cell_type": "code",
   "execution_count": 11,
   "metadata": {},
   "outputs": [],
   "source": [
    "with open('city-temps2.json', 'w') as jo:\n",
    "    json.dump(contents, jo)\n",
    "    "
   ]
  },
  {
   "cell_type": "code",
   "execution_count": null,
   "metadata": {},
   "outputs": [],
   "source": []
  }
 ],
 "metadata": {
  "kernelspec": {
   "display_name": "Python 3",
   "language": "python",
   "name": "python3"
  },
  "language_info": {
   "codemirror_mode": {
    "name": "ipython",
    "version": 3
   },
   "file_extension": ".py",
   "mimetype": "text/x-python",
   "name": "python",
   "nbconvert_exporter": "python",
   "pygments_lexer": "ipython3",
   "version": "3.7.6"
  }
 },
 "nbformat": 4,
 "nbformat_minor": 4
}
