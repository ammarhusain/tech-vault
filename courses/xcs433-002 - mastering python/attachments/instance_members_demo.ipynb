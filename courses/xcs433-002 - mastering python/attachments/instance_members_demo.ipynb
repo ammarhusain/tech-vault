{
 "cells": [
  {
   "cell_type": "markdown",
   "metadata": {
    "jupyter": {
     "source_hidden": true
    }
   },
   "source": [
    "#### A grid class"
   ]
  },
  {
   "cell_type": "code",
   "execution_count": 3,
   "metadata": {
    "collapsed": true,
    "jupyter": {
     "outputs_hidden": true,
     "source_hidden": true
    }
   },
   "outputs": [
    {
     "name": "stdout",
     "output_type": "stream",
     "text": [
      "_ _ _ \n",
      "_ _ _ \n",
      "_ _ _ \n",
      "_ _ _ \n",
      "_ _ X \n",
      "_ _ X \n",
      "X\n",
      "_ _ _ _ \n",
      "_ _ _ _ \n",
      "_ _ _ _ \n",
      "_ _ _ _ \n"
     ]
    }
   ],
   "source": [
    "class Grid:\n",
    "    def __init__(self, columns, rows, fill_char='_'):\n",
    "        self.columns, self.rows = columns,rows\n",
    "        self.grid = []\n",
    "        self.fill(fill_char)\n",
    "        \n",
    "    def set(self, column, row, c):\n",
    "        self.grid[row][column] = c\n",
    "    \n",
    "    def get(self, column, row):\n",
    "        return self.grid[row][column]\n",
    "    \n",
    "    def print(self):\n",
    "        for r in range(0, self.rows):\n",
    "            for c in self.grid[r]:\n",
    "                print(c, end=' ')\n",
    "            print()\n",
    "\n",
    "    def fill(self, fill_char):\n",
    "        self.grid.clear()\n",
    "        for r in range(0, self.rows):\n",
    "            self.grid.append([ fill_char ] * self.columns)\n",
    "\n",
    "g1 = Grid(3, 3)\n",
    "g1.print()\n",
    "g1.set(2,1, 'X')\n",
    "g1.set(2,2, 'X')\n",
    "g1.print()\n",
    "print(g1.get(2,2))\n",
    "\n",
    "g2 = Grid(4, 4)\n",
    "g2.print()"
   ]
  },
  {
   "cell_type": "markdown",
   "metadata": {},
   "source": [
    "#### A file class"
   ]
  },
  {
   "cell_type": "code",
   "execution_count": 13,
   "metadata": {},
   "outputs": [
    {
     "name": "stdout",
     "output_type": "stream",
     "text": [
      "txt\n"
     ]
    }
   ],
   "source": [
    "# init and self\n",
    "class File:\n",
    "    def __init__(self, name):\n",
    "        self.name = name\n",
    "        \n",
    "    def extension(self):\n",
    "        file_parts = self.name.split('.')\n",
    "        if len(file_parts) < 2:\n",
    "            return self.name\n",
    "        else:\n",
    "            return file_parts[-1]\n",
    "    \n",
    "    def rename(self, name):\n",
    "        self.name = name\n",
    "        \n",
    "f1 = File('readme.txt')\n",
    "print(f1.extension())"
   ]
  },
  {
   "cell_type": "code",
   "execution_count": 7,
   "metadata": {},
   "outputs": [
    {
     "name": "stdout",
     "output_type": "stream",
     "text": [
      "readme\n"
     ]
    }
   ],
   "source": [
    "f2 = File('readme')\n",
    "print(f2.extension())"
   ]
  },
  {
   "cell_type": "code",
   "execution_count": 8,
   "metadata": {},
   "outputs": [
    {
     "name": "stdout",
     "output_type": "stream",
     "text": [
      "doc\n"
     ]
    }
   ],
   "source": [
    "f2.rename('readme.doc')\n",
    "print(f2.extension())"
   ]
  },
  {
   "cell_type": "markdown",
   "metadata": {},
   "source": [
    "#### how instances are passed as arguments"
   ]
  },
  {
   "cell_type": "code",
   "execution_count": 12,
   "metadata": {},
   "outputs": [
    {
     "ename": "TypeError",
     "evalue": "rename() takes 2 positional arguments but 3 were given",
     "output_type": "error",
     "traceback": [
      "\u001b[0;31m---------------------------------------------------------------------------\u001b[0m",
      "\u001b[0;31mTypeError\u001b[0m                                 Traceback (most recent call last)",
      "\u001b[0;32m<ipython-input-12-dc96a5d60844>\u001b[0m in \u001b[0;36m<module>\u001b[0;34m\u001b[0m\n\u001b[0;32m----> 1\u001b[0;31m \u001b[0mf2\u001b[0m\u001b[0;34m.\u001b[0m\u001b[0mrename\u001b[0m\u001b[0;34m(\u001b[0m\u001b[0;34m\"test\"\u001b[0m\u001b[0;34m,\u001b[0m \u001b[0;36m2\u001b[0m\u001b[0;34m)\u001b[0m\u001b[0;34m\u001b[0m\u001b[0;34m\u001b[0m\u001b[0m\n\u001b[0m",
      "\u001b[0;31mTypeError\u001b[0m: rename() takes 2 positional arguments but 3 were given"
     ]
    }
   ],
   "source": [
    "f2.rename(\"test\", 2)"
   ]
  },
  {
   "cell_type": "code",
   "execution_count": null,
   "metadata": {},
   "outputs": [],
   "source": []
  }
 ],
 "metadata": {
  "kernelspec": {
   "display_name": "Python 3",
   "language": "python",
   "name": "python3"
  },
  "language_info": {
   "codemirror_mode": {
    "name": "ipython",
    "version": 3
   },
   "file_extension": ".py",
   "mimetype": "text/x-python",
   "name": "python",
   "nbconvert_exporter": "python",
   "pygments_lexer": "ipython3",
   "version": "3.7.6"
  }
 },
 "nbformat": 4,
 "nbformat_minor": 4
}
